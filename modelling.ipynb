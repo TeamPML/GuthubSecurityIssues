{
 "cells": [
  {
   "cell_type": "code",
   "execution_count": 19,
   "metadata": {},
   "outputs": [],
   "source": [
    "import pandas as pd\n",
    "import numpy as np\n",
    "import matplotlib.pyplot as plt"
   ]
  },
  {
   "cell_type": "code",
   "execution_count": 2,
   "metadata": {},
   "outputs": [],
   "source": [
    "df_sec = pd.read_csv('data/security_issues.csv')\n",
    "df_non_sec = pd.read_csv('data/non-security_issues.csv')"
   ]
  },
  {
   "cell_type": "code",
   "execution_count": 3,
   "metadata": {},
   "outputs": [
    {
     "data": {
      "text/html": [
       "<div>\n",
       "<style scoped>\n",
       "    .dataframe tbody tr th:only-of-type {\n",
       "        vertical-align: middle;\n",
       "    }\n",
       "\n",
       "    .dataframe tbody tr th {\n",
       "        vertical-align: top;\n",
       "    }\n",
       "\n",
       "    .dataframe thead th {\n",
       "        text-align: right;\n",
       "    }\n",
       "</style>\n",
       "<table border=\"1\" class=\"dataframe\">\n",
       "  <thead>\n",
       "    <tr style=\"text-align: right;\">\n",
       "      <th></th>\n",
       "      <th>repository</th>\n",
       "      <th>number</th>\n",
       "      <th>title</th>\n",
       "      <th>description</th>\n",
       "      <th>comments</th>\n",
       "      <th>is_pr</th>\n",
       "      <th>labels</th>\n",
       "      <th>is_sec</th>\n",
       "    </tr>\n",
       "  </thead>\n",
       "  <tbody>\n",
       "    <tr>\n",
       "      <th>0</th>\n",
       "      <td>matomo-org/matomo</td>\n",
       "      <td>10939</td>\n",
       "      <td>In Personal settings page and API page, only s...</td>\n",
       "      <td>To prevent API token authentication data leaka...</td>\n",
       "      <td>NaN</td>\n",
       "      <td>no</td>\n",
       "      <td>c: Security,</td>\n",
       "      <td>yes</td>\n",
       "    </tr>\n",
       "    <tr>\n",
       "      <th>1</th>\n",
       "      <td>matomo-org/matomo</td>\n",
       "      <td>6678</td>\n",
       "      <td>Task to automatically delete the scheduled rep...</td>\n",
       "      <td>The goal of this issue is to create a task to ...</td>\n",
       "      <td>Likely this is not needed now that reports are...</td>\n",
       "      <td>no</td>\n",
       "      <td>Task,wontfix,c: Security,c: Usability,</td>\n",
       "      <td>yes</td>\n",
       "    </tr>\n",
       "    <tr>\n",
       "      <th>2</th>\n",
       "      <td>matomo-org/matomo</td>\n",
       "      <td>11826</td>\n",
       "      <td>Check if prefixurl for api listing starts with...</td>\n",
       "      <td>NaN</td>\n",
       "      <td>NaN</td>\n",
       "      <td>yes</td>\n",
       "      <td>c: Security,not-in-changelog,Needs Review,</td>\n",
       "      <td>yes</td>\n",
       "    </tr>\n",
       "    <tr>\n",
       "      <th>3</th>\n",
       "      <td>matomo-org/matomo</td>\n",
       "      <td>17665</td>\n",
       "      <td>Disable logme functionality by default</td>\n",
       "      <td>### Description:\\r\\n\\r\\n\\r\\n\\r\\nLogme function...</td>\n",
       "      <td>@sgiehl should the developer changelog be upda...</td>\n",
       "      <td>yes</td>\n",
       "      <td>c: Security,Needs Review,</td>\n",
       "      <td>yes</td>\n",
       "    </tr>\n",
       "    <tr>\n",
       "      <th>4</th>\n",
       "      <td>matomo-org/matomo</td>\n",
       "      <td>17545</td>\n",
       "      <td>Ensure login is set for brute force log when 2...</td>\n",
       "      <td>### Description:\\r\\n\\r\\n\\r\\n\\r\\nFollow up to #...</td>\n",
       "      <td>Tested locally, works</td>\n",
       "      <td>yes</td>\n",
       "      <td>c: Security,not-in-changelog,Needs Review,</td>\n",
       "      <td>yes</td>\n",
       "    </tr>\n",
       "    <tr>\n",
       "      <th>...</th>\n",
       "      <td>...</td>\n",
       "      <td>...</td>\n",
       "      <td>...</td>\n",
       "      <td>...</td>\n",
       "      <td>...</td>\n",
       "      <td>...</td>\n",
       "      <td>...</td>\n",
       "      <td>...</td>\n",
       "    </tr>\n",
       "    <tr>\n",
       "      <th>9687</th>\n",
       "      <td>dropwizard/dropwizard</td>\n",
       "      <td>2511</td>\n",
       "      <td>Add safe Jackson deserializers to prevent a Do...</td>\n",
       "      <td>Jackson uses `BigDecimal` for deserialization ...</td>\n",
       "      <td>@dropwizard/committers Please review@nickbabco...</td>\n",
       "      <td>yes</td>\n",
       "      <td>bug,security,</td>\n",
       "      <td>yes</td>\n",
       "    </tr>\n",
       "    <tr>\n",
       "      <th>9688</th>\n",
       "      <td>dropwizard/dropwizard</td>\n",
       "      <td>5385</td>\n",
       "      <td>Generate SBOM for Dropwizard using CycloneDX M...</td>\n",
       "      <td>https://cyclonedx.org/\\r\\r\\nhttps://github.com...</td>\n",
       "      <td>\\r\\n\\r\\n&lt;a href=\"https://gitpod.io/#https://gi...</td>\n",
       "      <td>yes</td>\n",
       "      <td>task,security,</td>\n",
       "      <td>yes</td>\n",
       "    </tr>\n",
       "    <tr>\n",
       "      <th>9689</th>\n",
       "      <td>dropwizard/dropwizard</td>\n",
       "      <td>3533</td>\n",
       "      <td>Replace invalid default excludedProtocols in H...</td>\n",
       "      <td>The default list of excluded protocols used in...</td>\n",
       "      <td>Kudos, SonarCloud Quality Gate passed!\\r\\n\\r\\n...</td>\n",
       "      <td>yes</td>\n",
       "      <td>bug,security,</td>\n",
       "      <td>yes</td>\n",
       "    </tr>\n",
       "    <tr>\n",
       "      <th>9690</th>\n",
       "      <td>dropwizard/dropwizard</td>\n",
       "      <td>2505</td>\n",
       "      <td>Try to fix problems with deploying snapshots t...</td>\n",
       "      <td>###### Problem:\\r\\r\\nWe use HTTP and the the b...</td>\n",
       "      <td>NaN</td>\n",
       "      <td>yes</td>\n",
       "      <td>improvement,security,</td>\n",
       "      <td>yes</td>\n",
       "    </tr>\n",
       "    <tr>\n",
       "      <th>9691</th>\n",
       "      <td>dropwizard/dropwizard</td>\n",
       "      <td>2667</td>\n",
       "      <td>Verify dependency signatures during build</td>\n",
       "      <td>➡️ https://www.simplify4u.org/pgpverify-maven-...</td>\n",
       "      <td>The build on Travis CI currently fails due to ...</td>\n",
       "      <td>yes</td>\n",
       "      <td>security,</td>\n",
       "      <td>yes</td>\n",
       "    </tr>\n",
       "  </tbody>\n",
       "</table>\n",
       "<p>9692 rows × 8 columns</p>\n",
       "</div>"
      ],
      "text/plain": [
       "                 repository  number  \\\n",
       "0         matomo-org/matomo   10939   \n",
       "1         matomo-org/matomo    6678   \n",
       "2         matomo-org/matomo   11826   \n",
       "3         matomo-org/matomo   17665   \n",
       "4         matomo-org/matomo   17545   \n",
       "...                     ...     ...   \n",
       "9687  dropwizard/dropwizard    2511   \n",
       "9688  dropwizard/dropwizard    5385   \n",
       "9689  dropwizard/dropwizard    3533   \n",
       "9690  dropwizard/dropwizard    2505   \n",
       "9691  dropwizard/dropwizard    2667   \n",
       "\n",
       "                                                  title  \\\n",
       "0     In Personal settings page and API page, only s...   \n",
       "1     Task to automatically delete the scheduled rep...   \n",
       "2     Check if prefixurl for api listing starts with...   \n",
       "3                Disable logme functionality by default   \n",
       "4     Ensure login is set for brute force log when 2...   \n",
       "...                                                 ...   \n",
       "9687  Add safe Jackson deserializers to prevent a Do...   \n",
       "9688  Generate SBOM for Dropwizard using CycloneDX M...   \n",
       "9689  Replace invalid default excludedProtocols in H...   \n",
       "9690  Try to fix problems with deploying snapshots t...   \n",
       "9691          Verify dependency signatures during build   \n",
       "\n",
       "                                            description  \\\n",
       "0     To prevent API token authentication data leaka...   \n",
       "1     The goal of this issue is to create a task to ...   \n",
       "2                                                   NaN   \n",
       "3     ### Description:\\r\\n\\r\\n\\r\\n\\r\\nLogme function...   \n",
       "4     ### Description:\\r\\n\\r\\n\\r\\n\\r\\nFollow up to #...   \n",
       "...                                                 ...   \n",
       "9687  Jackson uses `BigDecimal` for deserialization ...   \n",
       "9688  https://cyclonedx.org/\\r\\r\\nhttps://github.com...   \n",
       "9689  The default list of excluded protocols used in...   \n",
       "9690  ###### Problem:\\r\\r\\nWe use HTTP and the the b...   \n",
       "9691  ➡️ https://www.simplify4u.org/pgpverify-maven-...   \n",
       "\n",
       "                                               comments is_pr  \\\n",
       "0                                                   NaN    no   \n",
       "1     Likely this is not needed now that reports are...    no   \n",
       "2                                                   NaN   yes   \n",
       "3     @sgiehl should the developer changelog be upda...   yes   \n",
       "4                                 Tested locally, works   yes   \n",
       "...                                                 ...   ...   \n",
       "9687  @dropwizard/committers Please review@nickbabco...   yes   \n",
       "9688  \\r\\n\\r\\n<a href=\"https://gitpod.io/#https://gi...   yes   \n",
       "9689  Kudos, SonarCloud Quality Gate passed!\\r\\n\\r\\n...   yes   \n",
       "9690                                                NaN   yes   \n",
       "9691  The build on Travis CI currently fails due to ...   yes   \n",
       "\n",
       "                                          labels is_sec  \n",
       "0                                   c: Security,    yes  \n",
       "1         Task,wontfix,c: Security,c: Usability,    yes  \n",
       "2     c: Security,not-in-changelog,Needs Review,    yes  \n",
       "3                      c: Security,Needs Review,    yes  \n",
       "4     c: Security,not-in-changelog,Needs Review,    yes  \n",
       "...                                          ...    ...  \n",
       "9687                               bug,security,    yes  \n",
       "9688                              task,security,    yes  \n",
       "9689                               bug,security,    yes  \n",
       "9690                       improvement,security,    yes  \n",
       "9691                                   security,    yes  \n",
       "\n",
       "[9692 rows x 8 columns]"
      ]
     },
     "execution_count": 3,
     "metadata": {},
     "output_type": "execute_result"
    }
   ],
   "source": [
    "df_sec"
   ]
  },
  {
   "cell_type": "code",
   "execution_count": 4,
   "metadata": {},
   "outputs": [
    {
     "data": {
      "text/html": [
       "<div>\n",
       "<style scoped>\n",
       "    .dataframe tbody tr th:only-of-type {\n",
       "        vertical-align: middle;\n",
       "    }\n",
       "\n",
       "    .dataframe tbody tr th {\n",
       "        vertical-align: top;\n",
       "    }\n",
       "\n",
       "    .dataframe thead th {\n",
       "        text-align: right;\n",
       "    }\n",
       "</style>\n",
       "<table border=\"1\" class=\"dataframe\">\n",
       "  <thead>\n",
       "    <tr style=\"text-align: right;\">\n",
       "      <th></th>\n",
       "      <th>repository</th>\n",
       "      <th>number</th>\n",
       "      <th>title</th>\n",
       "      <th>description</th>\n",
       "      <th>comments</th>\n",
       "      <th>is_pr</th>\n",
       "      <th>labels</th>\n",
       "      <th>is_sec</th>\n",
       "    </tr>\n",
       "  </thead>\n",
       "  <tbody>\n",
       "    <tr>\n",
       "      <th>0</th>\n",
       "      <td>matomo-org/matomo</td>\n",
       "      <td>19865</td>\n",
       "      <td>Make the copy the dashboard to user feature co...</td>\n",
       "      <td>Hi all,\\r\\n\\r\\nnot sure where to put this tick...</td>\n",
       "      <td>NaN</td>\n",
       "      <td>no</td>\n",
       "      <td>Enhancement,</td>\n",
       "      <td>no</td>\n",
       "    </tr>\n",
       "    <tr>\n",
       "      <th>1</th>\n",
       "      <td>matomo-org/matomo</td>\n",
       "      <td>19864</td>\n",
       "      <td>Allow user to define a custom name for the tra...</td>\n",
       "      <td>A user suggests:\\r\\n\\r\\n\\r\\n\\r\\n_The stats tra...</td>\n",
       "      <td>@atom-box thank you for making useful ticketsH...</td>\n",
       "      <td>no</td>\n",
       "      <td>Enhancement,</td>\n",
       "      <td>no</td>\n",
       "    </tr>\n",
       "    <tr>\n",
       "      <th>2</th>\n",
       "      <td>matomo-org/matomo</td>\n",
       "      <td>19862</td>\n",
       "      <td>Callback in sendRequest() / trackPageView() is...</td>\n",
       "      <td>## Expected Behavior\\r\\n\\r\\nThe callback in a ...</td>\n",
       "      <td>For anyone having the same issue, this is my w...</td>\n",
       "      <td>no</td>\n",
       "      <td>Potential Bug,</td>\n",
       "      <td>no</td>\n",
       "    </tr>\n",
       "    <tr>\n",
       "      <th>3</th>\n",
       "      <td>matomo-org/matomo</td>\n",
       "      <td>19861</td>\n",
       "      <td>Ensure password check can only throw wrong pas...</td>\n",
       "      <td>### Description:\\r\\n\\r\\n\\r\\n\\r\\nrefs #19857\\r\\...</td>\n",
       "      <td>NaN</td>\n",
       "      <td>yes</td>\n",
       "      <td>Needs Review,</td>\n",
       "      <td>no</td>\n",
       "    </tr>\n",
       "    <tr>\n",
       "      <th>4</th>\n",
       "      <td>matomo-org/matomo</td>\n",
       "      <td>19860</td>\n",
       "      <td>[automatic composer updates]</td>\n",
       "      <td>composer update log:\\r\\n```\\r\\nLoading compose...</td>\n",
       "      <td>NaN</td>\n",
       "      <td>yes</td>\n",
       "      <td>not-in-changelog,</td>\n",
       "      <td>no</td>\n",
       "    </tr>\n",
       "    <tr>\n",
       "      <th>...</th>\n",
       "      <td>...</td>\n",
       "      <td>...</td>\n",
       "      <td>...</td>\n",
       "      <td>...</td>\n",
       "      <td>...</td>\n",
       "      <td>...</td>\n",
       "      <td>...</td>\n",
       "      <td>...</td>\n",
       "    </tr>\n",
       "    <tr>\n",
       "      <th>36086</th>\n",
       "      <td>ipython/ipython</td>\n",
       "      <td>12557</td>\n",
       "      <td>Use pathlib in page.py</td>\n",
       "      <td>#12515 Change the tmpname to tmppath, and find...</td>\n",
       "      <td>Thanks !</td>\n",
       "      <td>yes</td>\n",
       "      <td>8.0 what's new,</td>\n",
       "      <td>no</td>\n",
       "    </tr>\n",
       "    <tr>\n",
       "      <th>36087</th>\n",
       "      <td>ipython/ipython</td>\n",
       "      <td>12552</td>\n",
       "      <td>use pathlib in fixup_whats_new_pr.py</td>\n",
       "      <td>Related to https://github.com/ipython/ipython/...</td>\n",
       "      <td>Perfect ! Thanks !</td>\n",
       "      <td>yes</td>\n",
       "      <td>8.0 what's new,</td>\n",
       "      <td>no</td>\n",
       "    </tr>\n",
       "    <tr>\n",
       "      <th>36088</th>\n",
       "      <td>ipython/ipython</td>\n",
       "      <td>12551</td>\n",
       "      <td>Invalid exec call crashed IPython shell</td>\n",
       "      <td>The following code snippet, when typed into an...</td>\n",
       "      <td>This still happens with IPython 7.19.0.This st...</td>\n",
       "      <td>no</td>\n",
       "      <td>bug,</td>\n",
       "      <td>no</td>\n",
       "    </tr>\n",
       "    <tr>\n",
       "      <th>36089</th>\n",
       "      <td>ipython/ipython</td>\n",
       "      <td>12545</td>\n",
       "      <td>more useful feedback on style checker</td>\n",
       "      <td>follow-up to #12502 \\r\\r\\n\\r\\r\\n- give copy-pa...</td>\n",
       "      <td>I'm unsure about `$TRAVIS_COMMIT_RANGE`, with ...</td>\n",
       "      <td>yes</td>\n",
       "      <td>8.0 what's new,</td>\n",
       "      <td>no</td>\n",
       "    </tr>\n",
       "    <tr>\n",
       "      <th>36090</th>\n",
       "      <td>ipython/ipython</td>\n",
       "      <td>12544</td>\n",
       "      <td>Use pathlib for edit magic command</td>\n",
       "      <td>Change 'with open' to use Pathlib instead.\\r\\r...</td>\n",
       "      <td>Good teamwork !\\r\\r\\n\\r\\r\\nI've push some form...</td>\n",
       "      <td>yes</td>\n",
       "      <td>8.0 what's new,</td>\n",
       "      <td>no</td>\n",
       "    </tr>\n",
       "  </tbody>\n",
       "</table>\n",
       "<p>36091 rows × 8 columns</p>\n",
       "</div>"
      ],
      "text/plain": [
       "              repository  number  \\\n",
       "0      matomo-org/matomo   19865   \n",
       "1      matomo-org/matomo   19864   \n",
       "2      matomo-org/matomo   19862   \n",
       "3      matomo-org/matomo   19861   \n",
       "4      matomo-org/matomo   19860   \n",
       "...                  ...     ...   \n",
       "36086    ipython/ipython   12557   \n",
       "36087    ipython/ipython   12552   \n",
       "36088    ipython/ipython   12551   \n",
       "36089    ipython/ipython   12545   \n",
       "36090    ipython/ipython   12544   \n",
       "\n",
       "                                                   title  \\\n",
       "0      Make the copy the dashboard to user feature co...   \n",
       "1      Allow user to define a custom name for the tra...   \n",
       "2      Callback in sendRequest() / trackPageView() is...   \n",
       "3      Ensure password check can only throw wrong pas...   \n",
       "4                           [automatic composer updates]   \n",
       "...                                                  ...   \n",
       "36086                             Use pathlib in page.py   \n",
       "36087               use pathlib in fixup_whats_new_pr.py   \n",
       "36088            Invalid exec call crashed IPython shell   \n",
       "36089              more useful feedback on style checker   \n",
       "36090                 Use pathlib for edit magic command   \n",
       "\n",
       "                                             description  \\\n",
       "0      Hi all,\\r\\n\\r\\nnot sure where to put this tick...   \n",
       "1      A user suggests:\\r\\n\\r\\n\\r\\n\\r\\n_The stats tra...   \n",
       "2      ## Expected Behavior\\r\\n\\r\\nThe callback in a ...   \n",
       "3      ### Description:\\r\\n\\r\\n\\r\\n\\r\\nrefs #19857\\r\\...   \n",
       "4      composer update log:\\r\\n```\\r\\nLoading compose...   \n",
       "...                                                  ...   \n",
       "36086  #12515 Change the tmpname to tmppath, and find...   \n",
       "36087  Related to https://github.com/ipython/ipython/...   \n",
       "36088  The following code snippet, when typed into an...   \n",
       "36089  follow-up to #12502 \\r\\r\\n\\r\\r\\n- give copy-pa...   \n",
       "36090  Change 'with open' to use Pathlib instead.\\r\\r...   \n",
       "\n",
       "                                                comments is_pr  \\\n",
       "0                                                    NaN    no   \n",
       "1      @atom-box thank you for making useful ticketsH...    no   \n",
       "2      For anyone having the same issue, this is my w...    no   \n",
       "3                                                    NaN   yes   \n",
       "4                                                    NaN   yes   \n",
       "...                                                  ...   ...   \n",
       "36086                                           Thanks !   yes   \n",
       "36087                                 Perfect ! Thanks !   yes   \n",
       "36088  This still happens with IPython 7.19.0.This st...    no   \n",
       "36089  I'm unsure about `$TRAVIS_COMMIT_RANGE`, with ...   yes   \n",
       "36090  Good teamwork !\\r\\r\\n\\r\\r\\nI've push some form...   yes   \n",
       "\n",
       "                  labels is_sec  \n",
       "0           Enhancement,     no  \n",
       "1           Enhancement,     no  \n",
       "2         Potential Bug,     no  \n",
       "3          Needs Review,     no  \n",
       "4      not-in-changelog,     no  \n",
       "...                  ...    ...  \n",
       "36086    8.0 what's new,     no  \n",
       "36087    8.0 what's new,     no  \n",
       "36088               bug,     no  \n",
       "36089    8.0 what's new,     no  \n",
       "36090    8.0 what's new,     no  \n",
       "\n",
       "[36091 rows x 8 columns]"
      ]
     },
     "execution_count": 4,
     "metadata": {},
     "output_type": "execute_result"
    }
   ],
   "source": [
    "df_non_sec"
   ]
  },
  {
   "cell_type": "markdown",
   "metadata": {},
   "source": [
    "## Classification by Title"
   ]
  },
  {
   "cell_type": "code",
   "execution_count": 5,
   "metadata": {},
   "outputs": [],
   "source": [
    "df = pd.concat([df_sec, df_non_sec])"
   ]
  },
  {
   "cell_type": "code",
   "execution_count": 6,
   "metadata": {},
   "outputs": [
    {
     "data": {
      "text/html": [
       "<div>\n",
       "<style scoped>\n",
       "    .dataframe tbody tr th:only-of-type {\n",
       "        vertical-align: middle;\n",
       "    }\n",
       "\n",
       "    .dataframe tbody tr th {\n",
       "        vertical-align: top;\n",
       "    }\n",
       "\n",
       "    .dataframe thead th {\n",
       "        text-align: right;\n",
       "    }\n",
       "</style>\n",
       "<table border=\"1\" class=\"dataframe\">\n",
       "  <thead>\n",
       "    <tr style=\"text-align: right;\">\n",
       "      <th></th>\n",
       "      <th>title</th>\n",
       "      <th>is_sec</th>\n",
       "    </tr>\n",
       "  </thead>\n",
       "  <tbody>\n",
       "    <tr>\n",
       "      <th>0</th>\n",
       "      <td>In Personal settings page and API page, only s...</td>\n",
       "      <td>yes</td>\n",
       "    </tr>\n",
       "    <tr>\n",
       "      <th>1</th>\n",
       "      <td>Task to automatically delete the scheduled rep...</td>\n",
       "      <td>yes</td>\n",
       "    </tr>\n",
       "    <tr>\n",
       "      <th>2</th>\n",
       "      <td>Check if prefixurl for api listing starts with...</td>\n",
       "      <td>yes</td>\n",
       "    </tr>\n",
       "    <tr>\n",
       "      <th>3</th>\n",
       "      <td>Disable logme functionality by default</td>\n",
       "      <td>yes</td>\n",
       "    </tr>\n",
       "    <tr>\n",
       "      <th>4</th>\n",
       "      <td>Ensure login is set for brute force log when 2...</td>\n",
       "      <td>yes</td>\n",
       "    </tr>\n",
       "    <tr>\n",
       "      <th>...</th>\n",
       "      <td>...</td>\n",
       "      <td>...</td>\n",
       "    </tr>\n",
       "    <tr>\n",
       "      <th>36086</th>\n",
       "      <td>Use pathlib in page.py</td>\n",
       "      <td>no</td>\n",
       "    </tr>\n",
       "    <tr>\n",
       "      <th>36087</th>\n",
       "      <td>use pathlib in fixup_whats_new_pr.py</td>\n",
       "      <td>no</td>\n",
       "    </tr>\n",
       "    <tr>\n",
       "      <th>36088</th>\n",
       "      <td>Invalid exec call crashed IPython shell</td>\n",
       "      <td>no</td>\n",
       "    </tr>\n",
       "    <tr>\n",
       "      <th>36089</th>\n",
       "      <td>more useful feedback on style checker</td>\n",
       "      <td>no</td>\n",
       "    </tr>\n",
       "    <tr>\n",
       "      <th>36090</th>\n",
       "      <td>Use pathlib for edit magic command</td>\n",
       "      <td>no</td>\n",
       "    </tr>\n",
       "  </tbody>\n",
       "</table>\n",
       "<p>45783 rows × 2 columns</p>\n",
       "</div>"
      ],
      "text/plain": [
       "                                                   title is_sec\n",
       "0      In Personal settings page and API page, only s...    yes\n",
       "1      Task to automatically delete the scheduled rep...    yes\n",
       "2      Check if prefixurl for api listing starts with...    yes\n",
       "3                 Disable logme functionality by default    yes\n",
       "4      Ensure login is set for brute force log when 2...    yes\n",
       "...                                                  ...    ...\n",
       "36086                             Use pathlib in page.py     no\n",
       "36087               use pathlib in fixup_whats_new_pr.py     no\n",
       "36088            Invalid exec call crashed IPython shell     no\n",
       "36089              more useful feedback on style checker     no\n",
       "36090                 Use pathlib for edit magic command     no\n",
       "\n",
       "[45783 rows x 2 columns]"
      ]
     },
     "execution_count": 6,
     "metadata": {},
     "output_type": "execute_result"
    }
   ],
   "source": [
    "title_df = df[['title', 'is_sec']]\n",
    "title_df"
   ]
  },
  {
   "cell_type": "code",
   "execution_count": 7,
   "metadata": {},
   "outputs": [
    {
     "name": "stderr",
     "output_type": "stream",
     "text": [
      "C:\\Users\\datapaf\\AppData\\Local\\Temp\\ipykernel_7420\\2890122089.py:2: SettingWithCopyWarning: \n",
      "A value is trying to be set on a copy of a slice from a DataFrame.\n",
      "Try using .loc[row_indexer,col_indexer] = value instead\n",
      "\n",
      "See the caveats in the documentation: https://pandas.pydata.org/pandas-docs/stable/user_guide/indexing.html#returning-a-view-versus-a-copy\n",
      "  title_df['is_sec'] = title_df['is_sec'].map({'yes': 1, 'no': 0})\n"
     ]
    }
   ],
   "source": [
    "# encode is_sec column using pandas\n",
    "title_df['is_sec'] = title_df['is_sec'].map({'yes': 1, 'no': 0})"
   ]
  },
  {
   "cell_type": "code",
   "execution_count": 8,
   "metadata": {},
   "outputs": [
    {
     "data": {
      "text/html": [
       "<div>\n",
       "<style scoped>\n",
       "    .dataframe tbody tr th:only-of-type {\n",
       "        vertical-align: middle;\n",
       "    }\n",
       "\n",
       "    .dataframe tbody tr th {\n",
       "        vertical-align: top;\n",
       "    }\n",
       "\n",
       "    .dataframe thead th {\n",
       "        text-align: right;\n",
       "    }\n",
       "</style>\n",
       "<table border=\"1\" class=\"dataframe\">\n",
       "  <thead>\n",
       "    <tr style=\"text-align: right;\">\n",
       "      <th></th>\n",
       "      <th>title</th>\n",
       "      <th>is_sec</th>\n",
       "    </tr>\n",
       "  </thead>\n",
       "  <tbody>\n",
       "    <tr>\n",
       "      <th>0</th>\n",
       "      <td>In Personal settings page and API page, only s...</td>\n",
       "      <td>1</td>\n",
       "    </tr>\n",
       "    <tr>\n",
       "      <th>1</th>\n",
       "      <td>Task to automatically delete the scheduled rep...</td>\n",
       "      <td>1</td>\n",
       "    </tr>\n",
       "    <tr>\n",
       "      <th>2</th>\n",
       "      <td>Check if prefixurl for api listing starts with...</td>\n",
       "      <td>1</td>\n",
       "    </tr>\n",
       "    <tr>\n",
       "      <th>3</th>\n",
       "      <td>Disable logme functionality by default</td>\n",
       "      <td>1</td>\n",
       "    </tr>\n",
       "    <tr>\n",
       "      <th>4</th>\n",
       "      <td>Ensure login is set for brute force log when 2...</td>\n",
       "      <td>1</td>\n",
       "    </tr>\n",
       "    <tr>\n",
       "      <th>...</th>\n",
       "      <td>...</td>\n",
       "      <td>...</td>\n",
       "    </tr>\n",
       "    <tr>\n",
       "      <th>36086</th>\n",
       "      <td>Use pathlib in page.py</td>\n",
       "      <td>0</td>\n",
       "    </tr>\n",
       "    <tr>\n",
       "      <th>36087</th>\n",
       "      <td>use pathlib in fixup_whats_new_pr.py</td>\n",
       "      <td>0</td>\n",
       "    </tr>\n",
       "    <tr>\n",
       "      <th>36088</th>\n",
       "      <td>Invalid exec call crashed IPython shell</td>\n",
       "      <td>0</td>\n",
       "    </tr>\n",
       "    <tr>\n",
       "      <th>36089</th>\n",
       "      <td>more useful feedback on style checker</td>\n",
       "      <td>0</td>\n",
       "    </tr>\n",
       "    <tr>\n",
       "      <th>36090</th>\n",
       "      <td>Use pathlib for edit magic command</td>\n",
       "      <td>0</td>\n",
       "    </tr>\n",
       "  </tbody>\n",
       "</table>\n",
       "<p>45783 rows × 2 columns</p>\n",
       "</div>"
      ],
      "text/plain": [
       "                                                   title  is_sec\n",
       "0      In Personal settings page and API page, only s...       1\n",
       "1      Task to automatically delete the scheduled rep...       1\n",
       "2      Check if prefixurl for api listing starts with...       1\n",
       "3                 Disable logme functionality by default       1\n",
       "4      Ensure login is set for brute force log when 2...       1\n",
       "...                                                  ...     ...\n",
       "36086                             Use pathlib in page.py       0\n",
       "36087               use pathlib in fixup_whats_new_pr.py       0\n",
       "36088            Invalid exec call crashed IPython shell       0\n",
       "36089              more useful feedback on style checker       0\n",
       "36090                 Use pathlib for edit magic command       0\n",
       "\n",
       "[45783 rows x 2 columns]"
      ]
     },
     "execution_count": 8,
     "metadata": {},
     "output_type": "execute_result"
    }
   ],
   "source": [
    "title_df"
   ]
  },
  {
   "cell_type": "code",
   "execution_count": 9,
   "metadata": {},
   "outputs": [
    {
     "data": {
      "text/plain": [
       "<AxesSubplot:>"
      ]
     },
     "execution_count": 9,
     "metadata": {},
     "output_type": "execute_result"
    },
    {
     "data": {
      "image/png": "[encoded data removed]",
      "text/plain": [
       "<Figure size 640x480 with 1 Axes>"
      ]
     },
     "metadata": {},
     "output_type": "display_data"
    }
   ],
   "source": [
    "# plot distribution of is_sec in percentage\n",
    "title_df['is_sec'].value_counts(normalize=True).plot(kind='bar')"
   ]
  },
  {
   "cell_type": "markdown",
   "metadata": {},
   "source": [
    "The dataset is disbalanced"
   ]
  },
  {
   "cell_type": "markdown",
   "metadata": {},
   "source": [
    "Undersample the majority class (non-security issues)"
   ]
  },
  {
   "cell_type": "code",
   "execution_count": 73,
   "metadata": {},
   "outputs": [
    {
     "name": "stderr",
     "output_type": "stream",
     "text": [
      "C:\\Users\\datapaf\\AppData\\Local\\Temp\\ipykernel_7420\\614646261.py:3: SettingWithCopyWarning: \n",
      "A value is trying to be set on a copy of a slice from a DataFrame.\n",
      "Try using .loc[row_indexer,col_indexer] = value instead\n",
      "\n",
      "See the caveats in the documentation: https://pandas.pydata.org/pandas-docs/stable/user_guide/indexing.html#returning-a-view-versus-a-copy\n",
      "  title_df['is_sec'] = title_df['is_sec'].map({'yes': 1, 'no': 0})\n"
     ]
    },
    {
     "data": {
      "text/html": [
       "<div>\n",
       "<style scoped>\n",
       "    .dataframe tbody tr th:only-of-type {\n",
       "        vertical-align: middle;\n",
       "    }\n",
       "\n",
       "    .dataframe tbody tr th {\n",
       "        vertical-align: top;\n",
       "    }\n",
       "\n",
       "    .dataframe thead th {\n",
       "        text-align: right;\n",
       "    }\n",
       "</style>\n",
       "<table border=\"1\" class=\"dataframe\">\n",
       "  <thead>\n",
       "    <tr style=\"text-align: right;\">\n",
       "      <th></th>\n",
       "      <th>title</th>\n",
       "      <th>is_sec</th>\n",
       "    </tr>\n",
       "  </thead>\n",
       "  <tbody>\n",
       "    <tr>\n",
       "      <th>0</th>\n",
       "      <td>In Personal settings page and API page, only s...</td>\n",
       "      <td>1</td>\n",
       "    </tr>\n",
       "    <tr>\n",
       "      <th>1</th>\n",
       "      <td>Task to automatically delete the scheduled rep...</td>\n",
       "      <td>1</td>\n",
       "    </tr>\n",
       "    <tr>\n",
       "      <th>2</th>\n",
       "      <td>Check if prefixurl for api listing starts with...</td>\n",
       "      <td>1</td>\n",
       "    </tr>\n",
       "    <tr>\n",
       "      <th>3</th>\n",
       "      <td>Disable logme functionality by default</td>\n",
       "      <td>1</td>\n",
       "    </tr>\n",
       "    <tr>\n",
       "      <th>4</th>\n",
       "      <td>Ensure login is set for brute force log when 2...</td>\n",
       "      <td>1</td>\n",
       "    </tr>\n",
       "    <tr>\n",
       "      <th>...</th>\n",
       "      <td>...</td>\n",
       "      <td>...</td>\n",
       "    </tr>\n",
       "    <tr>\n",
       "      <th>8704</th>\n",
       "      <td>Update copyright to 2021</td>\n",
       "      <td>0</td>\n",
       "    </tr>\n",
       "    <tr>\n",
       "      <th>17512</th>\n",
       "      <td>feat(bitwarden): completions and bw_unlock bw_...</td>\n",
       "      <td>0</td>\n",
       "    </tr>\n",
       "    <tr>\n",
       "      <th>2178</th>\n",
       "      <td>Warn if frameworks are loaded too early</td>\n",
       "      <td>0</td>\n",
       "    </tr>\n",
       "    <tr>\n",
       "      <th>29593</th>\n",
       "      <td>Fix plugin wiring in yaml rest test plugin</td>\n",
       "      <td>0</td>\n",
       "    </tr>\n",
       "    <tr>\n",
       "      <th>35831</th>\n",
       "      <td>Try to enable codecov status</td>\n",
       "      <td>0</td>\n",
       "    </tr>\n",
       "  </tbody>\n",
       "</table>\n",
       "<p>19384 rows × 2 columns</p>\n",
       "</div>"
      ],
      "text/plain": [
       "                                                   title  is_sec\n",
       "0      In Personal settings page and API page, only s...       1\n",
       "1      Task to automatically delete the scheduled rep...       1\n",
       "2      Check if prefixurl for api listing starts with...       1\n",
       "3                 Disable logme functionality by default       1\n",
       "4      Ensure login is set for brute force log when 2...       1\n",
       "...                                                  ...     ...\n",
       "8704                            Update copyright to 2021       0\n",
       "17512  feat(bitwarden): completions and bw_unlock bw_...       0\n",
       "2178             Warn if frameworks are loaded too early       0\n",
       "29593         Fix plugin wiring in yaml rest test plugin       0\n",
       "35831                       Try to enable codecov status       0\n",
       "\n",
       "[19384 rows x 2 columns]"
      ]
     },
     "execution_count": 73,
     "metadata": {},
     "output_type": "execute_result"
    }
   ],
   "source": [
    "df_non_sec = df_non_sec.sample(n=len(df_sec), random_state=42)\n",
    "\n",
    "df = pd.concat([df_sec, df_non_sec])\n",
    "title_df = df[['title', 'is_sec']]\n",
    "title_df['is_sec'] = title_df['is_sec'].map({'yes': 1, 'no': 0})\n",
    "title_df"
   ]
  },
  {
   "cell_type": "code",
   "execution_count": 74,
   "metadata": {},
   "outputs": [
    {
     "data": {
      "text/plain": [
       "<AxesSubplot:>"
      ]
     },
     "execution_count": 74,
     "metadata": {},
     "output_type": "execute_result"
    },
    {
     "data": {
      "image/png": "[encoded data removed]",
      "text/plain": [
       "<Figure size 640x480 with 1 Axes>"
      ]
     },
     "metadata": {},
     "output_type": "display_data"
    }
   ],
   "source": [
    "title_df['is_sec'].value_counts(normalize=True).plot(kind='bar')"
   ]
  },
  {
   "cell_type": "markdown",
   "metadata": {},
   "source": [
    "### Single bidirectional LSTM"
   ]
  },
  {
   "cell_type": "code",
   "execution_count": 62,
   "metadata": {},
   "outputs": [],
   "source": [
    "# split data into train and test with stratification\n",
    "from sklearn.model_selection import train_test_split\n",
    "\n",
    "X_train, X_test, y_train, y_test = train_test_split(\n",
    "    title_df['title'],\n",
    "    title_df['is_sec'],\n",
    "    test_size=0.2,\n",
    "    random_state=42,\n",
    "    stratify=title_df['is_sec']\n",
    ")"
   ]
  },
  {
   "cell_type": "code",
   "execution_count": 63,
   "metadata": {},
   "outputs": [],
   "source": [
    "# create tensorflow dataset\n",
    "import tensorflow as tf\n",
    "\n",
    "train_ds = tf.data.Dataset.from_tensor_slices((X_train, y_train))\n",
    "test_ds = tf.data.Dataset.from_tensor_slices((X_test, y_test))"
   ]
  },
  {
   "cell_type": "code",
   "execution_count": 64,
   "metadata": {},
   "outputs": [],
   "source": [
    "# create batches\n",
    "train_ds = train_ds.batch(64).prefetch(tf.data.AUTOTUNE)\n",
    "test_ds = test_ds.batch(64).prefetch(tf.data.AUTOTUNE)"
   ]
  },
  {
   "cell_type": "code",
   "execution_count": 67,
   "metadata": {},
   "outputs": [],
   "source": [
    "# create text encoder\n",
    "\n",
    "# TODO: increase vocab size\n",
    "VOCAB_SIZE = 1000\n",
    "\n",
    "encoder = tf.keras.layers.TextVectorization(max_tokens=VOCAB_SIZE)\n",
    "encoder.adapt(train_ds.map(lambda text, label: text))"
   ]
  },
  {
   "cell_type": "code",
   "execution_count": 68,
   "metadata": {},
   "outputs": [
    {
     "data": {
      "text/plain": [
       "array(['', '[UNK]', 'to', 'in', 'for', 'the', 'from', 'add', 'of', 'not',\n",
       "       'on', 'with', 'and', 'a', 'fix', 'when', 'is', 'security',\n",
       "       'update', 'bump'], dtype='<U19')"
      ]
     },
     "execution_count": 68,
     "metadata": {},
     "output_type": "execute_result"
    }
   ],
   "source": [
    "vocab = np.array(encoder.get_vocabulary())\n",
    "vocab[:20]"
   ]
  },
  {
   "cell_type": "code",
   "execution_count": 69,
   "metadata": {},
   "outputs": [],
   "source": [
    "# create model\n",
    "model = tf.keras.Sequential([\n",
    "    encoder,\n",
    "    tf.keras.layers.Embedding(\n",
    "        input_dim=len(encoder.get_vocabulary()),\n",
    "        output_dim=64,\n",
    "        mask_zero=True\n",
    "    ),\n",
    "    tf.keras.layers.Bidirectional(tf.keras.layers.LSTM(64)),\n",
    "    tf.keras.layers.Dense(64, activation='relu'),\n",
    "    tf.keras.layers.Dense(1)\n",
    "])"
   ]
  },
  {
   "cell_type": "code",
   "execution_count": 70,
   "metadata": {},
   "outputs": [],
   "source": [
    "from tensorflow.keras.metrics import Recall, BinaryAccuracy, Precision\n",
    "\n",
    "# compile model\n",
    "model.compile(\n",
    "    loss=tf.keras.losses.BinaryCrossentropy(from_logits=True),\n",
    "    optimizer=tf.keras.optimizers.Adam(1e-4),\n",
    "    metrics=[BinaryAccuracy(), Recall(), Precision()]\n",
    ")\n",
    "\n"
   ]
  },
  {
   "cell_type": "code",
   "execution_count": 71,
   "metadata": {},
   "outputs": [
    {
     "name": "stdout",
     "output_type": "stream",
     "text": [
      "Epoch 1/5\n",
      "573/573 [==============================] - 17s 22ms/step - loss: 0.4963 - binary_accuracy: 0.7920 - recall_7: 0.0196 - precision_7: 0.9102 - val_loss: 0.3770 - val_binary_accuracy: 0.8458 - val_recall_7: 0.3141 - val_precision_7: 0.9291\n",
      "Epoch 2/5\n",
      "573/573 [==============================] - 11s 19ms/step - loss: 0.3144 - binary_accuracy: 0.8789 - recall_7: 0.4874 - precision_7: 0.8913 - val_loss: 0.3131 - val_binary_accuracy: 0.8807 - val_recall_7: 0.5300 - val_precision_7: 0.8701\n",
      "Epoch 3/5\n",
      "573/573 [==============================] - 10s 18ms/step - loss: 0.2863 - binary_accuracy: 0.8905 - recall_7: 0.5455 - precision_7: 0.8969 - val_loss: 0.3094 - val_binary_accuracy: 0.8865 - val_recall_7: 0.5516 - val_precision_7: 0.8812\n",
      "Epoch 4/5\n",
      "573/573 [==============================] - 11s 19ms/step - loss: 0.2792 - binary_accuracy: 0.8938 - recall_7: 0.5602 - precision_7: 0.9009 - val_loss: 0.3086 - val_binary_accuracy: 0.8870 - val_recall_7: 0.5564 - val_precision_7: 0.8788\n",
      "Epoch 5/5\n",
      "573/573 [==============================] - 11s 19ms/step - loss: 0.2756 - binary_accuracy: 0.8949 - recall_7: 0.5645 - precision_7: 0.9028 - val_loss: 0.3087 - val_binary_accuracy: 0.8870 - val_recall_7: 0.5588 - val_precision_7: 0.8759\n"
     ]
    }
   ],
   "source": [
    "history = model.fit(\n",
    "    train_ds,\n",
    "    epochs=5,\n",
    "    validation_data=test_ds,\n",
    "    validation_steps=30\n",
    ")"
   ]
  },
  {
   "cell_type": "code",
   "execution_count": 60,
   "metadata": {},
   "outputs": [
    {
     "name": "stdout",
     "output_type": "stream",
     "text": [
      "287/287 [==============================] - 6s 8ms/step\n",
      "              precision    recall  f1-score   support\n",
      "\n",
      "           0       0.90      0.97      0.93      7219\n",
      "           1       0.84      0.60      0.70      1938\n",
      "\n",
      "    accuracy                           0.89      9157\n",
      "   macro avg       0.87      0.78      0.81      9157\n",
      "weighted avg       0.89      0.89      0.88      9157\n",
      "\n"
     ]
    }
   ],
   "source": [
    "# show classification report\n",
    "from sklearn.metrics import classification_report\n",
    "\n",
    "y_pred = model.predict(test_ds)\n",
    "y_pred = np.where(y_pred > 0.0, 1, 0)\n",
    "\n",
    "print(classification_report(y_test, y_pred))"
   ]
  },
  {
   "cell_type": "markdown",
   "metadata": {},
   "source": [
    "Recall is relatively low, which means that the model often ignores true positives"
   ]
  },
  {
   "cell_type": "code",
   "execution_count": 51,
   "metadata": {},
   "outputs": [
    {
     "data": {
      "image/png": "[encoded data removed]",
      "text/plain": [
       "<Figure size 1400x700 with 1 Axes>"
      ]
     },
     "metadata": {},
     "output_type": "display_data"
    }
   ],
   "source": [
    "pd.DataFrame(history.history).plot(\n",
    "    figsize=(14, 7),\n",
    "    xlabel='epochs',\n",
    "    ylabel='metrics',\n",
    "    title='Training and validation metrics'\n",
    ")\n",
    "plt.show()"
   ]
  },
  {
   "cell_type": "markdown",
   "metadata": {},
   "source": [
    "### Double Bidirectional LSTM"
   ]
  },
  {
   "cell_type": "code",
   "execution_count": 57,
   "metadata": {},
   "outputs": [],
   "source": [
    "model = tf.keras.Sequential([\n",
    "    encoder,\n",
    "    tf.keras.layers.Embedding(len(encoder.get_vocabulary()), 64, mask_zero=True),\n",
    "    tf.keras.layers.Bidirectional(tf.keras.layers.LSTM(64,  return_sequences=True)),\n",
    "    tf.keras.layers.Bidirectional(tf.keras.layers.LSTM(32)),\n",
    "    tf.keras.layers.Dense(64, activation='relu'),\n",
    "    tf.keras.layers.Dense(1)\n",
    "])"
   ]
  },
  {
   "cell_type": "code",
   "execution_count": 58,
   "metadata": {},
   "outputs": [],
   "source": [
    "from tensorflow.keras.metrics import Recall, BinaryAccuracy, Precision\n",
    "\n",
    "model.compile(\n",
    "    loss=tf.keras.losses.BinaryCrossentropy(from_logits=True),\n",
    "    optimizer=tf.keras.optimizers.Adam(1e-4),\n",
    "    metrics=[BinaryAccuracy(), Recall(), Precision()]\n",
    ")"
   ]
  },
  {
   "cell_type": "code",
   "execution_count": 59,
   "metadata": {},
   "outputs": [
    {
     "name": "stdout",
     "output_type": "stream",
     "text": [
      "Epoch 1/5\n",
      "1145/1145 [==============================] - 47s 32ms/step - loss: 0.4271 - binary_accuracy: 0.8277 - recall_6: 0.2112 - precision_6: 0.8941 - val_loss: 0.3322 - val_binary_accuracy: 0.8698 - val_recall_6: 0.4887 - val_precision_6: 0.9000\n",
      "Epoch 2/5\n",
      "1145/1145 [==============================] - 34s 29ms/step - loss: 0.2936 - binary_accuracy: 0.8904 - recall_6: 0.5533 - precision_6: 0.8864 - val_loss: 0.3200 - val_binary_accuracy: 0.8740 - val_recall_6: 0.5294 - val_precision_6: 0.8731\n",
      "Epoch 3/5\n",
      "1145/1145 [==============================] - 34s 29ms/step - loss: 0.2812 - binary_accuracy: 0.8957 - recall_6: 0.5765 - precision_6: 0.8931 - val_loss: 0.3432 - val_binary_accuracy: 0.8708 - val_recall_6: 0.5158 - val_precision_6: 0.8702\n",
      "Epoch 4/5\n",
      "1145/1145 [==============================] - 35s 31ms/step - loss: 0.2759 - binary_accuracy: 0.8970 - recall_6: 0.5827 - precision_6: 0.8936 - val_loss: 0.3210 - val_binary_accuracy: 0.8740 - val_recall_6: 0.5385 - val_precision_6: 0.8623\n",
      "Epoch 5/5\n",
      "1145/1145 [==============================] - 35s 31ms/step - loss: 0.2721 - binary_accuracy: 0.8985 - recall_6: 0.5891 - precision_6: 0.8960 - val_loss: 0.3313 - val_binary_accuracy: 0.8750 - val_recall_6: 0.5475 - val_precision_6: 0.8582\n"
     ]
    }
   ],
   "source": [
    "history = model.fit(\n",
    "    train_ds,\n",
    "    epochs=5,\n",
    "    validation_data=test_ds,\n",
    "    validation_steps=30\n",
    ")"
   ]
  },
  {
   "cell_type": "code",
   "execution_count": 61,
   "metadata": {},
   "outputs": [
    {
     "name": "stdout",
     "output_type": "stream",
     "text": [
      "287/287 [==============================] - 2s 8ms/step\n",
      "              precision    recall  f1-score   support\n",
      "\n",
      "           0       0.90      0.97      0.93      7219\n",
      "           1       0.84      0.60      0.70      1938\n",
      "\n",
      "    accuracy                           0.89      9157\n",
      "   macro avg       0.87      0.78      0.81      9157\n",
      "weighted avg       0.89      0.89      0.88      9157\n",
      "\n"
     ]
    }
   ],
   "source": [
    "# show classification report\n",
    "from sklearn.metrics import classification_report\n",
    "\n",
    "y_pred = model.predict(test_ds)\n",
    "y_pred = np.where(y_pred > 0.0, 1, 0)\n",
    "\n",
    "print(classification_report(y_test, y_pred))"
   ]
  },
  {
   "cell_type": "markdown",
   "metadata": {},
   "source": [
    "## Other"
   ]
  },
  {
   "cell_type": "code",
   "execution_count": 13,
   "metadata": {},
   "outputs": [
    {
     "data": {
      "text/plain": [
       "45783"
      ]
     },
     "execution_count": 13,
     "metadata": {},
     "output_type": "execute_result"
    }
   ],
   "source": [
    "# get number of samples\n",
    "n_samples = title_df.shape[0]\n",
    "n_samples"
   ]
  },
  {
   "cell_type": "code",
   "execution_count": 14,
   "metadata": {},
   "outputs": [
    {
     "data": {
      "text/plain": [
       "0        20\n",
       "1        11\n",
       "2         9\n",
       "3         5\n",
       "4        13\n",
       "         ..\n",
       "36086     4\n",
       "36087     4\n",
       "36088     6\n",
       "36089     6\n",
       "36090     6\n",
       "Name: title, Length: 45783, dtype: int64"
      ]
     },
     "execution_count": 14,
     "metadata": {},
     "output_type": "execute_result"
    }
   ],
   "source": [
    "# get number of words per sample\n",
    "n_words = title_df['title'].apply(lambda x: len(x.split(' ')))\n",
    "n_words"
   ]
  },
  {
   "cell_type": "code",
   "execution_count": 17,
   "metadata": {},
   "outputs": [
    {
     "data": {
      "text/plain": [
       "7.067361247624664"
      ]
     },
     "execution_count": 17,
     "metadata": {},
     "output_type": "execute_result"
    }
   ],
   "source": [
    "# sum n_words and divide by number of samples\n",
    "avg_words = n_words.sum() / n_samples\n",
    "avg_words"
   ]
  },
  {
   "cell_type": "code",
   "execution_count": 18,
   "metadata": {},
   "outputs": [
    {
     "data": {
      "text/plain": [
       "6478.089685225535"
      ]
     },
     "execution_count": 18,
     "metadata": {},
     "output_type": "execute_result"
    }
   ],
   "source": [
    "# get number of samples to average number of words per sample\n",
    "n_samples / avg_words"
   ]
  },
  {
   "cell_type": "markdown",
   "metadata": {},
   "source": [
    "n_samples / avg_words ratio is greater than 1500"
   ]
  },
  {
   "cell_type": "markdown",
   "metadata": {},
   "source": [
    "Hence, we tokenize the text as sequence s and use a SepCNN model for classification"
   ]
  },
  {
   "cell_type": "code",
   "execution_count": null,
   "metadata": {},
   "outputs": [],
   "source": []
  }
 ],
 "metadata": {
  "kernelspec": {
   "display_name": "Python 3.9.12 ('base')",
   "language": "python",
   "name": "python3"
  },
  "language_info": {
   "codemirror_mode": {
    "name": "ipython",
    "version": 3
   },
   "file_extension": ".py",
   "mimetype": "text/x-python",
   "name": "python",
   "nbconvert_exporter": "python",
   "pygments_lexer": "ipython3",
   "version": "3.9.12"
  },
  "orig_nbformat": 4,
  "vscode": {
   "interpreter": {
    "hash": "454c98ae2731e865a69a0b883f25a1cfa6b0f63785a62bbc0572ffd435d4c747"
   }
  }
 },
 "nbformat": 4,
 "nbformat_minor": 2
}

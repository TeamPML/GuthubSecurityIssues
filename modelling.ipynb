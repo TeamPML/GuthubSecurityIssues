{
 "cells": [
  {
   "cell_type": "code",
   "execution_count": 1,
   "metadata": {},
   "outputs": [],
   "source": [
    "import pandas as pd\n",
    "import numpy as np\n",
    "import matplotlib.pyplot as plt"
   ]
  },
  {
   "cell_type": "code",
   "execution_count": 2,
   "metadata": {},
   "outputs": [],
   "source": [
    "df_sec = pd.read_csv('data/security_issues.csv')\n",
    "df_non_sec = pd.read_csv('data/non-security_issues.csv')"
   ]
  },
  {
   "cell_type": "code",
   "execution_count": 3,
   "metadata": {},
   "outputs": [
    {
     "data": {
      "text/html": [
       "<div>\n",
       "<style scoped>\n",
       "    .dataframe tbody tr th:only-of-type {\n",
       "        vertical-align: middle;\n",
       "    }\n",
       "\n",
       "    .dataframe tbody tr th {\n",
       "        vertical-align: top;\n",
       "    }\n",
       "\n",
       "    .dataframe thead th {\n",
       "        text-align: right;\n",
       "    }\n",
       "</style>\n",
       "<table border=\"1\" class=\"dataframe\">\n",
       "  <thead>\n",
       "    <tr style=\"text-align: right;\">\n",
       "      <th></th>\n",
       "      <th>repository</th>\n",
       "      <th>number</th>\n",
       "      <th>title</th>\n",
       "      <th>description</th>\n",
       "      <th>comments</th>\n",
       "      <th>is_pr</th>\n",
       "      <th>labels</th>\n",
       "      <th>is_sec</th>\n",
       "    </tr>\n",
       "  </thead>\n",
       "  <tbody>\n",
       "    <tr>\n",
       "      <th>0</th>\n",
       "      <td>matomo-org/matomo</td>\n",
       "      <td>10939</td>\n",
       "      <td>In Personal settings page and API page, only s...</td>\n",
       "      <td>To prevent API token authentication data leaka...</td>\n",
       "      <td>NaN</td>\n",
       "      <td>no</td>\n",
       "      <td>c: Security,</td>\n",
       "      <td>yes</td>\n",
       "    </tr>\n",
       "    <tr>\n",
       "      <th>1</th>\n",
       "      <td>matomo-org/matomo</td>\n",
       "      <td>6678</td>\n",
       "      <td>Task to automatically delete the scheduled rep...</td>\n",
       "      <td>The goal of this issue is to create a task to ...</td>\n",
       "      <td>Likely this is not needed now that reports are...</td>\n",
       "      <td>no</td>\n",
       "      <td>Task,wontfix,c: Security,c: Usability,</td>\n",
       "      <td>yes</td>\n",
       "    </tr>\n",
       "    <tr>\n",
       "      <th>2</th>\n",
       "      <td>matomo-org/matomo</td>\n",
       "      <td>11826</td>\n",
       "      <td>Check if prefixurl for api listing starts with...</td>\n",
       "      <td>NaN</td>\n",
       "      <td>NaN</td>\n",
       "      <td>yes</td>\n",
       "      <td>c: Security,not-in-changelog,Needs Review,</td>\n",
       "      <td>yes</td>\n",
       "    </tr>\n",
       "    <tr>\n",
       "      <th>3</th>\n",
       "      <td>matomo-org/matomo</td>\n",
       "      <td>17665</td>\n",
       "      <td>Disable logme functionality by default</td>\n",
       "      <td>### Description:\\r\\n\\r\\n\\r\\n\\r\\nLogme function...</td>\n",
       "      <td>@sgiehl should the developer changelog be upda...</td>\n",
       "      <td>yes</td>\n",
       "      <td>c: Security,Needs Review,</td>\n",
       "      <td>yes</td>\n",
       "    </tr>\n",
       "    <tr>\n",
       "      <th>4</th>\n",
       "      <td>matomo-org/matomo</td>\n",
       "      <td>17545</td>\n",
       "      <td>Ensure login is set for brute force log when 2...</td>\n",
       "      <td>### Description:\\r\\n\\r\\n\\r\\n\\r\\nFollow up to #...</td>\n",
       "      <td>Tested locally, works</td>\n",
       "      <td>yes</td>\n",
       "      <td>c: Security,not-in-changelog,Needs Review,</td>\n",
       "      <td>yes</td>\n",
       "    </tr>\n",
       "    <tr>\n",
       "      <th>...</th>\n",
       "      <td>...</td>\n",
       "      <td>...</td>\n",
       "      <td>...</td>\n",
       "      <td>...</td>\n",
       "      <td>...</td>\n",
       "      <td>...</td>\n",
       "      <td>...</td>\n",
       "      <td>...</td>\n",
       "    </tr>\n",
       "    <tr>\n",
       "      <th>9687</th>\n",
       "      <td>dropwizard/dropwizard</td>\n",
       "      <td>2511</td>\n",
       "      <td>Add safe Jackson deserializers to prevent a Do...</td>\n",
       "      <td>Jackson uses `BigDecimal` for deserialization ...</td>\n",
       "      <td>@dropwizard/committers Please review@nickbabco...</td>\n",
       "      <td>yes</td>\n",
       "      <td>bug,security,</td>\n",
       "      <td>yes</td>\n",
       "    </tr>\n",
       "    <tr>\n",
       "      <th>9688</th>\n",
       "      <td>dropwizard/dropwizard</td>\n",
       "      <td>5385</td>\n",
       "      <td>Generate SBOM for Dropwizard using CycloneDX M...</td>\n",
       "      <td>https://cyclonedx.org/\\r\\r\\nhttps://github.com...</td>\n",
       "      <td>\\r\\n\\r\\n&lt;a href=\"https://gitpod.io/#https://gi...</td>\n",
       "      <td>yes</td>\n",
       "      <td>task,security,</td>\n",
       "      <td>yes</td>\n",
       "    </tr>\n",
       "    <tr>\n",
       "      <th>9689</th>\n",
       "      <td>dropwizard/dropwizard</td>\n",
       "      <td>3533</td>\n",
       "      <td>Replace invalid default excludedProtocols in H...</td>\n",
       "      <td>The default list of excluded protocols used in...</td>\n",
       "      <td>Kudos, SonarCloud Quality Gate passed!\\r\\n\\r\\n...</td>\n",
       "      <td>yes</td>\n",
       "      <td>bug,security,</td>\n",
       "      <td>yes</td>\n",
       "    </tr>\n",
       "    <tr>\n",
       "      <th>9690</th>\n",
       "      <td>dropwizard/dropwizard</td>\n",
       "      <td>2505</td>\n",
       "      <td>Try to fix problems with deploying snapshots t...</td>\n",
       "      <td>###### Problem:\\r\\r\\nWe use HTTP and the the b...</td>\n",
       "      <td>NaN</td>\n",
       "      <td>yes</td>\n",
       "      <td>improvement,security,</td>\n",
       "      <td>yes</td>\n",
       "    </tr>\n",
       "    <tr>\n",
       "      <th>9691</th>\n",
       "      <td>dropwizard/dropwizard</td>\n",
       "      <td>2667</td>\n",
       "      <td>Verify dependency signatures during build</td>\n",
       "      <td>➡️ https://www.simplify4u.org/pgpverify-maven-...</td>\n",
       "      <td>The build on Travis CI currently fails due to ...</td>\n",
       "      <td>yes</td>\n",
       "      <td>security,</td>\n",
       "      <td>yes</td>\n",
       "    </tr>\n",
       "  </tbody>\n",
       "</table>\n",
       "<p>9692 rows × 8 columns</p>\n",
       "</div>"
      ],
      "text/plain": [
       "                 repository  number  \\\n",
       "0         matomo-org/matomo   10939   \n",
       "1         matomo-org/matomo    6678   \n",
       "2         matomo-org/matomo   11826   \n",
       "3         matomo-org/matomo   17665   \n",
       "4         matomo-org/matomo   17545   \n",
       "...                     ...     ...   \n",
       "9687  dropwizard/dropwizard    2511   \n",
       "9688  dropwizard/dropwizard    5385   \n",
       "9689  dropwizard/dropwizard    3533   \n",
       "9690  dropwizard/dropwizard    2505   \n",
       "9691  dropwizard/dropwizard    2667   \n",
       "\n",
       "                                                  title  \\\n",
       "0     In Personal settings page and API page, only s...   \n",
       "1     Task to automatically delete the scheduled rep...   \n",
       "2     Check if prefixurl for api listing starts with...   \n",
       "3                Disable logme functionality by default   \n",
       "4     Ensure login is set for brute force log when 2...   \n",
       "...                                                 ...   \n",
       "9687  Add safe Jackson deserializers to prevent a Do...   \n",
       "9688  Generate SBOM for Dropwizard using CycloneDX M...   \n",
       "9689  Replace invalid default excludedProtocols in H...   \n",
       "9690  Try to fix problems with deploying snapshots t...   \n",
       "9691          Verify dependency signatures during build   \n",
       "\n",
       "                                            description  \\\n",
       "0     To prevent API token authentication data leaka...   \n",
       "1     The goal of this issue is to create a task to ...   \n",
       "2                                                   NaN   \n",
       "3     ### Description:\\r\\n\\r\\n\\r\\n\\r\\nLogme function...   \n",
       "4     ### Description:\\r\\n\\r\\n\\r\\n\\r\\nFollow up to #...   \n",
       "...                                                 ...   \n",
       "9687  Jackson uses `BigDecimal` for deserialization ...   \n",
       "9688  https://cyclonedx.org/\\r\\r\\nhttps://github.com...   \n",
       "9689  The default list of excluded protocols used in...   \n",
       "9690  ###### Problem:\\r\\r\\nWe use HTTP and the the b...   \n",
       "9691  ➡️ https://www.simplify4u.org/pgpverify-maven-...   \n",
       "\n",
       "                                               comments is_pr  \\\n",
       "0                                                   NaN    no   \n",
       "1     Likely this is not needed now that reports are...    no   \n",
       "2                                                   NaN   yes   \n",
       "3     @sgiehl should the developer changelog be upda...   yes   \n",
       "4                                 Tested locally, works   yes   \n",
       "...                                                 ...   ...   \n",
       "9687  @dropwizard/committers Please review@nickbabco...   yes   \n",
       "9688  \\r\\n\\r\\n<a href=\"https://gitpod.io/#https://gi...   yes   \n",
       "9689  Kudos, SonarCloud Quality Gate passed!\\r\\n\\r\\n...   yes   \n",
       "9690                                                NaN   yes   \n",
       "9691  The build on Travis CI currently fails due to ...   yes   \n",
       "\n",
       "                                          labels is_sec  \n",
       "0                                   c: Security,    yes  \n",
       "1         Task,wontfix,c: Security,c: Usability,    yes  \n",
       "2     c: Security,not-in-changelog,Needs Review,    yes  \n",
       "3                      c: Security,Needs Review,    yes  \n",
       "4     c: Security,not-in-changelog,Needs Review,    yes  \n",
       "...                                          ...    ...  \n",
       "9687                               bug,security,    yes  \n",
       "9688                              task,security,    yes  \n",
       "9689                               bug,security,    yes  \n",
       "9690                       improvement,security,    yes  \n",
       "9691                                   security,    yes  \n",
       "\n",
       "[9692 rows x 8 columns]"
      ]
     },
     "execution_count": 3,
     "metadata": {},
     "output_type": "execute_result"
    }
   ],
   "source": [
    "df_sec"
   ]
  },
  {
   "cell_type": "code",
   "execution_count": 4,
   "metadata": {},
   "outputs": [
    {
     "data": {
      "text/html": [
       "<div>\n",
       "<style scoped>\n",
       "    .dataframe tbody tr th:only-of-type {\n",
       "        vertical-align: middle;\n",
       "    }\n",
       "\n",
       "    .dataframe tbody tr th {\n",
       "        vertical-align: top;\n",
       "    }\n",
       "\n",
       "    .dataframe thead th {\n",
       "        text-align: right;\n",
       "    }\n",
       "</style>\n",
       "<table border=\"1\" class=\"dataframe\">\n",
       "  <thead>\n",
       "    <tr style=\"text-align: right;\">\n",
       "      <th></th>\n",
       "      <th>repository</th>\n",
       "      <th>number</th>\n",
       "      <th>title</th>\n",
       "      <th>description</th>\n",
       "      <th>comments</th>\n",
       "      <th>is_pr</th>\n",
       "      <th>labels</th>\n",
       "      <th>is_sec</th>\n",
       "    </tr>\n",
       "  </thead>\n",
       "  <tbody>\n",
       "    <tr>\n",
       "      <th>0</th>\n",
       "      <td>matomo-org/matomo</td>\n",
       "      <td>19865</td>\n",
       "      <td>Make the copy the dashboard to user feature co...</td>\n",
       "      <td>Hi all,\\r\\n\\r\\nnot sure where to put this tick...</td>\n",
       "      <td>NaN</td>\n",
       "      <td>no</td>\n",
       "      <td>Enhancement,</td>\n",
       "      <td>no</td>\n",
       "    </tr>\n",
       "    <tr>\n",
       "      <th>1</th>\n",
       "      <td>matomo-org/matomo</td>\n",
       "      <td>19864</td>\n",
       "      <td>Allow user to define a custom name for the tra...</td>\n",
       "      <td>A user suggests:\\r\\n\\r\\n\\r\\n\\r\\n_The stats tra...</td>\n",
       "      <td>@atom-box thank you for making useful ticketsH...</td>\n",
       "      <td>no</td>\n",
       "      <td>Enhancement,</td>\n",
       "      <td>no</td>\n",
       "    </tr>\n",
       "    <tr>\n",
       "      <th>2</th>\n",
       "      <td>matomo-org/matomo</td>\n",
       "      <td>19862</td>\n",
       "      <td>Callback in sendRequest() / trackPageView() is...</td>\n",
       "      <td>## Expected Behavior\\r\\n\\r\\nThe callback in a ...</td>\n",
       "      <td>For anyone having the same issue, this is my w...</td>\n",
       "      <td>no</td>\n",
       "      <td>Potential Bug,</td>\n",
       "      <td>no</td>\n",
       "    </tr>\n",
       "    <tr>\n",
       "      <th>3</th>\n",
       "      <td>matomo-org/matomo</td>\n",
       "      <td>19861</td>\n",
       "      <td>Ensure password check can only throw wrong pas...</td>\n",
       "      <td>### Description:\\r\\n\\r\\n\\r\\n\\r\\nrefs #19857\\r\\...</td>\n",
       "      <td>NaN</td>\n",
       "      <td>yes</td>\n",
       "      <td>Needs Review,</td>\n",
       "      <td>no</td>\n",
       "    </tr>\n",
       "    <tr>\n",
       "      <th>4</th>\n",
       "      <td>matomo-org/matomo</td>\n",
       "      <td>19860</td>\n",
       "      <td>[automatic composer updates]</td>\n",
       "      <td>composer update log:\\r\\n```\\r\\nLoading compose...</td>\n",
       "      <td>NaN</td>\n",
       "      <td>yes</td>\n",
       "      <td>not-in-changelog,</td>\n",
       "      <td>no</td>\n",
       "    </tr>\n",
       "    <tr>\n",
       "      <th>...</th>\n",
       "      <td>...</td>\n",
       "      <td>...</td>\n",
       "      <td>...</td>\n",
       "      <td>...</td>\n",
       "      <td>...</td>\n",
       "      <td>...</td>\n",
       "      <td>...</td>\n",
       "      <td>...</td>\n",
       "    </tr>\n",
       "    <tr>\n",
       "      <th>36086</th>\n",
       "      <td>ipython/ipython</td>\n",
       "      <td>12557</td>\n",
       "      <td>Use pathlib in page.py</td>\n",
       "      <td>#12515 Change the tmpname to tmppath, and find...</td>\n",
       "      <td>Thanks !</td>\n",
       "      <td>yes</td>\n",
       "      <td>8.0 what's new,</td>\n",
       "      <td>no</td>\n",
       "    </tr>\n",
       "    <tr>\n",
       "      <th>36087</th>\n",
       "      <td>ipython/ipython</td>\n",
       "      <td>12552</td>\n",
       "      <td>use pathlib in fixup_whats_new_pr.py</td>\n",
       "      <td>Related to https://github.com/ipython/ipython/...</td>\n",
       "      <td>Perfect ! Thanks !</td>\n",
       "      <td>yes</td>\n",
       "      <td>8.0 what's new,</td>\n",
       "      <td>no</td>\n",
       "    </tr>\n",
       "    <tr>\n",
       "      <th>36088</th>\n",
       "      <td>ipython/ipython</td>\n",
       "      <td>12551</td>\n",
       "      <td>Invalid exec call crashed IPython shell</td>\n",
       "      <td>The following code snippet, when typed into an...</td>\n",
       "      <td>This still happens with IPython 7.19.0.This st...</td>\n",
       "      <td>no</td>\n",
       "      <td>bug,</td>\n",
       "      <td>no</td>\n",
       "    </tr>\n",
       "    <tr>\n",
       "      <th>36089</th>\n",
       "      <td>ipython/ipython</td>\n",
       "      <td>12545</td>\n",
       "      <td>more useful feedback on style checker</td>\n",
       "      <td>follow-up to #12502 \\r\\r\\n\\r\\r\\n- give copy-pa...</td>\n",
       "      <td>I'm unsure about `$TRAVIS_COMMIT_RANGE`, with ...</td>\n",
       "      <td>yes</td>\n",
       "      <td>8.0 what's new,</td>\n",
       "      <td>no</td>\n",
       "    </tr>\n",
       "    <tr>\n",
       "      <th>36090</th>\n",
       "      <td>ipython/ipython</td>\n",
       "      <td>12544</td>\n",
       "      <td>Use pathlib for edit magic command</td>\n",
       "      <td>Change 'with open' to use Pathlib instead.\\r\\r...</td>\n",
       "      <td>Good teamwork !\\r\\r\\n\\r\\r\\nI've push some form...</td>\n",
       "      <td>yes</td>\n",
       "      <td>8.0 what's new,</td>\n",
       "      <td>no</td>\n",
       "    </tr>\n",
       "  </tbody>\n",
       "</table>\n",
       "<p>36091 rows × 8 columns</p>\n",
       "</div>"
      ],
      "text/plain": [
       "              repository  number  \\\n",
       "0      matomo-org/matomo   19865   \n",
       "1      matomo-org/matomo   19864   \n",
       "2      matomo-org/matomo   19862   \n",
       "3      matomo-org/matomo   19861   \n",
       "4      matomo-org/matomo   19860   \n",
       "...                  ...     ...   \n",
       "36086    ipython/ipython   12557   \n",
       "36087    ipython/ipython   12552   \n",
       "36088    ipython/ipython   12551   \n",
       "36089    ipython/ipython   12545   \n",
       "36090    ipython/ipython   12544   \n",
       "\n",
       "                                                   title  \\\n",
       "0      Make the copy the dashboard to user feature co...   \n",
       "1      Allow user to define a custom name for the tra...   \n",
       "2      Callback in sendRequest() / trackPageView() is...   \n",
       "3      Ensure password check can only throw wrong pas...   \n",
       "4                           [automatic composer updates]   \n",
       "...                                                  ...   \n",
       "36086                             Use pathlib in page.py   \n",
       "36087               use pathlib in fixup_whats_new_pr.py   \n",
       "36088            Invalid exec call crashed IPython shell   \n",
       "36089              more useful feedback on style checker   \n",
       "36090                 Use pathlib for edit magic command   \n",
       "\n",
       "                                             description  \\\n",
       "0      Hi all,\\r\\n\\r\\nnot sure where to put this tick...   \n",
       "1      A user suggests:\\r\\n\\r\\n\\r\\n\\r\\n_The stats tra...   \n",
       "2      ## Expected Behavior\\r\\n\\r\\nThe callback in a ...   \n",
       "3      ### Description:\\r\\n\\r\\n\\r\\n\\r\\nrefs #19857\\r\\...   \n",
       "4      composer update log:\\r\\n```\\r\\nLoading compose...   \n",
       "...                                                  ...   \n",
       "36086  #12515 Change the tmpname to tmppath, and find...   \n",
       "36087  Related to https://github.com/ipython/ipython/...   \n",
       "36088  The following code snippet, when typed into an...   \n",
       "36089  follow-up to #12502 \\r\\r\\n\\r\\r\\n- give copy-pa...   \n",
       "36090  Change 'with open' to use Pathlib instead.\\r\\r...   \n",
       "\n",
       "                                                comments is_pr  \\\n",
       "0                                                    NaN    no   \n",
       "1      @atom-box thank you for making useful ticketsH...    no   \n",
       "2      For anyone having the same issue, this is my w...    no   \n",
       "3                                                    NaN   yes   \n",
       "4                                                    NaN   yes   \n",
       "...                                                  ...   ...   \n",
       "36086                                           Thanks !   yes   \n",
       "36087                                 Perfect ! Thanks !   yes   \n",
       "36088  This still happens with IPython 7.19.0.This st...    no   \n",
       "36089  I'm unsure about `$TRAVIS_COMMIT_RANGE`, with ...   yes   \n",
       "36090  Good teamwork !\\r\\r\\n\\r\\r\\nI've push some form...   yes   \n",
       "\n",
       "                  labels is_sec  \n",
       "0           Enhancement,     no  \n",
       "1           Enhancement,     no  \n",
       "2         Potential Bug,     no  \n",
       "3          Needs Review,     no  \n",
       "4      not-in-changelog,     no  \n",
       "...                  ...    ...  \n",
       "36086    8.0 what's new,     no  \n",
       "36087    8.0 what's new,     no  \n",
       "36088               bug,     no  \n",
       "36089    8.0 what's new,     no  \n",
       "36090    8.0 what's new,     no  \n",
       "\n",
       "[36091 rows x 8 columns]"
      ]
     },
     "execution_count": 4,
     "metadata": {},
     "output_type": "execute_result"
    }
   ],
   "source": [
    "df_non_sec"
   ]
  },
  {
   "cell_type": "code",
   "execution_count": 5,
   "metadata": {},
   "outputs": [
    {
     "data": {
      "text/html": [
       "<div>\n",
       "<style scoped>\n",
       "    .dataframe tbody tr th:only-of-type {\n",
       "        vertical-align: middle;\n",
       "    }\n",
       "\n",
       "    .dataframe tbody tr th {\n",
       "        vertical-align: top;\n",
       "    }\n",
       "\n",
       "    .dataframe thead th {\n",
       "        text-align: right;\n",
       "    }\n",
       "</style>\n",
       "<table border=\"1\" class=\"dataframe\">\n",
       "  <thead>\n",
       "    <tr style=\"text-align: right;\">\n",
       "      <th></th>\n",
       "      <th>repository</th>\n",
       "      <th>number</th>\n",
       "      <th>title</th>\n",
       "      <th>description</th>\n",
       "      <th>comments</th>\n",
       "      <th>is_pr</th>\n",
       "      <th>labels</th>\n",
       "      <th>is_sec</th>\n",
       "    </tr>\n",
       "  </thead>\n",
       "  <tbody>\n",
       "    <tr>\n",
       "      <th>0</th>\n",
       "      <td>matomo-org/matomo</td>\n",
       "      <td>10939</td>\n",
       "      <td>In Personal settings page and API page, only s...</td>\n",
       "      <td>To prevent API token authentication data leaka...</td>\n",
       "      <td>NaN</td>\n",
       "      <td>no</td>\n",
       "      <td>c: Security,</td>\n",
       "      <td>yes</td>\n",
       "    </tr>\n",
       "    <tr>\n",
       "      <th>1</th>\n",
       "      <td>matomo-org/matomo</td>\n",
       "      <td>6678</td>\n",
       "      <td>Task to automatically delete the scheduled rep...</td>\n",
       "      <td>The goal of this issue is to create a task to ...</td>\n",
       "      <td>Likely this is not needed now that reports are...</td>\n",
       "      <td>no</td>\n",
       "      <td>Task,wontfix,c: Security,c: Usability,</td>\n",
       "      <td>yes</td>\n",
       "    </tr>\n",
       "    <tr>\n",
       "      <th>2</th>\n",
       "      <td>matomo-org/matomo</td>\n",
       "      <td>11826</td>\n",
       "      <td>Check if prefixurl for api listing starts with...</td>\n",
       "      <td>NaN</td>\n",
       "      <td>NaN</td>\n",
       "      <td>yes</td>\n",
       "      <td>c: Security,not-in-changelog,Needs Review,</td>\n",
       "      <td>yes</td>\n",
       "    </tr>\n",
       "    <tr>\n",
       "      <th>3</th>\n",
       "      <td>matomo-org/matomo</td>\n",
       "      <td>17665</td>\n",
       "      <td>Disable logme functionality by default</td>\n",
       "      <td>### Description:\\r\\n\\r\\n\\r\\n\\r\\nLogme function...</td>\n",
       "      <td>@sgiehl should the developer changelog be upda...</td>\n",
       "      <td>yes</td>\n",
       "      <td>c: Security,Needs Review,</td>\n",
       "      <td>yes</td>\n",
       "    </tr>\n",
       "    <tr>\n",
       "      <th>4</th>\n",
       "      <td>matomo-org/matomo</td>\n",
       "      <td>17545</td>\n",
       "      <td>Ensure login is set for brute force log when 2...</td>\n",
       "      <td>### Description:\\r\\n\\r\\n\\r\\n\\r\\nFollow up to #...</td>\n",
       "      <td>Tested locally, works</td>\n",
       "      <td>yes</td>\n",
       "      <td>c: Security,not-in-changelog,Needs Review,</td>\n",
       "      <td>yes</td>\n",
       "    </tr>\n",
       "    <tr>\n",
       "      <th>...</th>\n",
       "      <td>...</td>\n",
       "      <td>...</td>\n",
       "      <td>...</td>\n",
       "      <td>...</td>\n",
       "      <td>...</td>\n",
       "      <td>...</td>\n",
       "      <td>...</td>\n",
       "      <td>...</td>\n",
       "    </tr>\n",
       "    <tr>\n",
       "      <th>45778</th>\n",
       "      <td>ipython/ipython</td>\n",
       "      <td>12557</td>\n",
       "      <td>Use pathlib in page.py</td>\n",
       "      <td>#12515 Change the tmpname to tmppath, and find...</td>\n",
       "      <td>Thanks !</td>\n",
       "      <td>yes</td>\n",
       "      <td>8.0 what's new,</td>\n",
       "      <td>no</td>\n",
       "    </tr>\n",
       "    <tr>\n",
       "      <th>45779</th>\n",
       "      <td>ipython/ipython</td>\n",
       "      <td>12552</td>\n",
       "      <td>use pathlib in fixup_whats_new_pr.py</td>\n",
       "      <td>Related to https://github.com/ipython/ipython/...</td>\n",
       "      <td>Perfect ! Thanks !</td>\n",
       "      <td>yes</td>\n",
       "      <td>8.0 what's new,</td>\n",
       "      <td>no</td>\n",
       "    </tr>\n",
       "    <tr>\n",
       "      <th>45780</th>\n",
       "      <td>ipython/ipython</td>\n",
       "      <td>12551</td>\n",
       "      <td>Invalid exec call crashed IPython shell</td>\n",
       "      <td>The following code snippet, when typed into an...</td>\n",
       "      <td>This still happens with IPython 7.19.0.This st...</td>\n",
       "      <td>no</td>\n",
       "      <td>bug,</td>\n",
       "      <td>no</td>\n",
       "    </tr>\n",
       "    <tr>\n",
       "      <th>45781</th>\n",
       "      <td>ipython/ipython</td>\n",
       "      <td>12545</td>\n",
       "      <td>more useful feedback on style checker</td>\n",
       "      <td>follow-up to #12502 \\r\\r\\n\\r\\r\\n- give copy-pa...</td>\n",
       "      <td>I'm unsure about `$TRAVIS_COMMIT_RANGE`, with ...</td>\n",
       "      <td>yes</td>\n",
       "      <td>8.0 what's new,</td>\n",
       "      <td>no</td>\n",
       "    </tr>\n",
       "    <tr>\n",
       "      <th>45782</th>\n",
       "      <td>ipython/ipython</td>\n",
       "      <td>12544</td>\n",
       "      <td>Use pathlib for edit magic command</td>\n",
       "      <td>Change 'with open' to use Pathlib instead.\\r\\r...</td>\n",
       "      <td>Good teamwork !\\r\\r\\n\\r\\r\\nI've push some form...</td>\n",
       "      <td>yes</td>\n",
       "      <td>8.0 what's new,</td>\n",
       "      <td>no</td>\n",
       "    </tr>\n",
       "  </tbody>\n",
       "</table>\n",
       "<p>45783 rows × 8 columns</p>\n",
       "</div>"
      ],
      "text/plain": [
       "              repository  number  \\\n",
       "0      matomo-org/matomo   10939   \n",
       "1      matomo-org/matomo    6678   \n",
       "2      matomo-org/matomo   11826   \n",
       "3      matomo-org/matomo   17665   \n",
       "4      matomo-org/matomo   17545   \n",
       "...                  ...     ...   \n",
       "45778    ipython/ipython   12557   \n",
       "45779    ipython/ipython   12552   \n",
       "45780    ipython/ipython   12551   \n",
       "45781    ipython/ipython   12545   \n",
       "45782    ipython/ipython   12544   \n",
       "\n",
       "                                                   title  \\\n",
       "0      In Personal settings page and API page, only s...   \n",
       "1      Task to automatically delete the scheduled rep...   \n",
       "2      Check if prefixurl for api listing starts with...   \n",
       "3                 Disable logme functionality by default   \n",
       "4      Ensure login is set for brute force log when 2...   \n",
       "...                                                  ...   \n",
       "45778                             Use pathlib in page.py   \n",
       "45779               use pathlib in fixup_whats_new_pr.py   \n",
       "45780            Invalid exec call crashed IPython shell   \n",
       "45781              more useful feedback on style checker   \n",
       "45782                 Use pathlib for edit magic command   \n",
       "\n",
       "                                             description  \\\n",
       "0      To prevent API token authentication data leaka...   \n",
       "1      The goal of this issue is to create a task to ...   \n",
       "2                                                    NaN   \n",
       "3      ### Description:\\r\\n\\r\\n\\r\\n\\r\\nLogme function...   \n",
       "4      ### Description:\\r\\n\\r\\n\\r\\n\\r\\nFollow up to #...   \n",
       "...                                                  ...   \n",
       "45778  #12515 Change the tmpname to tmppath, and find...   \n",
       "45779  Related to https://github.com/ipython/ipython/...   \n",
       "45780  The following code snippet, when typed into an...   \n",
       "45781  follow-up to #12502 \\r\\r\\n\\r\\r\\n- give copy-pa...   \n",
       "45782  Change 'with open' to use Pathlib instead.\\r\\r...   \n",
       "\n",
       "                                                comments is_pr  \\\n",
       "0                                                    NaN    no   \n",
       "1      Likely this is not needed now that reports are...    no   \n",
       "2                                                    NaN   yes   \n",
       "3      @sgiehl should the developer changelog be upda...   yes   \n",
       "4                                  Tested locally, works   yes   \n",
       "...                                                  ...   ...   \n",
       "45778                                           Thanks !   yes   \n",
       "45779                                 Perfect ! Thanks !   yes   \n",
       "45780  This still happens with IPython 7.19.0.This st...    no   \n",
       "45781  I'm unsure about `$TRAVIS_COMMIT_RANGE`, with ...   yes   \n",
       "45782  Good teamwork !\\r\\r\\n\\r\\r\\nI've push some form...   yes   \n",
       "\n",
       "                                           labels is_sec  \n",
       "0                                    c: Security,    yes  \n",
       "1          Task,wontfix,c: Security,c: Usability,    yes  \n",
       "2      c: Security,not-in-changelog,Needs Review,    yes  \n",
       "3                       c: Security,Needs Review,    yes  \n",
       "4      c: Security,not-in-changelog,Needs Review,    yes  \n",
       "...                                           ...    ...  \n",
       "45778                             8.0 what's new,     no  \n",
       "45779                             8.0 what's new,     no  \n",
       "45780                                        bug,     no  \n",
       "45781                             8.0 what's new,     no  \n",
       "45782                             8.0 what's new,     no  \n",
       "\n",
       "[45783 rows x 8 columns]"
      ]
     },
     "execution_count": 5,
     "metadata": {},
     "output_type": "execute_result"
    }
   ],
   "source": [
    "df = pd.concat([df_sec, df_non_sec]).reset_index(drop=True)\n",
    "df"
   ]
  },
  {
   "cell_type": "markdown",
   "metadata": {},
   "source": [
    "## Classification by Title"
   ]
  },
  {
   "cell_type": "code",
   "execution_count": 6,
   "metadata": {},
   "outputs": [
    {
     "data": {
      "text/html": [
       "<div>\n",
       "<style scoped>\n",
       "    .dataframe tbody tr th:only-of-type {\n",
       "        vertical-align: middle;\n",
       "    }\n",
       "\n",
       "    .dataframe tbody tr th {\n",
       "        vertical-align: top;\n",
       "    }\n",
       "\n",
       "    .dataframe thead th {\n",
       "        text-align: right;\n",
       "    }\n",
       "</style>\n",
       "<table border=\"1\" class=\"dataframe\">\n",
       "  <thead>\n",
       "    <tr style=\"text-align: right;\">\n",
       "      <th></th>\n",
       "      <th>title</th>\n",
       "      <th>is_sec</th>\n",
       "    </tr>\n",
       "  </thead>\n",
       "  <tbody>\n",
       "    <tr>\n",
       "      <th>0</th>\n",
       "      <td>In Personal settings page and API page, only s...</td>\n",
       "      <td>yes</td>\n",
       "    </tr>\n",
       "    <tr>\n",
       "      <th>1</th>\n",
       "      <td>Task to automatically delete the scheduled rep...</td>\n",
       "      <td>yes</td>\n",
       "    </tr>\n",
       "    <tr>\n",
       "      <th>2</th>\n",
       "      <td>Check if prefixurl for api listing starts with...</td>\n",
       "      <td>yes</td>\n",
       "    </tr>\n",
       "    <tr>\n",
       "      <th>3</th>\n",
       "      <td>Disable logme functionality by default</td>\n",
       "      <td>yes</td>\n",
       "    </tr>\n",
       "    <tr>\n",
       "      <th>4</th>\n",
       "      <td>Ensure login is set for brute force log when 2...</td>\n",
       "      <td>yes</td>\n",
       "    </tr>\n",
       "    <tr>\n",
       "      <th>...</th>\n",
       "      <td>...</td>\n",
       "      <td>...</td>\n",
       "    </tr>\n",
       "    <tr>\n",
       "      <th>36086</th>\n",
       "      <td>Use pathlib in page.py</td>\n",
       "      <td>no</td>\n",
       "    </tr>\n",
       "    <tr>\n",
       "      <th>36087</th>\n",
       "      <td>use pathlib in fixup_whats_new_pr.py</td>\n",
       "      <td>no</td>\n",
       "    </tr>\n",
       "    <tr>\n",
       "      <th>36088</th>\n",
       "      <td>Invalid exec call crashed IPython shell</td>\n",
       "      <td>no</td>\n",
       "    </tr>\n",
       "    <tr>\n",
       "      <th>36089</th>\n",
       "      <td>more useful feedback on style checker</td>\n",
       "      <td>no</td>\n",
       "    </tr>\n",
       "    <tr>\n",
       "      <th>36090</th>\n",
       "      <td>Use pathlib for edit magic command</td>\n",
       "      <td>no</td>\n",
       "    </tr>\n",
       "  </tbody>\n",
       "</table>\n",
       "<p>45783 rows × 2 columns</p>\n",
       "</div>"
      ],
      "text/plain": [
       "                                                   title is_sec\n",
       "0      In Personal settings page and API page, only s...    yes\n",
       "1      Task to automatically delete the scheduled rep...    yes\n",
       "2      Check if prefixurl for api listing starts with...    yes\n",
       "3                 Disable logme functionality by default    yes\n",
       "4      Ensure login is set for brute force log when 2...    yes\n",
       "...                                                  ...    ...\n",
       "36086                             Use pathlib in page.py     no\n",
       "36087               use pathlib in fixup_whats_new_pr.py     no\n",
       "36088            Invalid exec call crashed IPython shell     no\n",
       "36089              more useful feedback on style checker     no\n",
       "36090                 Use pathlib for edit magic command     no\n",
       "\n",
       "[45783 rows x 2 columns]"
      ]
     },
     "execution_count": 6,
     "metadata": {},
     "output_type": "execute_result"
    }
   ],
   "source": [
    "title_df = df[['title', 'is_sec']]\n",
    "title_df"
   ]
  },
  {
   "cell_type": "code",
   "execution_count": 7,
   "metadata": {},
   "outputs": [
    {
     "name": "stderr",
     "output_type": "stream",
     "text": [
      "C:\\Users\\datapaf\\AppData\\Local\\Temp\\ipykernel_5016\\2890122089.py:2: SettingWithCopyWarning: \n",
      "A value is trying to be set on a copy of a slice from a DataFrame.\n",
      "Try using .loc[row_indexer,col_indexer] = value instead\n",
      "\n",
      "See the caveats in the documentation: https://pandas.pydata.org/pandas-docs/stable/user_guide/indexing.html#returning-a-view-versus-a-copy\n",
      "  title_df['is_sec'] = title_df['is_sec'].map({'yes': 1, 'no': 0})\n"
     ]
    }
   ],
   "source": [
    "# encode is_sec column using pandas\n",
    "title_df['is_sec'] = title_df['is_sec'].map({'yes': 1, 'no': 0})"
   ]
  },
  {
   "cell_type": "code",
   "execution_count": 8,
   "metadata": {},
   "outputs": [
    {
     "data": {
      "text/html": [
       "<div>\n",
       "<style scoped>\n",
       "    .dataframe tbody tr th:only-of-type {\n",
       "        vertical-align: middle;\n",
       "    }\n",
       "\n",
       "    .dataframe tbody tr th {\n",
       "        vertical-align: top;\n",
       "    }\n",
       "\n",
       "    .dataframe thead th {\n",
       "        text-align: right;\n",
       "    }\n",
       "</style>\n",
       "<table border=\"1\" class=\"dataframe\">\n",
       "  <thead>\n",
       "    <tr style=\"text-align: right;\">\n",
       "      <th></th>\n",
       "      <th>title</th>\n",
       "      <th>is_sec</th>\n",
       "    </tr>\n",
       "  </thead>\n",
       "  <tbody>\n",
       "    <tr>\n",
       "      <th>0</th>\n",
       "      <td>In Personal settings page and API page, only s...</td>\n",
       "      <td>1</td>\n",
       "    </tr>\n",
       "    <tr>\n",
       "      <th>1</th>\n",
       "      <td>Task to automatically delete the scheduled rep...</td>\n",
       "      <td>1</td>\n",
       "    </tr>\n",
       "    <tr>\n",
       "      <th>2</th>\n",
       "      <td>Check if prefixurl for api listing starts with...</td>\n",
       "      <td>1</td>\n",
       "    </tr>\n",
       "    <tr>\n",
       "      <th>3</th>\n",
       "      <td>Disable logme functionality by default</td>\n",
       "      <td>1</td>\n",
       "    </tr>\n",
       "    <tr>\n",
       "      <th>4</th>\n",
       "      <td>Ensure login is set for brute force log when 2...</td>\n",
       "      <td>1</td>\n",
       "    </tr>\n",
       "    <tr>\n",
       "      <th>...</th>\n",
       "      <td>...</td>\n",
       "      <td>...</td>\n",
       "    </tr>\n",
       "    <tr>\n",
       "      <th>36086</th>\n",
       "      <td>Use pathlib in page.py</td>\n",
       "      <td>0</td>\n",
       "    </tr>\n",
       "    <tr>\n",
       "      <th>36087</th>\n",
       "      <td>use pathlib in fixup_whats_new_pr.py</td>\n",
       "      <td>0</td>\n",
       "    </tr>\n",
       "    <tr>\n",
       "      <th>36088</th>\n",
       "      <td>Invalid exec call crashed IPython shell</td>\n",
       "      <td>0</td>\n",
       "    </tr>\n",
       "    <tr>\n",
       "      <th>36089</th>\n",
       "      <td>more useful feedback on style checker</td>\n",
       "      <td>0</td>\n",
       "    </tr>\n",
       "    <tr>\n",
       "      <th>36090</th>\n",
       "      <td>Use pathlib for edit magic command</td>\n",
       "      <td>0</td>\n",
       "    </tr>\n",
       "  </tbody>\n",
       "</table>\n",
       "<p>45783 rows × 2 columns</p>\n",
       "</div>"
      ],
      "text/plain": [
       "                                                   title  is_sec\n",
       "0      In Personal settings page and API page, only s...       1\n",
       "1      Task to automatically delete the scheduled rep...       1\n",
       "2      Check if prefixurl for api listing starts with...       1\n",
       "3                 Disable logme functionality by default       1\n",
       "4      Ensure login is set for brute force log when 2...       1\n",
       "...                                                  ...     ...\n",
       "36086                             Use pathlib in page.py       0\n",
       "36087               use pathlib in fixup_whats_new_pr.py       0\n",
       "36088            Invalid exec call crashed IPython shell       0\n",
       "36089              more useful feedback on style checker       0\n",
       "36090                 Use pathlib for edit magic command       0\n",
       "\n",
       "[45783 rows x 2 columns]"
      ]
     },
     "execution_count": 8,
     "metadata": {},
     "output_type": "execute_result"
    }
   ],
   "source": [
    "title_df"
   ]
  },
  {
   "cell_type": "code",
   "execution_count": 9,
   "metadata": {},
   "outputs": [
    {
     "data": {
      "text/plain": [
       "<AxesSubplot:>"
      ]
     },
     "execution_count": 9,
     "metadata": {},
     "output_type": "execute_result"
    },
    {
     "data": {
      "image/png": "[encoded data removed]",
      "text/plain": [
       "<Figure size 640x480 with 1 Axes>"
      ]
     },
     "metadata": {},
     "output_type": "display_data"
    }
   ],
   "source": [
    "# plot distribution of is_sec in percentage\n",
    "title_df['is_sec'].value_counts(normalize=True).plot(kind='bar')"
   ]
  },
  {
   "cell_type": "markdown",
   "metadata": {},
   "source": [
    "The dataset is disbalanced"
   ]
  },
  {
   "cell_type": "markdown",
   "metadata": {},
   "source": [
    "Undersample the majority class (non-security issues)"
   ]
  },
  {
   "cell_type": "code",
   "execution_count": 10,
   "metadata": {},
   "outputs": [
    {
     "name": "stderr",
     "output_type": "stream",
     "text": [
      "C:\\Users\\datapaf\\AppData\\Local\\Temp\\ipykernel_5016\\813261857.py:5: SettingWithCopyWarning: \n",
      "A value is trying to be set on a copy of a slice from a DataFrame.\n",
      "Try using .loc[row_indexer,col_indexer] = value instead\n",
      "\n",
      "See the caveats in the documentation: https://pandas.pydata.org/pandas-docs/stable/user_guide/indexing.html#returning-a-view-versus-a-copy\n",
      "  title_df['is_sec'] = title_df['is_sec'].map({'yes': 1, 'no': 0})\n"
     ]
    },
    {
     "data": {
      "text/html": [
       "<div>\n",
       "<style scoped>\n",
       "    .dataframe tbody tr th:only-of-type {\n",
       "        vertical-align: middle;\n",
       "    }\n",
       "\n",
       "    .dataframe tbody tr th {\n",
       "        vertical-align: top;\n",
       "    }\n",
       "\n",
       "    .dataframe thead th {\n",
       "        text-align: right;\n",
       "    }\n",
       "</style>\n",
       "<table border=\"1\" class=\"dataframe\">\n",
       "  <thead>\n",
       "    <tr style=\"text-align: right;\">\n",
       "      <th></th>\n",
       "      <th>title</th>\n",
       "      <th>is_sec</th>\n",
       "    </tr>\n",
       "  </thead>\n",
       "  <tbody>\n",
       "    <tr>\n",
       "      <th>0</th>\n",
       "      <td>In Personal settings page and API page, only s...</td>\n",
       "      <td>1</td>\n",
       "    </tr>\n",
       "    <tr>\n",
       "      <th>1</th>\n",
       "      <td>Task to automatically delete the scheduled rep...</td>\n",
       "      <td>1</td>\n",
       "    </tr>\n",
       "    <tr>\n",
       "      <th>2</th>\n",
       "      <td>Check if prefixurl for api listing starts with...</td>\n",
       "      <td>1</td>\n",
       "    </tr>\n",
       "    <tr>\n",
       "      <th>3</th>\n",
       "      <td>Disable logme functionality by default</td>\n",
       "      <td>1</td>\n",
       "    </tr>\n",
       "    <tr>\n",
       "      <th>4</th>\n",
       "      <td>Ensure login is set for brute force log when 2...</td>\n",
       "      <td>1</td>\n",
       "    </tr>\n",
       "    <tr>\n",
       "      <th>...</th>\n",
       "      <td>...</td>\n",
       "      <td>...</td>\n",
       "    </tr>\n",
       "    <tr>\n",
       "      <th>8704</th>\n",
       "      <td>Update copyright to 2021</td>\n",
       "      <td>0</td>\n",
       "    </tr>\n",
       "    <tr>\n",
       "      <th>17512</th>\n",
       "      <td>feat(bitwarden): completions and bw_unlock bw_...</td>\n",
       "      <td>0</td>\n",
       "    </tr>\n",
       "    <tr>\n",
       "      <th>2178</th>\n",
       "      <td>Warn if frameworks are loaded too early</td>\n",
       "      <td>0</td>\n",
       "    </tr>\n",
       "    <tr>\n",
       "      <th>29593</th>\n",
       "      <td>Fix plugin wiring in yaml rest test plugin</td>\n",
       "      <td>0</td>\n",
       "    </tr>\n",
       "    <tr>\n",
       "      <th>35831</th>\n",
       "      <td>Try to enable codecov status</td>\n",
       "      <td>0</td>\n",
       "    </tr>\n",
       "  </tbody>\n",
       "</table>\n",
       "<p>19384 rows × 2 columns</p>\n",
       "</div>"
      ],
      "text/plain": [
       "                                                   title  is_sec\n",
       "0      In Personal settings page and API page, only s...       1\n",
       "1      Task to automatically delete the scheduled rep...       1\n",
       "2      Check if prefixurl for api listing starts with...       1\n",
       "3                 Disable logme functionality by default       1\n",
       "4      Ensure login is set for brute force log when 2...       1\n",
       "...                                                  ...     ...\n",
       "8704                            Update copyright to 2021       0\n",
       "17512  feat(bitwarden): completions and bw_unlock bw_...       0\n",
       "2178             Warn if frameworks are loaded too early       0\n",
       "29593         Fix plugin wiring in yaml rest test plugin       0\n",
       "35831                       Try to enable codecov status       0\n",
       "\n",
       "[19384 rows x 2 columns]"
      ]
     },
     "execution_count": 10,
     "metadata": {},
     "output_type": "execute_result"
    }
   ],
   "source": [
    "df_non_sec = df_non_sec.sample(n=len(df_sec), random_state=42)\n",
    "\n",
    "df = pd.concat([df_sec, df_non_sec])\n",
    "title_df = df[['title', 'is_sec']]\n",
    "title_df['is_sec'] = title_df['is_sec'].map({'yes': 1, 'no': 0})\n",
    "title_df"
   ]
  },
  {
   "cell_type": "code",
   "execution_count": 11,
   "metadata": {},
   "outputs": [
    {
     "data": {
      "text/plain": [
       "<AxesSubplot:>"
      ]
     },
     "execution_count": 11,
     "metadata": {},
     "output_type": "execute_result"
    },
    {
     "data": {
      "image/png": "[encoded data removed]",
      "text/plain": [
       "<Figure size 640x480 with 1 Axes>"
      ]
     },
     "metadata": {},
     "output_type": "display_data"
    }
   ],
   "source": [
    "title_df['is_sec'].value_counts(normalize=True).plot(kind='bar')"
   ]
  },
  {
   "cell_type": "markdown",
   "metadata": {},
   "source": [
    "### Single bidirectional LSTM"
   ]
  },
  {
   "cell_type": "code",
   "execution_count": 12,
   "metadata": {},
   "outputs": [],
   "source": [
    "# split data into train and test with stratification\n",
    "from sklearn.model_selection import train_test_split\n",
    "\n",
    "X_train, X_test, y_train, y_test = train_test_split(\n",
    "    title_df['title'],\n",
    "    title_df['is_sec'],\n",
    "    test_size=0.2,\n",
    "    random_state=42,\n",
    "    stratify=title_df['is_sec']\n",
    ")"
   ]
  },
  {
   "cell_type": "code",
   "execution_count": 13,
   "metadata": {},
   "outputs": [],
   "source": [
    "# create tensorflow dataset\n",
    "import tensorflow as tf\n",
    "\n",
    "train_ds = tf.data.Dataset.from_tensor_slices((X_train, y_train))\n",
    "test_ds = tf.data.Dataset.from_tensor_slices((X_test, y_test))"
   ]
  },
  {
   "cell_type": "code",
   "execution_count": 14,
   "metadata": {},
   "outputs": [],
   "source": [
    "# create batches\n",
    "train_ds = train_ds.batch(64).prefetch(tf.data.AUTOTUNE)\n",
    "test_ds = test_ds.batch(64).prefetch(tf.data.AUTOTUNE)"
   ]
  },
  {
   "cell_type": "code",
   "execution_count": 15,
   "metadata": {},
   "outputs": [],
   "source": [
    "# create text encoder\n",
    "\n",
    "# TODO: increase vocab size\n",
    "VOCAB_SIZE = 1000\n",
    "\n",
    "encoder = tf.keras.layers.TextVectorization(max_tokens=VOCAB_SIZE)\n",
    "encoder.adapt(train_ds.map(lambda text, label: text))"
   ]
  },
  {
   "cell_type": "code",
   "execution_count": 16,
   "metadata": {},
   "outputs": [
    {
     "data": {
      "text/plain": [
       "array(['', '[UNK]', 'to', 'in', 'for', 'security', 'the', 'add', 'from',\n",
       "       'of', 'and', 'with', 'on', 'not', 'a', 'fix', 'when', 'is',\n",
       "       'update', 'docs'], dtype='<U29')"
      ]
     },
     "execution_count": 16,
     "metadata": {},
     "output_type": "execute_result"
    }
   ],
   "source": [
    "vocab = np.array(encoder.get_vocabulary())\n",
    "vocab[:20]"
   ]
  },
  {
   "cell_type": "code",
   "execution_count": 17,
   "metadata": {},
   "outputs": [],
   "source": [
    "# create model\n",
    "model = tf.keras.Sequential([\n",
    "    encoder,\n",
    "    tf.keras.layers.Embedding(\n",
    "        input_dim=len(encoder.get_vocabulary()),\n",
    "        output_dim=64,\n",
    "        mask_zero=True\n",
    "    ),\n",
    "    tf.keras.layers.Bidirectional(tf.keras.layers.LSTM(64)),\n",
    "    tf.keras.layers.Dense(64, activation='relu'),\n",
    "    tf.keras.layers.Dense(1)\n",
    "])"
   ]
  },
  {
   "cell_type": "code",
   "execution_count": 18,
   "metadata": {},
   "outputs": [],
   "source": [
    "from tensorflow.keras.metrics import Recall, BinaryAccuracy, Precision\n",
    "\n",
    "# compile model\n",
    "model.compile(\n",
    "    loss=tf.keras.losses.BinaryCrossentropy(from_logits=True),\n",
    "    optimizer=tf.keras.optimizers.Adam(1e-4),\n",
    "    metrics=[BinaryAccuracy(), Recall(), Precision()]\n",
    ")\n",
    "\n"
   ]
  },
  {
   "cell_type": "code",
   "execution_count": 19,
   "metadata": {},
   "outputs": [
    {
     "name": "stdout",
     "output_type": "stream",
     "text": [
      "Epoch 1/10\n",
      "243/243 [==============================] - 15s 25ms/step - loss: 0.6693 - binary_accuracy: 0.5192 - recall: 0.0417 - precision: 0.9282 - val_loss: 0.6030 - val_binary_accuracy: 0.6464 - val_recall: 0.3167 - val_precision: 0.9297\n",
      "Epoch 2/10\n",
      "243/243 [==============================] - 4s 18ms/step - loss: 0.4769 - binary_accuracy: 0.7773 - recall: 0.6174 - precision: 0.9078 - val_loss: 0.4650 - val_binary_accuracy: 0.7885 - val_recall: 0.6375 - val_precision: 0.9134\n",
      "Epoch 3/10\n",
      "243/243 [==============================] - 4s 18ms/step - loss: 0.4093 - binary_accuracy: 0.8172 - recall: 0.6932 - precision: 0.9220 - val_loss: 0.4396 - val_binary_accuracy: 0.7979 - val_recall: 0.6635 - val_precision: 0.9074\n",
      "Epoch 4/10\n",
      "243/243 [==============================] - 4s 18ms/step - loss: 0.3853 - binary_accuracy: 0.8261 - recall: 0.7107 - precision: 0.9239 - val_loss: 0.4320 - val_binary_accuracy: 0.8031 - val_recall: 0.6740 - val_precision: 0.9087\n",
      "Epoch 5/10\n",
      "243/243 [==============================] - 4s 18ms/step - loss: 0.3729 - binary_accuracy: 0.8303 - recall: 0.7192 - precision: 0.9247 - val_loss: 0.4382 - val_binary_accuracy: 0.8021 - val_recall: 0.6833 - val_precision: 0.8962\n",
      "Epoch 6/10\n",
      "243/243 [==============================] - 4s 18ms/step - loss: 0.3651 - binary_accuracy: 0.8329 - recall: 0.7254 - precision: 0.9241 - val_loss: 0.4287 - val_binary_accuracy: 0.8083 - val_recall: 0.6958 - val_precision: 0.8978\n",
      "Epoch 7/10\n",
      "243/243 [==============================] - 4s 18ms/step - loss: 0.3597 - binary_accuracy: 0.8359 - recall: 0.7303 - precision: 0.9258 - val_loss: 0.4397 - val_binary_accuracy: 0.8036 - val_recall: 0.6948 - val_precision: 0.8881\n",
      "Epoch 8/10\n",
      "243/243 [==============================] - 4s 17ms/step - loss: 0.3559 - binary_accuracy: 0.8378 - recall: 0.7345 - precision: 0.9259 - val_loss: 0.4264 - val_binary_accuracy: 0.8120 - val_recall: 0.6969 - val_precision: 0.9053\n",
      "Epoch 9/10\n",
      "243/243 [==============================] - 4s 17ms/step - loss: 0.3530 - binary_accuracy: 0.8393 - recall: 0.7374 - precision: 0.9261 - val_loss: 0.4279 - val_binary_accuracy: 0.8115 - val_recall: 0.6990 - val_precision: 0.9019\n",
      "Epoch 10/10\n",
      "243/243 [==============================] - 4s 18ms/step - loss: 0.3505 - binary_accuracy: 0.8408 - recall: 0.7408 - precision: 0.9260 - val_loss: 0.4345 - val_binary_accuracy: 0.8104 - val_recall: 0.7042 - val_precision: 0.8942\n"
     ]
    }
   ],
   "source": [
    "history = model.fit(\n",
    "    train_ds,\n",
    "    epochs=10,\n",
    "    validation_data=test_ds,\n",
    "    validation_steps=30\n",
    ")"
   ]
  },
  {
   "cell_type": "code",
   "execution_count": 20,
   "metadata": {},
   "outputs": [
    {
     "name": "stdout",
     "output_type": "stream",
     "text": [
      "61/61 [==============================] - 2s 8ms/step\n",
      "              precision    recall  f1-score   support\n",
      "\n",
      "           0       0.76      0.87      0.81      1939\n",
      "           1       0.85      0.73      0.79      1938\n",
      "\n",
      "    accuracy                           0.80      3877\n",
      "   macro avg       0.81      0.80      0.80      3877\n",
      "weighted avg       0.81      0.80      0.80      3877\n",
      "\n"
     ]
    }
   ],
   "source": [
    "# show classification report\n",
    "from sklearn.metrics import classification_report\n",
    "\n",
    "y_pred = model.predict(test_ds)\n",
    "y_pred = np.where(y_pred > 0.0, 1, 0)\n",
    "\n",
    "print(classification_report(y_test, y_pred))"
   ]
  },
  {
   "cell_type": "markdown",
   "metadata": {},
   "source": [
    "Recall is relatively low, which means that the model often ignores true positives"
   ]
  },
  {
   "cell_type": "code",
   "execution_count": 21,
   "metadata": {},
   "outputs": [
    {
     "data": {
      "image/png": "[encoded data removed]",
      "text/plain": [
       "<Figure size 1400x700 with 1 Axes>"
      ]
     },
     "metadata": {},
     "output_type": "display_data"
    }
   ],
   "source": [
    "pd.DataFrame(history.history).plot(\n",
    "    figsize=(14, 7),\n",
    "    xlabel='epochs',\n",
    "    ylabel='metrics',\n",
    "    title='Training and validation metrics'\n",
    ")\n",
    "plt.show()"
   ]
  },
  {
   "cell_type": "markdown",
   "metadata": {},
   "source": [
    "### Double Bidirectional LSTM"
   ]
  },
  {
   "cell_type": "code",
   "execution_count": 16,
   "metadata": {},
   "outputs": [],
   "source": [
    "model = tf.keras.Sequential([\n",
    "    encoder,\n",
    "    tf.keras.layers.Embedding(len(encoder.get_vocabulary()), 64, mask_zero=True),\n",
    "    tf.keras.layers.Bidirectional(tf.keras.layers.LSTM(64,  return_sequences=True)),\n",
    "    tf.keras.layers.Bidirectional(tf.keras.layers.LSTM(32)),\n",
    "    tf.keras.layers.Dense(64, activation='relu'),\n",
    "    tf.keras.layers.Dense(1)\n",
    "])"
   ]
  },
  {
   "cell_type": "code",
   "execution_count": 17,
   "metadata": {},
   "outputs": [],
   "source": [
    "from tensorflow.keras.metrics import Recall, BinaryAccuracy, Precision\n",
    "\n",
    "model.compile(\n",
    "    loss=tf.keras.losses.BinaryCrossentropy(from_logits=True),\n",
    "    optimizer=tf.keras.optimizers.Adam(1e-4),\n",
    "    metrics=[BinaryAccuracy(), Recall(), Precision()]\n",
    ")"
   ]
  },
  {
   "cell_type": "code",
   "execution_count": 18,
   "metadata": {},
   "outputs": [
    {
     "name": "stdout",
     "output_type": "stream",
     "text": [
      "Epoch 1/5\n",
      "243/243 [==============================] - 20s 43ms/step - loss: 0.6552 - binary_accuracy: 0.5461 - recall: 0.1034 - precision: 0.8990 - val_loss: 0.5362 - val_binary_accuracy: 0.7432 - val_recall: 0.5638 - val_precision: 0.8646\n",
      "Epoch 2/5\n",
      "243/243 [==============================] - 7s 28ms/step - loss: 0.4703 - binary_accuracy: 0.7811 - recall: 0.6327 - precision: 0.8993 - val_loss: 0.4324 - val_binary_accuracy: 0.8161 - val_recall: 0.6894 - val_precision: 0.9140\n",
      "Epoch 3/5\n",
      "243/243 [==============================] - 7s 28ms/step - loss: 0.4095 - binary_accuracy: 0.8149 - recall: 0.6936 - precision: 0.9155 - val_loss: 0.4137 - val_binary_accuracy: 0.8224 - val_recall: 0.7202 - val_precision: 0.8967\n",
      "Epoch 4/5\n",
      "243/243 [==============================] - 7s 29ms/step - loss: 0.3849 - binary_accuracy: 0.8281 - recall: 0.7171 - precision: 0.9214 - val_loss: 0.4043 - val_binary_accuracy: 0.8281 - val_recall: 0.7298 - val_precision: 0.9003\n",
      "Epoch 5/5\n",
      "243/243 [==============================] - 7s 29ms/step - loss: 0.3717 - binary_accuracy: 0.8324 - recall: 0.7284 - precision: 0.9195 - val_loss: 0.4056 - val_binary_accuracy: 0.8297 - val_recall: 0.7404 - val_precision: 0.8935\n"
     ]
    }
   ],
   "source": [
    "history = model.fit(\n",
    "    train_ds,\n",
    "    epochs=5,\n",
    "    validation_data=test_ds,\n",
    "    validation_steps=30\n",
    ")"
   ]
  },
  {
   "cell_type": "code",
   "execution_count": 19,
   "metadata": {},
   "outputs": [
    {
     "data": {
      "image/png": "[encoded data removed]",
      "text/plain": [
       "<Figure size 1400x700 with 1 Axes>"
      ]
     },
     "metadata": {},
     "output_type": "display_data"
    }
   ],
   "source": [
    "pd.DataFrame(history.history).plot(\n",
    "    figsize=(14, 7),\n",
    "    xlabel='epochs',\n",
    "    ylabel='metrics',\n",
    "    title='Training and validation metrics'\n",
    ")\n",
    "plt.show()"
   ]
  },
  {
   "cell_type": "code",
   "execution_count": 20,
   "metadata": {},
   "outputs": [
    {
     "name": "stdout",
     "output_type": "stream",
     "text": [
      "61/61 [==============================] - 4s 12ms/step\n",
      "              precision    recall  f1-score   support\n",
      "\n",
      "           0       0.79      0.84      0.82      1934\n",
      "           1       0.83      0.78      0.81      1943\n",
      "\n",
      "    accuracy                           0.81      3877\n",
      "   macro avg       0.81      0.81      0.81      3877\n",
      "weighted avg       0.81      0.81      0.81      3877\n",
      "\n"
     ]
    }
   ],
   "source": [
    "# show classification report\n",
    "from sklearn.metrics import classification_report\n",
    "\n",
    "y_pred = model.predict(test_ds)\n",
    "y_pred = np.where(y_pred > 0.0, 1, 0)\n",
    "\n",
    "print(classification_report(y_test, y_pred))"
   ]
  },
  {
   "cell_type": "markdown",
   "metadata": {},
   "source": [
    "### BERT"
   ]
  },
  {
   "cell_type": "code",
   "execution_count": 12,
   "metadata": {},
   "outputs": [],
   "source": [
    "import tensorflow as tf\n",
    "import tensorflow_hub as hub\n",
    "import tensorflow_text as text"
   ]
  },
  {
   "cell_type": "code",
   "execution_count": 13,
   "metadata": {},
   "outputs": [],
   "source": [
    "# split data into train and test with stratification\n",
    "from sklearn.model_selection import train_test_split\n",
    "\n",
    "X_train, X_test, y_train, y_test = train_test_split(\n",
    "    title_df['title'],\n",
    "    title_df['is_sec'],\n",
    "    test_size=0.2,\n",
    "    random_state=42,\n",
    "    stratify=title_df['is_sec']\n",
    ")"
   ]
  },
  {
   "cell_type": "code",
   "execution_count": 14,
   "metadata": {},
   "outputs": [],
   "source": [
    "# create tensorflow dataset\n",
    "train_ds = tf.data.Dataset.from_tensor_slices((X_train, y_train))\n",
    "test_ds = tf.data.Dataset.from_tensor_slices((X_test, y_test))"
   ]
  },
  {
   "cell_type": "code",
   "execution_count": 15,
   "metadata": {},
   "outputs": [],
   "source": [
    "# create batches\n",
    "BATCH_SIZE = 32\n",
    "train_ds = train_ds.batch(BATCH_SIZE).prefetch(tf.data.AUTOTUNE)\n",
    "test_ds = test_ds.batch(BATCH_SIZE).prefetch(tf.data.AUTOTUNE)"
   ]
  },
  {
   "cell_type": "code",
   "execution_count": 16,
   "metadata": {},
   "outputs": [],
   "source": [
    "def build_model():\n",
    "    text_input = tf.keras.layers.Input(shape=(), dtype=tf.string, name='text')\n",
    "    preprocessing_layer = hub.KerasLayer(\n",
    "        \"https://tfhub.dev/tensorflow/bert_en_uncased_preprocess/3\",\n",
    "        name='preprocessing'\n",
    "    )\n",
    "    encoder_inputs = preprocessing_layer(text_input)\n",
    "    encoder = hub.KerasLayer(\n",
    "        \"https://tfhub.dev/tensorflow/small_bert/bert_en_uncased_L-4_H-512_A-8/1\",\n",
    "        trainable=True,\n",
    "        name='BERT_encoder'\n",
    "    )\n",
    "    outputs = encoder(encoder_inputs)\n",
    "    net = outputs['pooled_output']\n",
    "    #net = tf.keras.layers.Dropout(0.1)(net)\n",
    "    net = tf.keras.layers.Dense(1, activation=None, name='classifier')(net)\n",
    "    return tf.keras.Model(text_input, net)"
   ]
  },
  {
   "cell_type": "code",
   "execution_count": 17,
   "metadata": {},
   "outputs": [
    {
     "name": "stdout",
     "output_type": "stream",
     "text": [
      "WARNING:tensorflow:Please fix your imports. Module tensorflow.python.training.tracking.data_structures has been moved to tensorflow.python.trackable.data_structures. The old module will be deleted in version 2.11.\n"
     ]
    }
   ],
   "source": [
    "model = build_model()"
   ]
  },
  {
   "cell_type": "code",
   "execution_count": 18,
   "metadata": {},
   "outputs": [],
   "source": [
    "loss = tf.keras.losses.BinaryCrossentropy(from_logits=True)\n",
    "metrics = tf.metrics.BinaryAccuracy()"
   ]
  },
  {
   "cell_type": "code",
   "execution_count": 19,
   "metadata": {},
   "outputs": [],
   "source": [
    "from official.nlp import optimization\n",
    "\n",
    "epochs = 10\n",
    "steps_per_epoch = tf.data.experimental.cardinality(train_ds).numpy()\n",
    "num_train_steps = steps_per_epoch * epochs\n",
    "num_warmup_steps = int(0.1*num_train_steps)\n",
    "\n",
    "init_lr = 3e-5\n",
    "optimizer = optimization.create_optimizer(\n",
    "    init_lr=init_lr,\n",
    "    num_train_steps=num_train_steps,\n",
    "    num_warmup_steps=num_warmup_steps,\n",
    "    optimizer_type='adamw'\n",
    ")"
   ]
  },
  {
   "cell_type": "code",
   "execution_count": 20,
   "metadata": {},
   "outputs": [],
   "source": [
    "model.compile(\n",
    "    optimizer=optimizer,\n",
    "    loss=loss,\n",
    "    metrics=metrics\n",
    ")"
   ]
  },
  {
   "cell_type": "code",
   "execution_count": 21,
   "metadata": {},
   "outputs": [
    {
     "name": "stdout",
     "output_type": "stream",
     "text": [
      "Epoch 1/10\n",
      "485/485 [==============================] - 209s 421ms/step - loss: 0.5224 - binary_accuracy: 0.7035 - val_loss: 0.3885 - val_binary_accuracy: 0.8303\n",
      "Epoch 2/10\n",
      "485/485 [==============================] - 204s 421ms/step - loss: 0.3328 - binary_accuracy: 0.8516 - val_loss: 0.3307 - val_binary_accuracy: 0.8685\n",
      "Epoch 3/10\n",
      "485/485 [==============================] - 205s 422ms/step - loss: 0.2469 - binary_accuracy: 0.8968 - val_loss: 0.3536 - val_binary_accuracy: 0.8716\n",
      "Epoch 4/10\n",
      "485/485 [==============================] - 204s 422ms/step - loss: 0.1904 - binary_accuracy: 0.9251 - val_loss: 0.3522 - val_binary_accuracy: 0.8788\n",
      "Epoch 5/10\n",
      "485/485 [==============================] - 205s 423ms/step - loss: 0.1492 - binary_accuracy: 0.9436 - val_loss: 0.4098 - val_binary_accuracy: 0.8772\n",
      "Epoch 6/10\n",
      "485/485 [==============================] - 205s 423ms/step - loss: 0.1189 - binary_accuracy: 0.9567 - val_loss: 0.4561 - val_binary_accuracy: 0.8816\n",
      "Epoch 7/10\n",
      "485/485 [==============================] - 205s 423ms/step - loss: 0.1038 - binary_accuracy: 0.9625 - val_loss: 0.4712 - val_binary_accuracy: 0.8824\n",
      "Epoch 8/10\n",
      "485/485 [==============================] - 205s 423ms/step - loss: 0.0787 - binary_accuracy: 0.9729 - val_loss: 0.5409 - val_binary_accuracy: 0.8801\n",
      "Epoch 9/10\n",
      "485/485 [==============================] - 204s 421ms/step - loss: 0.0674 - binary_accuracy: 0.9778 - val_loss: 0.5850 - val_binary_accuracy: 0.8819\n",
      "Epoch 10/10\n",
      "485/485 [==============================] - 206s 426ms/step - loss: 0.0635 - binary_accuracy: 0.9801 - val_loss: 0.5940 - val_binary_accuracy: 0.8806\n"
     ]
    }
   ],
   "source": [
    "history = model.fit(\n",
    "    x=train_ds,\n",
    "    validation_data=test_ds,\n",
    "    epochs=epochs,\n",
    "    callbacks=[\n",
    "        tf.keras.callbacks.EarlyStopping(\n",
    "            monitor='val_loss', patience=2, restore_best_weights=True\n",
    "        )\n",
    "    ]\n",
    ")"
   ]
  },
  {
   "cell_type": "code",
   "execution_count": 26,
   "metadata": {},
   "outputs": [
    {
     "name": "stderr",
     "output_type": "stream",
     "text": [
      "WARNING:absl:Found untraced functions such as restored_function_body, restored_function_body, restored_function_body, restored_function_body, restored_function_body while saving (showing 5 of 124). These functions will not be directly callable after loading.\n"
     ]
    },
    {
     "name": "stdout",
     "output_type": "stream",
     "text": [
      "INFO:tensorflow:Assets written to: bert_L4_H512_A8\\assets\n"
     ]
    },
    {
     "name": "stderr",
     "output_type": "stream",
     "text": [
      "INFO:tensorflow:Assets written to: bert_L4_H512_A8\\assets\n"
     ]
    }
   ],
   "source": [
    "model.save('bert_L4_H512_A8', include_optimizer=False)"
   ]
  },
  {
   "cell_type": "code",
   "execution_count": 23,
   "metadata": {},
   "outputs": [
    {
     "name": "stdout",
     "output_type": "stream",
     "text": [
      "122/122 [==============================] - 20s 160ms/step\n",
      "              precision    recall  f1-score   support\n",
      "\n",
      "           0       0.88      0.88      0.88      1939\n",
      "           1       0.88      0.89      0.88      1938\n",
      "\n",
      "    accuracy                           0.88      3877\n",
      "   macro avg       0.88      0.88      0.88      3877\n",
      "weighted avg       0.88      0.88      0.88      3877\n",
      "\n"
     ]
    }
   ],
   "source": [
    "# show classification report\n",
    "from sklearn.metrics import classification_report\n",
    "\n",
    "y_pred = model.predict(test_ds)\n",
    "y_pred = np.where(y_pred > 0.0, 1, 0)\n",
    "\n",
    "print(classification_report(y_test, y_pred))"
   ]
  },
  {
   "cell_type": "code",
   "execution_count": 24,
   "metadata": {},
   "outputs": [
    {
     "data": {
      "image/png": "[encoded data removed]",
      "text/plain": [
       "<Figure size 1400x700 with 1 Axes>"
      ]
     },
     "metadata": {},
     "output_type": "display_data"
    }
   ],
   "source": [
    "pd.DataFrame(history.history).plot(\n",
    "    figsize=(14, 7),\n",
    "    xlabel='epochs',\n",
    "    ylabel='metrics',\n",
    "    title='Training and validation metrics'\n",
    ")\n",
    "plt.show()"
   ]
  },
  {
   "cell_type": "markdown",
   "metadata": {},
   "source": [
    "## Classification by Title + Description"
   ]
  },
  {
   "cell_type": "code",
   "execution_count": 6,
   "metadata": {},
   "outputs": [
    {
     "data": {
      "text/html": [
       "<div>\n",
       "<style scoped>\n",
       "    .dataframe tbody tr th:only-of-type {\n",
       "        vertical-align: middle;\n",
       "    }\n",
       "\n",
       "    .dataframe tbody tr th {\n",
       "        vertical-align: top;\n",
       "    }\n",
       "\n",
       "    .dataframe thead th {\n",
       "        text-align: right;\n",
       "    }\n",
       "</style>\n",
       "<table border=\"1\" class=\"dataframe\">\n",
       "  <thead>\n",
       "    <tr style=\"text-align: right;\">\n",
       "      <th></th>\n",
       "      <th>repository</th>\n",
       "      <th>number</th>\n",
       "      <th>title</th>\n",
       "      <th>description</th>\n",
       "      <th>comments</th>\n",
       "      <th>is_pr</th>\n",
       "      <th>labels</th>\n",
       "      <th>is_sec</th>\n",
       "    </tr>\n",
       "  </thead>\n",
       "  <tbody>\n",
       "    <tr>\n",
       "      <th>0</th>\n",
       "      <td>matomo-org/matomo</td>\n",
       "      <td>10939</td>\n",
       "      <td>In Personal settings page and API page, only s...</td>\n",
       "      <td>To prevent API token authentication data leaka...</td>\n",
       "      <td>NaN</td>\n",
       "      <td>no</td>\n",
       "      <td>c: Security,</td>\n",
       "      <td>yes</td>\n",
       "    </tr>\n",
       "    <tr>\n",
       "      <th>1</th>\n",
       "      <td>matomo-org/matomo</td>\n",
       "      <td>6678</td>\n",
       "      <td>Task to automatically delete the scheduled rep...</td>\n",
       "      <td>The goal of this issue is to create a task to ...</td>\n",
       "      <td>Likely this is not needed now that reports are...</td>\n",
       "      <td>no</td>\n",
       "      <td>Task,wontfix,c: Security,c: Usability,</td>\n",
       "      <td>yes</td>\n",
       "    </tr>\n",
       "    <tr>\n",
       "      <th>2</th>\n",
       "      <td>matomo-org/matomo</td>\n",
       "      <td>11826</td>\n",
       "      <td>Check if prefixurl for api listing starts with...</td>\n",
       "      <td>NaN</td>\n",
       "      <td>NaN</td>\n",
       "      <td>yes</td>\n",
       "      <td>c: Security,not-in-changelog,Needs Review,</td>\n",
       "      <td>yes</td>\n",
       "    </tr>\n",
       "    <tr>\n",
       "      <th>3</th>\n",
       "      <td>matomo-org/matomo</td>\n",
       "      <td>17665</td>\n",
       "      <td>Disable logme functionality by default</td>\n",
       "      <td>### Description:\\r\\n\\r\\n\\r\\n\\r\\nLogme function...</td>\n",
       "      <td>@sgiehl should the developer changelog be upda...</td>\n",
       "      <td>yes</td>\n",
       "      <td>c: Security,Needs Review,</td>\n",
       "      <td>yes</td>\n",
       "    </tr>\n",
       "    <tr>\n",
       "      <th>4</th>\n",
       "      <td>matomo-org/matomo</td>\n",
       "      <td>17545</td>\n",
       "      <td>Ensure login is set for brute force log when 2...</td>\n",
       "      <td>### Description:\\r\\n\\r\\n\\r\\n\\r\\nFollow up to #...</td>\n",
       "      <td>Tested locally, works</td>\n",
       "      <td>yes</td>\n",
       "      <td>c: Security,not-in-changelog,Needs Review,</td>\n",
       "      <td>yes</td>\n",
       "    </tr>\n",
       "    <tr>\n",
       "      <th>...</th>\n",
       "      <td>...</td>\n",
       "      <td>...</td>\n",
       "      <td>...</td>\n",
       "      <td>...</td>\n",
       "      <td>...</td>\n",
       "      <td>...</td>\n",
       "      <td>...</td>\n",
       "      <td>...</td>\n",
       "    </tr>\n",
       "    <tr>\n",
       "      <th>19379</th>\n",
       "      <td>akka/akka</td>\n",
       "      <td>29937</td>\n",
       "      <td>Update copyright to 2021</td>\n",
       "      <td>NaN</td>\n",
       "      <td>Test FAILed.\\r\\nPLS BUILDTest PASSed.\\r\\n</td>\n",
       "      <td>yes</td>\n",
       "      <td>tested,</td>\n",
       "      <td>no</td>\n",
       "    </tr>\n",
       "    <tr>\n",
       "      <th>19380</th>\n",
       "      <td>ohmyzsh/ohmyzsh</td>\n",
       "      <td>11181</td>\n",
       "      <td>feat(bitwarden): completions and bw_unlock bw_...</td>\n",
       "      <td>Plugin adding [Bitwarden CLI](https://bitwarde...</td>\n",
       "      <td>I see that bitwarden CLI allows you to get zsh...</td>\n",
       "      <td>yes</td>\n",
       "      <td>Area: plugin,Type: documentation,New: plugin,</td>\n",
       "      <td>no</td>\n",
       "    </tr>\n",
       "    <tr>\n",
       "      <th>19381</th>\n",
       "      <td>rails/rails</td>\n",
       "      <td>46047</td>\n",
       "      <td>Warn if frameworks are loaded too early</td>\n",
       "      <td>Prematurely loading frameworks in a Rails appl...</td>\n",
       "      <td>Does this work in production? Because `after_i...</td>\n",
       "      <td>yes</td>\n",
       "      <td>activerecord,activesupport,railties,</td>\n",
       "      <td>no</td>\n",
       "    </tr>\n",
       "    <tr>\n",
       "      <th>19382</th>\n",
       "      <td>elastic/elasticsearch</td>\n",
       "      <td>90818</td>\n",
       "      <td>Fix plugin wiring in yaml rest test plugin</td>\n",
       "      <td>Ensure we wire the plugin under development co...</td>\n",
       "      <td>Pinging @elastic/es-delivery (Team:Delivery)</td>\n",
       "      <td>yes</td>\n",
       "      <td>&gt;enhancement,:Delivery/Build,Team:Delivery,aut...</td>\n",
       "      <td>no</td>\n",
       "    </tr>\n",
       "    <tr>\n",
       "      <th>19383</th>\n",
       "      <td>ipython/ipython</td>\n",
       "      <td>13207</td>\n",
       "      <td>Try to enable codecov status</td>\n",
       "      <td>NaN</td>\n",
       "      <td>hum, i've disabled and reenabled codecov integ...</td>\n",
       "      <td>yes</td>\n",
       "      <td>8.0 what's new,</td>\n",
       "      <td>no</td>\n",
       "    </tr>\n",
       "  </tbody>\n",
       "</table>\n",
       "<p>19384 rows × 8 columns</p>\n",
       "</div>"
      ],
      "text/plain": [
       "                  repository  number  \\\n",
       "0          matomo-org/matomo   10939   \n",
       "1          matomo-org/matomo    6678   \n",
       "2          matomo-org/matomo   11826   \n",
       "3          matomo-org/matomo   17665   \n",
       "4          matomo-org/matomo   17545   \n",
       "...                      ...     ...   \n",
       "19379              akka/akka   29937   \n",
       "19380        ohmyzsh/ohmyzsh   11181   \n",
       "19381            rails/rails   46047   \n",
       "19382  elastic/elasticsearch   90818   \n",
       "19383        ipython/ipython   13207   \n",
       "\n",
       "                                                   title  \\\n",
       "0      In Personal settings page and API page, only s...   \n",
       "1      Task to automatically delete the scheduled rep...   \n",
       "2      Check if prefixurl for api listing starts with...   \n",
       "3                 Disable logme functionality by default   \n",
       "4      Ensure login is set for brute force log when 2...   \n",
       "...                                                  ...   \n",
       "19379                           Update copyright to 2021   \n",
       "19380  feat(bitwarden): completions and bw_unlock bw_...   \n",
       "19381            Warn if frameworks are loaded too early   \n",
       "19382         Fix plugin wiring in yaml rest test plugin   \n",
       "19383                       Try to enable codecov status   \n",
       "\n",
       "                                             description  \\\n",
       "0      To prevent API token authentication data leaka...   \n",
       "1      The goal of this issue is to create a task to ...   \n",
       "2                                                    NaN   \n",
       "3      ### Description:\\r\\n\\r\\n\\r\\n\\r\\nLogme function...   \n",
       "4      ### Description:\\r\\n\\r\\n\\r\\n\\r\\nFollow up to #...   \n",
       "...                                                  ...   \n",
       "19379                                                NaN   \n",
       "19380  Plugin adding [Bitwarden CLI](https://bitwarde...   \n",
       "19381  Prematurely loading frameworks in a Rails appl...   \n",
       "19382  Ensure we wire the plugin under development co...   \n",
       "19383                                                NaN   \n",
       "\n",
       "                                                comments is_pr  \\\n",
       "0                                                    NaN    no   \n",
       "1      Likely this is not needed now that reports are...    no   \n",
       "2                                                    NaN   yes   \n",
       "3      @sgiehl should the developer changelog be upda...   yes   \n",
       "4                                  Tested locally, works   yes   \n",
       "...                                                  ...   ...   \n",
       "19379          Test FAILed.\\r\\nPLS BUILDTest PASSed.\\r\\n   yes   \n",
       "19380  I see that bitwarden CLI allows you to get zsh...   yes   \n",
       "19381  Does this work in production? Because `after_i...   yes   \n",
       "19382       Pinging @elastic/es-delivery (Team:Delivery)   yes   \n",
       "19383  hum, i've disabled and reenabled codecov integ...   yes   \n",
       "\n",
       "                                                  labels is_sec  \n",
       "0                                           c: Security,    yes  \n",
       "1                 Task,wontfix,c: Security,c: Usability,    yes  \n",
       "2             c: Security,not-in-changelog,Needs Review,    yes  \n",
       "3                              c: Security,Needs Review,    yes  \n",
       "4             c: Security,not-in-changelog,Needs Review,    yes  \n",
       "...                                                  ...    ...  \n",
       "19379                                            tested,     no  \n",
       "19380      Area: plugin,Type: documentation,New: plugin,     no  \n",
       "19381               activerecord,activesupport,railties,     no  \n",
       "19382  >enhancement,:Delivery/Build,Team:Delivery,aut...     no  \n",
       "19383                                    8.0 what's new,     no  \n",
       "\n",
       "[19384 rows x 8 columns]"
      ]
     },
     "execution_count": 6,
     "metadata": {},
     "output_type": "execute_result"
    }
   ],
   "source": [
    "df_non_sec = df_non_sec.sample(n=len(df_sec), random_state=42)\n",
    "df = pd.concat([df_sec, df_non_sec]).reset_index(drop=True)\n",
    "df"
   ]
  },
  {
   "cell_type": "code",
   "execution_count": 7,
   "metadata": {},
   "outputs": [
    {
     "data": {
      "text/plain": [
       "0.02450474618241849"
      ]
     },
     "execution_count": 7,
     "metadata": {},
     "output_type": "execute_result"
    }
   ],
   "source": [
    "# count percentage of empty descriptions\n",
    "df['description'].isna().sum() / len(df)"
   ]
  },
  {
   "cell_type": "code",
   "execution_count": 8,
   "metadata": {},
   "outputs": [
    {
     "name": "stderr",
     "output_type": "stream",
     "text": [
      "C:\\Users\\datapaf\\AppData\\Local\\Temp\\ipykernel_4840\\1183649789.py:2: SettingWithCopyWarning: \n",
      "A value is trying to be set on a copy of a slice from a DataFrame.\n",
      "Try using .loc[row_indexer,col_indexer] = value instead\n",
      "\n",
      "See the caveats in the documentation: https://pandas.pydata.org/pandas-docs/stable/user_guide/indexing.html#returning-a-view-versus-a-copy\n",
      "  title_desc_df['title_desc'] = df['title'] + '. ' + df['description'].fillna('')\n"
     ]
    },
    {
     "data": {
      "text/html": [
       "<div>\n",
       "<style scoped>\n",
       "    .dataframe tbody tr th:only-of-type {\n",
       "        vertical-align: middle;\n",
       "    }\n",
       "\n",
       "    .dataframe tbody tr th {\n",
       "        vertical-align: top;\n",
       "    }\n",
       "\n",
       "    .dataframe thead th {\n",
       "        text-align: right;\n",
       "    }\n",
       "</style>\n",
       "<table border=\"1\" class=\"dataframe\">\n",
       "  <thead>\n",
       "    <tr style=\"text-align: right;\">\n",
       "      <th></th>\n",
       "      <th>is_sec</th>\n",
       "      <th>title_desc</th>\n",
       "    </tr>\n",
       "  </thead>\n",
       "  <tbody>\n",
       "    <tr>\n",
       "      <th>0</th>\n",
       "      <td>yes</td>\n",
       "      <td>In Personal settings page and API page, only s...</td>\n",
       "    </tr>\n",
       "    <tr>\n",
       "      <th>1</th>\n",
       "      <td>yes</td>\n",
       "      <td>Task to automatically delete the scheduled rep...</td>\n",
       "    </tr>\n",
       "    <tr>\n",
       "      <th>2</th>\n",
       "      <td>yes</td>\n",
       "      <td>Check if prefixurl for api listing starts with...</td>\n",
       "    </tr>\n",
       "    <tr>\n",
       "      <th>3</th>\n",
       "      <td>yes</td>\n",
       "      <td>Disable logme functionality by default. ### De...</td>\n",
       "    </tr>\n",
       "    <tr>\n",
       "      <th>4</th>\n",
       "      <td>yes</td>\n",
       "      <td>Ensure login is set for brute force log when 2...</td>\n",
       "    </tr>\n",
       "    <tr>\n",
       "      <th>...</th>\n",
       "      <td>...</td>\n",
       "      <td>...</td>\n",
       "    </tr>\n",
       "    <tr>\n",
       "      <th>19379</th>\n",
       "      <td>no</td>\n",
       "      <td>Update copyright to 2021.</td>\n",
       "    </tr>\n",
       "    <tr>\n",
       "      <th>19380</th>\n",
       "      <td>no</td>\n",
       "      <td>feat(bitwarden): completions and bw_unlock bw_...</td>\n",
       "    </tr>\n",
       "    <tr>\n",
       "      <th>19381</th>\n",
       "      <td>no</td>\n",
       "      <td>Warn if frameworks are loaded too early. Prema...</td>\n",
       "    </tr>\n",
       "    <tr>\n",
       "      <th>19382</th>\n",
       "      <td>no</td>\n",
       "      <td>Fix plugin wiring in yaml rest test plugin. En...</td>\n",
       "    </tr>\n",
       "    <tr>\n",
       "      <th>19383</th>\n",
       "      <td>no</td>\n",
       "      <td>Try to enable codecov status.</td>\n",
       "    </tr>\n",
       "  </tbody>\n",
       "</table>\n",
       "<p>19384 rows × 2 columns</p>\n",
       "</div>"
      ],
      "text/plain": [
       "      is_sec                                         title_desc\n",
       "0        yes  In Personal settings page and API page, only s...\n",
       "1        yes  Task to automatically delete the scheduled rep...\n",
       "2        yes  Check if prefixurl for api listing starts with...\n",
       "3        yes  Disable logme functionality by default. ### De...\n",
       "4        yes  Ensure login is set for brute force log when 2...\n",
       "...      ...                                                ...\n",
       "19379     no                         Update copyright to 2021. \n",
       "19380     no  feat(bitwarden): completions and bw_unlock bw_...\n",
       "19381     no  Warn if frameworks are loaded too early. Prema...\n",
       "19382     no  Fix plugin wiring in yaml rest test plugin. En...\n",
       "19383     no                     Try to enable codecov status. \n",
       "\n",
       "[19384 rows x 2 columns]"
      ]
     },
     "execution_count": 8,
     "metadata": {},
     "output_type": "execute_result"
    }
   ],
   "source": [
    "title_desc_df = df[['is_sec']]\n",
    "title_desc_df['title_desc'] = df['title'] + '. ' + df['description'].fillna('')\n",
    "title_desc_df"
   ]
  },
  {
   "cell_type": "code",
   "execution_count": 9,
   "metadata": {},
   "outputs": [
    {
     "name": "stderr",
     "output_type": "stream",
     "text": [
      "C:\\Users\\datapaf\\AppData\\Local\\Temp\\ipykernel_4840\\3772197397.py:2: SettingWithCopyWarning: \n",
      "A value is trying to be set on a copy of a slice from a DataFrame.\n",
      "Try using .loc[row_indexer,col_indexer] = value instead\n",
      "\n",
      "See the caveats in the documentation: https://pandas.pydata.org/pandas-docs/stable/user_guide/indexing.html#returning-a-view-versus-a-copy\n",
      "  title_desc_df['is_sec'] = title_desc_df['is_sec'].map({'yes': 1, 'no': 0})\n"
     ]
    },
    {
     "data": {
      "text/html": [
       "<div>\n",
       "<style scoped>\n",
       "    .dataframe tbody tr th:only-of-type {\n",
       "        vertical-align: middle;\n",
       "    }\n",
       "\n",
       "    .dataframe tbody tr th {\n",
       "        vertical-align: top;\n",
       "    }\n",
       "\n",
       "    .dataframe thead th {\n",
       "        text-align: right;\n",
       "    }\n",
       "</style>\n",
       "<table border=\"1\" class=\"dataframe\">\n",
       "  <thead>\n",
       "    <tr style=\"text-align: right;\">\n",
       "      <th></th>\n",
       "      <th>is_sec</th>\n",
       "      <th>title_desc</th>\n",
       "    </tr>\n",
       "  </thead>\n",
       "  <tbody>\n",
       "    <tr>\n",
       "      <th>0</th>\n",
       "      <td>1</td>\n",
       "      <td>In Personal settings page and API page, only s...</td>\n",
       "    </tr>\n",
       "    <tr>\n",
       "      <th>1</th>\n",
       "      <td>1</td>\n",
       "      <td>Task to automatically delete the scheduled rep...</td>\n",
       "    </tr>\n",
       "    <tr>\n",
       "      <th>2</th>\n",
       "      <td>1</td>\n",
       "      <td>Check if prefixurl for api listing starts with...</td>\n",
       "    </tr>\n",
       "    <tr>\n",
       "      <th>3</th>\n",
       "      <td>1</td>\n",
       "      <td>Disable logme functionality by default. ### De...</td>\n",
       "    </tr>\n",
       "    <tr>\n",
       "      <th>4</th>\n",
       "      <td>1</td>\n",
       "      <td>Ensure login is set for brute force log when 2...</td>\n",
       "    </tr>\n",
       "    <tr>\n",
       "      <th>...</th>\n",
       "      <td>...</td>\n",
       "      <td>...</td>\n",
       "    </tr>\n",
       "    <tr>\n",
       "      <th>19379</th>\n",
       "      <td>0</td>\n",
       "      <td>Update copyright to 2021.</td>\n",
       "    </tr>\n",
       "    <tr>\n",
       "      <th>19380</th>\n",
       "      <td>0</td>\n",
       "      <td>feat(bitwarden): completions and bw_unlock bw_...</td>\n",
       "    </tr>\n",
       "    <tr>\n",
       "      <th>19381</th>\n",
       "      <td>0</td>\n",
       "      <td>Warn if frameworks are loaded too early. Prema...</td>\n",
       "    </tr>\n",
       "    <tr>\n",
       "      <th>19382</th>\n",
       "      <td>0</td>\n",
       "      <td>Fix plugin wiring in yaml rest test plugin. En...</td>\n",
       "    </tr>\n",
       "    <tr>\n",
       "      <th>19383</th>\n",
       "      <td>0</td>\n",
       "      <td>Try to enable codecov status.</td>\n",
       "    </tr>\n",
       "  </tbody>\n",
       "</table>\n",
       "<p>19384 rows × 2 columns</p>\n",
       "</div>"
      ],
      "text/plain": [
       "       is_sec                                         title_desc\n",
       "0           1  In Personal settings page and API page, only s...\n",
       "1           1  Task to automatically delete the scheduled rep...\n",
       "2           1  Check if prefixurl for api listing starts with...\n",
       "3           1  Disable logme functionality by default. ### De...\n",
       "4           1  Ensure login is set for brute force log when 2...\n",
       "...       ...                                                ...\n",
       "19379       0                         Update copyright to 2021. \n",
       "19380       0  feat(bitwarden): completions and bw_unlock bw_...\n",
       "19381       0  Warn if frameworks are loaded too early. Prema...\n",
       "19382       0  Fix plugin wiring in yaml rest test plugin. En...\n",
       "19383       0                     Try to enable codecov status. \n",
       "\n",
       "[19384 rows x 2 columns]"
      ]
     },
     "execution_count": 9,
     "metadata": {},
     "output_type": "execute_result"
    }
   ],
   "source": [
    "# encode is_sec column using pandas\n",
    "title_desc_df['is_sec'] = title_desc_df['is_sec'].map({'yes': 1, 'no': 0})\n",
    "title_desc_df"
   ]
  },
  {
   "cell_type": "code",
   "execution_count": 10,
   "metadata": {},
   "outputs": [],
   "source": [
    "import tensorflow as tf\n",
    "import tensorflow_hub as hub\n",
    "import tensorflow_text as text"
   ]
  },
  {
   "cell_type": "code",
   "execution_count": 11,
   "metadata": {},
   "outputs": [],
   "source": [
    "# split data into train and test with stratification\n",
    "from sklearn.model_selection import train_test_split\n",
    "\n",
    "X_train, X_test, y_train, y_test = train_test_split(\n",
    "    title_desc_df['title_desc'],\n",
    "    title_desc_df['is_sec'],\n",
    "    test_size=0.2,\n",
    "    random_state=42,\n",
    "    stratify=title_desc_df['is_sec']\n",
    ")"
   ]
  },
  {
   "cell_type": "code",
   "execution_count": 12,
   "metadata": {},
   "outputs": [],
   "source": [
    "# create tensorflow dataset\n",
    "train_ds = tf.data.Dataset.from_tensor_slices((X_train, y_train))\n",
    "test_ds = tf.data.Dataset.from_tensor_slices((X_test, y_test))"
   ]
  },
  {
   "cell_type": "code",
   "execution_count": 13,
   "metadata": {},
   "outputs": [],
   "source": [
    "# create batches\n",
    "BATCH_SIZE = 32\n",
    "train_ds = train_ds.batch(BATCH_SIZE).prefetch(tf.data.AUTOTUNE)\n",
    "test_ds = test_ds.batch(BATCH_SIZE).prefetch(tf.data.AUTOTUNE)"
   ]
  },
  {
   "cell_type": "code",
   "execution_count": 14,
   "metadata": {},
   "outputs": [],
   "source": [
    "def build_model():\n",
    "    text_input = tf.keras.layers.Input(shape=(), dtype=tf.string, name='text')\n",
    "    preprocessing_layer = hub.KerasLayer(\n",
    "        \"https://tfhub.dev/tensorflow/bert_en_uncased_preprocess/3\",\n",
    "        name='preprocessing'\n",
    "    )\n",
    "    encoder_inputs = preprocessing_layer(text_input)\n",
    "    encoder = hub.KerasLayer(\n",
    "        \"https://tfhub.dev/tensorflow/small_bert/bert_en_uncased_L-4_H-512_A-8/1\",\n",
    "        trainable=True,\n",
    "        name='BERT_encoder'\n",
    "    )\n",
    "    outputs = encoder(encoder_inputs)\n",
    "    net = outputs['pooled_output']\n",
    "    #net = tf.keras.layers.Dropout(0.1)(net)\n",
    "    net = tf.keras.layers.Dense(1, activation=None, name='classifier')(net)\n",
    "    return tf.keras.Model(text_input, net)"
   ]
  },
  {
   "cell_type": "code",
   "execution_count": 15,
   "metadata": {},
   "outputs": [
    {
     "name": "stdout",
     "output_type": "stream",
     "text": [
      "WARNING:tensorflow:Please fix your imports. Module tensorflow.python.training.tracking.data_structures has been moved to tensorflow.python.trackable.data_structures. The old module will be deleted in version 2.11.\n"
     ]
    }
   ],
   "source": [
    "model = build_model()"
   ]
  },
  {
   "cell_type": "code",
   "execution_count": 16,
   "metadata": {},
   "outputs": [],
   "source": [
    "loss = tf.keras.losses.BinaryCrossentropy(from_logits=True)\n",
    "metrics = tf.metrics.BinaryAccuracy()"
   ]
  },
  {
   "cell_type": "code",
   "execution_count": 17,
   "metadata": {},
   "outputs": [],
   "source": [
    "from official.nlp import optimization\n",
    "\n",
    "epochs = 10\n",
    "steps_per_epoch = tf.data.experimental.cardinality(train_ds).numpy()\n",
    "num_train_steps = steps_per_epoch * epochs\n",
    "num_warmup_steps = int(0.1*num_train_steps)\n",
    "\n",
    "init_lr = 3e-5\n",
    "optimizer = optimization.create_optimizer(\n",
    "    init_lr=init_lr,\n",
    "    num_train_steps=num_train_steps,\n",
    "    num_warmup_steps=num_warmup_steps,\n",
    "    optimizer_type='adamw'\n",
    ")"
   ]
  },
  {
   "cell_type": "code",
   "execution_count": 18,
   "metadata": {},
   "outputs": [],
   "source": [
    "model.compile(\n",
    "    optimizer=optimizer,\n",
    "    loss=loss,\n",
    "    metrics=metrics\n",
    ")"
   ]
  },
  {
   "cell_type": "code",
   "execution_count": 19,
   "metadata": {},
   "outputs": [
    {
     "name": "stdout",
     "output_type": "stream",
     "text": [
      "Epoch 1/10\n",
      "485/485 [==============================] - 269s 545ms/step - loss: 0.4401 - binary_accuracy: 0.7657 - val_loss: 0.2919 - val_binary_accuracy: 0.8891\n",
      "Epoch 2/10\n",
      "485/485 [==============================] - 263s 543ms/step - loss: 0.2437 - binary_accuracy: 0.8999 - val_loss: 0.2451 - val_binary_accuracy: 0.9136\n",
      "Epoch 3/10\n",
      "485/485 [==============================] - 260s 537ms/step - loss: 0.1642 - binary_accuracy: 0.9374 - val_loss: 0.2446 - val_binary_accuracy: 0.9211\n",
      "Epoch 4/10\n",
      "485/485 [==============================] - 267s 551ms/step - loss: 0.1098 - binary_accuracy: 0.9614 - val_loss: 0.2808 - val_binary_accuracy: 0.9234\n",
      "Epoch 5/10\n",
      "485/485 [==============================] - 272s 561ms/step - loss: 0.0737 - binary_accuracy: 0.9758 - val_loss: 0.3375 - val_binary_accuracy: 0.9244\n"
     ]
    }
   ],
   "source": [
    "history = model.fit(\n",
    "    x=train_ds,\n",
    "    validation_data=test_ds,\n",
    "    epochs=epochs,\n",
    "    callbacks=[\n",
    "        tf.keras.callbacks.EarlyStopping(\n",
    "            monitor='val_loss', patience=2, restore_best_weights=True\n",
    "        )\n",
    "    ]\n",
    ")"
   ]
  },
  {
   "cell_type": "code",
   "execution_count": 20,
   "metadata": {},
   "outputs": [
    {
     "name": "stdout",
     "output_type": "stream",
     "text": [
      "122/122 [==============================] - 27s 216ms/step\n",
      "              precision    recall  f1-score   support\n",
      "\n",
      "           0       0.92      0.91      0.91      1939\n",
      "           1       0.91      0.92      0.92      1938\n",
      "\n",
      "    accuracy                           0.92      3877\n",
      "   macro avg       0.92      0.92      0.92      3877\n",
      "weighted avg       0.92      0.92      0.92      3877\n",
      "\n"
     ]
    }
   ],
   "source": [
    "# show classification report\n",
    "from sklearn.metrics import classification_report\n",
    "\n",
    "y_pred = model.predict(test_ds)\n",
    "y_pred = np.where(y_pred > 0.0, 1, 0)\n",
    "\n",
    "print(classification_report(y_test, y_pred))"
   ]
  },
  {
   "cell_type": "code",
   "execution_count": 21,
   "metadata": {},
   "outputs": [
    {
     "data": {
      "image/png": "[encoded data removed]",
      "text/plain": [
       "<Figure size 1400x700 with 1 Axes>"
      ]
     },
     "metadata": {},
     "output_type": "display_data"
    }
   ],
   "source": [
    "pd.DataFrame(history.history).plot(\n",
    "    figsize=(14, 7),\n",
    "    xlabel='epochs',\n",
    "    ylabel='metrics',\n",
    "    title='Training and validation metrics'\n",
    ")\n",
    "plt.show()"
   ]
  },
  {
   "cell_type": "code",
   "execution_count": 22,
   "metadata": {},
   "outputs": [
    {
     "name": "stderr",
     "output_type": "stream",
     "text": [
      "WARNING:absl:Found untraced functions such as restored_function_body, restored_function_body, restored_function_body, restored_function_body, restored_function_body while saving (showing 5 of 124). These functions will not be directly callable after loading.\n"
     ]
    },
    {
     "name": "stdout",
     "output_type": "stream",
     "text": [
      "INFO:tensorflow:Assets written to: title+desc_bert_L4_H512_A8\\assets\n"
     ]
    },
    {
     "name": "stderr",
     "output_type": "stream",
     "text": [
      "INFO:tensorflow:Assets written to: title+desc_bert_L4_H512_A8\\assets\n"
     ]
    }
   ],
   "source": [
    "model.save('title+desc_bert_L4_H512_A8', include_optimizer=False)"
   ]
  },
  {
   "cell_type": "markdown",
   "metadata": {},
   "source": [
    "## Classification by Title + Description + Comments"
   ]
  },
  {
   "cell_type": "code",
   "execution_count": null,
   "metadata": {},
   "outputs": [],
   "source": []
  },
  {
   "cell_type": "markdown",
   "metadata": {},
   "source": [
    "## Other"
   ]
  },
  {
   "cell_type": "code",
   "execution_count": 13,
   "metadata": {},
   "outputs": [
    {
     "data": {
      "text/plain": [
       "45783"
      ]
     },
     "execution_count": 13,
     "metadata": {},
     "output_type": "execute_result"
    }
   ],
   "source": [
    "# get number of samples\n",
    "n_samples = title_df.shape[0]\n",
    "n_samples"
   ]
  },
  {
   "cell_type": "code",
   "execution_count": 14,
   "metadata": {},
   "outputs": [
    {
     "data": {
      "text/plain": [
       "0        20\n",
       "1        11\n",
       "2         9\n",
       "3         5\n",
       "4        13\n",
       "         ..\n",
       "36086     4\n",
       "36087     4\n",
       "36088     6\n",
       "36089     6\n",
       "36090     6\n",
       "Name: title, Length: 45783, dtype: int64"
      ]
     },
     "execution_count": 14,
     "metadata": {},
     "output_type": "execute_result"
    }
   ],
   "source": [
    "# get number of words per sample\n",
    "n_words = title_df['title'].apply(lambda x: len(x.split(' ')))\n",
    "n_words"
   ]
  },
  {
   "cell_type": "code",
   "execution_count": 17,
   "metadata": {},
   "outputs": [
    {
     "data": {
      "text/plain": [
       "7.067361247624664"
      ]
     },
     "execution_count": 17,
     "metadata": {},
     "output_type": "execute_result"
    }
   ],
   "source": [
    "# sum n_words and divide by number of samples\n",
    "avg_words = n_words.sum() / n_samples\n",
    "avg_words"
   ]
  },
  {
   "cell_type": "code",
   "execution_count": 18,
   "metadata": {},
   "outputs": [
    {
     "data": {
      "text/plain": [
       "6478.089685225535"
      ]
     },
     "execution_count": 18,
     "metadata": {},
     "output_type": "execute_result"
    }
   ],
   "source": [
    "# get number of samples to average number of words per sample\n",
    "n_samples / avg_words"
   ]
  },
  {
   "cell_type": "markdown",
   "metadata": {},
   "source": [
    "n_samples / avg_words ratio is greater than 1500"
   ]
  },
  {
   "cell_type": "markdown",
   "metadata": {},
   "source": [
    "Hence, we tokenize the text as sequence s and use a SepCNN model for classification"
   ]
  },
  {
   "cell_type": "code",
   "execution_count": null,
   "metadata": {},
   "outputs": [],
   "source": []
  }
 ],
 "metadata": {
  "kernelspec": {
   "display_name": "Python 3.9.12 ('base')",
   "language": "python",
   "name": "python3"
  },
  "language_info": {
   "codemirror_mode": {
    "name": "ipython",
    "version": 3
   },
   "file_extension": ".py",
   "mimetype": "text/x-python",
   "name": "python",
   "nbconvert_exporter": "python",
   "pygments_lexer": "ipython3",
   "version": "3.9.12"
  },
  "orig_nbformat": 4,
  "vscode": {
   "interpreter": {
    "hash": "454c98ae2731e865a69a0b883f25a1cfa6b0f63785a62bbc0572ffd435d4c747"
   }
  }
 },
 "nbformat": 4,
 "nbformat_minor": 2
}

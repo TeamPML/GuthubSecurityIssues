{
 "cells": [
  {
   "cell_type": "markdown",
   "metadata": {},
   "source": [
    "The purpose of this cleaning is to make sure that non-security dataset doesn't have security related issues "
   ]
  },
  {
   "cell_type": "code",
   "execution_count": 1,
   "metadata": {},
   "outputs": [],
   "source": [
    "import pandas as pd\n",
    "import numpy as np\n",
    "import matplotlib.pyplot as plt"
   ]
  },
  {
   "cell_type": "code",
   "execution_count": 79,
   "metadata": {},
   "outputs": [],
   "source": [
    "sec_df = pd.read_csv(\"data/security_issues.csv\")\n",
    "non_sec_df = pd.read_csv(\"data/non-security_issues.csv\")"
   ]
  },
  {
   "cell_type": "markdown",
   "metadata": {},
   "source": [
    "### Cyber security glossary"
   ]
  },
  {
   "cell_type": "code",
   "execution_count": 4,
   "metadata": {},
   "outputs": [
    {
     "name": "stderr",
     "output_type": "stream",
     "text": [
      "2022-12-03 11:44:42,577 [MainThread  ] [INFO ]  Retrieving http://search.maven.org/remotecontent?filepath=org/apache/tika/tika-server/1.24/tika-server-1.24.jar to C:\\Users\\datapaf\\AppData\\Local\\Temp\\tika-server.jar.\n",
      "2022-12-03 11:45:13,012 [MainThread  ] [INFO ]  Retrieving http://search.maven.org/remotecontent?filepath=org/apache/tika/tika-server/1.24/tika-server-1.24.jar.md5 to C:\\Users\\datapaf\\AppData\\Local\\Temp\\tika-server.jar.md5.\n",
      "2022-12-03 11:45:13,698 [MainThread  ] [WARNI]  Failed to see startup log message; retrying...\n"
     ]
    }
   ],
   "source": [
    "from tika import parser\n",
    "\n",
    "# source: https://nvlpubs.nist.gov/nistpubs/ir/2013/nist.ir.7298r2.pdf\n",
    "raw = parser.from_file('cybersec_glossary.pdf')"
   ]
  },
  {
   "cell_type": "code",
   "execution_count": 9,
   "metadata": {},
   "outputs": [],
   "source": [
    "# save the raw text to a txt file\n",
    "with open('cybersec_glossary.txt', 'w', encoding=\"utf-8\") as f:\n",
    "    f.write(raw['content'])"
   ]
  },
  {
   "cell_type": "code",
   "execution_count": 10,
   "metadata": {},
   "outputs": [],
   "source": [
    "# read the txt file\n",
    "with open('cybersec_glossary.txt', 'r', encoding=\"utf-8\") as f:\n",
    "    text = f.read()"
   ]
  },
  {
   "cell_type": "code",
   "execution_count": 34,
   "metadata": {},
   "outputs": [],
   "source": [
    "# use regex to extract the terms and definitions\n",
    "import re\n",
    "\n",
    "#pattern = r'[\\s]+([\\w]+ )+ \\- '\n",
    "pattern = r'\\n([\\w\\s]+) – '\n",
    "\n",
    "\n",
    "terms = re.findall(pattern, text)"
   ]
  },
  {
   "cell_type": "code",
   "execution_count": 38,
   "metadata": {},
   "outputs": [],
   "source": [
    "# remove leading digits, spaces, and newlines\n",
    "terms = [term.lstrip('0123456789. \\n') for term in terms]"
   ]
  },
  {
   "cell_type": "code",
   "execution_count": 40,
   "metadata": {},
   "outputs": [
    {
     "data": {
      "text/plain": [
       "0                         Access\n",
       "1               Access Authority\n",
       "2                 Access Control\n",
       "3       Access Control Mechanism\n",
       "4                   Access Level\n",
       "                  ...           \n",
       "1212                      Zombie\n",
       "1213             Zone Of Control\n",
       "1214                         III\n",
       "1215                         III\n",
       "1216              Subchapter III\n",
       "Length: 1217, dtype: object"
      ]
     },
     "execution_count": 40,
     "metadata": {},
     "output_type": "execute_result"
    }
   ],
   "source": [
    "terms_series = pd.Series(terms)\n",
    "terms_series"
   ]
  },
  {
   "cell_type": "code",
   "execution_count": 49,
   "metadata": {},
   "outputs": [],
   "source": [
    "# replace newlines with spaces\n",
    "terms_series = terms_series.str.replace('\\n', ' ')"
   ]
  },
  {
   "cell_type": "code",
   "execution_count": 51,
   "metadata": {},
   "outputs": [
    {
     "name": "stderr",
     "output_type": "stream",
     "text": [
      "C:\\Users\\datapaf\\AppData\\Local\\Temp\\ipykernel_1840\\3470100917.py:2: FutureWarning: The default value of regex will change from True to False in a future version.\n",
      "  terms_series = terms_series.str.replace(' +', ' ')\n"
     ]
    }
   ],
   "source": [
    "# remove repeating spaces\n",
    "terms_series = terms_series.str.replace(' +', ' ')"
   ]
  },
  {
   "cell_type": "code",
   "execution_count": 53,
   "metadata": {},
   "outputs": [],
   "source": [
    "# lowercase all terms\n",
    "terms_series = terms_series.str.lower()"
   ]
  },
  {
   "cell_type": "code",
   "execution_count": 55,
   "metadata": {},
   "outputs": [],
   "source": [
    "# remove duplicate terms\n",
    "terms_series = terms_series.drop_duplicates()"
   ]
  },
  {
   "cell_type": "code",
   "execution_count": 56,
   "metadata": {},
   "outputs": [],
   "source": [
    "# save the terms to a csv file\n",
    "terms_series.to_csv('cybersec_terms.csv', index=False, header=False)"
   ]
  },
  {
   "cell_type": "markdown",
   "metadata": {},
   "source": [
    "### Keyword search"
   ]
  },
  {
   "cell_type": "code",
   "execution_count": 69,
   "metadata": {},
   "outputs": [],
   "source": [
    "# read the terms from the csv file\n",
    "terms_df = pd.read_csv('cybersec_terms.csv', header=None)[0]"
   ]
  },
  {
   "cell_type": "code",
   "execution_count": 70,
   "metadata": {},
   "outputs": [
    {
     "data": {
      "text/plain": [
       "0                         access\n",
       "1               access authority\n",
       "2                 access control\n",
       "3       access control mechanism\n",
       "4                   access level\n",
       "                  ...           \n",
       "1133                   zero fill\n",
       "1134                 zeroization\n",
       "1135                     zeroize\n",
       "1136                      zombie\n",
       "1137             zone of control\n",
       "Name: 0, Length: 1138, dtype: object"
      ]
     },
     "execution_count": 70,
     "metadata": {},
     "output_type": "execute_result"
    }
   ],
   "source": [
    "terms_df"
   ]
  },
  {
   "cell_type": "code",
   "execution_count": 80,
   "metadata": {},
   "outputs": [
    {
     "data": {
      "text/html": [
       "<div>\n",
       "<style scoped>\n",
       "    .dataframe tbody tr th:only-of-type {\n",
       "        vertical-align: middle;\n",
       "    }\n",
       "\n",
       "    .dataframe tbody tr th {\n",
       "        vertical-align: top;\n",
       "    }\n",
       "\n",
       "    .dataframe thead th {\n",
       "        text-align: right;\n",
       "    }\n",
       "</style>\n",
       "<table border=\"1\" class=\"dataframe\">\n",
       "  <thead>\n",
       "    <tr style=\"text-align: right;\">\n",
       "      <th></th>\n",
       "      <th>repository</th>\n",
       "      <th>number</th>\n",
       "      <th>title</th>\n",
       "      <th>description</th>\n",
       "      <th>comments</th>\n",
       "      <th>is_pr</th>\n",
       "      <th>labels</th>\n",
       "      <th>is_sec</th>\n",
       "    </tr>\n",
       "  </thead>\n",
       "  <tbody>\n",
       "    <tr>\n",
       "      <th>0</th>\n",
       "      <td>matomo-org/matomo</td>\n",
       "      <td>19865</td>\n",
       "      <td>Make the copy the dashboard to user feature co...</td>\n",
       "      <td>Hi all,\\r\\n\\r\\nnot sure where to put this tick...</td>\n",
       "      <td>NaN</td>\n",
       "      <td>no</td>\n",
       "      <td>Enhancement,</td>\n",
       "      <td>no</td>\n",
       "    </tr>\n",
       "    <tr>\n",
       "      <th>1</th>\n",
       "      <td>matomo-org/matomo</td>\n",
       "      <td>19864</td>\n",
       "      <td>Allow user to define a custom name for the tra...</td>\n",
       "      <td>A user suggests:\\r\\n\\r\\n\\r\\n\\r\\n_The stats tra...</td>\n",
       "      <td>@atom-box thank you for making useful ticketsH...</td>\n",
       "      <td>no</td>\n",
       "      <td>Enhancement,</td>\n",
       "      <td>no</td>\n",
       "    </tr>\n",
       "    <tr>\n",
       "      <th>2</th>\n",
       "      <td>matomo-org/matomo</td>\n",
       "      <td>19862</td>\n",
       "      <td>Callback in sendRequest() / trackPageView() is...</td>\n",
       "      <td>## Expected Behavior\\r\\n\\r\\nThe callback in a ...</td>\n",
       "      <td>For anyone having the same issue, this is my w...</td>\n",
       "      <td>no</td>\n",
       "      <td>Potential Bug,</td>\n",
       "      <td>no</td>\n",
       "    </tr>\n",
       "    <tr>\n",
       "      <th>3</th>\n",
       "      <td>matomo-org/matomo</td>\n",
       "      <td>19861</td>\n",
       "      <td>Ensure password check can only throw wrong pas...</td>\n",
       "      <td>### Description:\\r\\n\\r\\n\\r\\n\\r\\nrefs #19857\\r\\...</td>\n",
       "      <td>NaN</td>\n",
       "      <td>yes</td>\n",
       "      <td>Needs Review,</td>\n",
       "      <td>no</td>\n",
       "    </tr>\n",
       "    <tr>\n",
       "      <th>4</th>\n",
       "      <td>matomo-org/matomo</td>\n",
       "      <td>19860</td>\n",
       "      <td>[automatic composer updates]</td>\n",
       "      <td>composer update log:\\r\\n```\\r\\nLoading compose...</td>\n",
       "      <td>NaN</td>\n",
       "      <td>yes</td>\n",
       "      <td>not-in-changelog,</td>\n",
       "      <td>no</td>\n",
       "    </tr>\n",
       "    <tr>\n",
       "      <th>...</th>\n",
       "      <td>...</td>\n",
       "      <td>...</td>\n",
       "      <td>...</td>\n",
       "      <td>...</td>\n",
       "      <td>...</td>\n",
       "      <td>...</td>\n",
       "      <td>...</td>\n",
       "      <td>...</td>\n",
       "    </tr>\n",
       "    <tr>\n",
       "      <th>36086</th>\n",
       "      <td>ipython/ipython</td>\n",
       "      <td>12557</td>\n",
       "      <td>Use pathlib in page.py</td>\n",
       "      <td>#12515 Change the tmpname to tmppath, and find...</td>\n",
       "      <td>Thanks !</td>\n",
       "      <td>yes</td>\n",
       "      <td>8.0 what's new,</td>\n",
       "      <td>no</td>\n",
       "    </tr>\n",
       "    <tr>\n",
       "      <th>36087</th>\n",
       "      <td>ipython/ipython</td>\n",
       "      <td>12552</td>\n",
       "      <td>use pathlib in fixup_whats_new_pr.py</td>\n",
       "      <td>Related to https://github.com/ipython/ipython/...</td>\n",
       "      <td>Perfect ! Thanks !</td>\n",
       "      <td>yes</td>\n",
       "      <td>8.0 what's new,</td>\n",
       "      <td>no</td>\n",
       "    </tr>\n",
       "    <tr>\n",
       "      <th>36088</th>\n",
       "      <td>ipython/ipython</td>\n",
       "      <td>12551</td>\n",
       "      <td>Invalid exec call crashed IPython shell</td>\n",
       "      <td>The following code snippet, when typed into an...</td>\n",
       "      <td>This still happens with IPython 7.19.0.This st...</td>\n",
       "      <td>no</td>\n",
       "      <td>bug,</td>\n",
       "      <td>no</td>\n",
       "    </tr>\n",
       "    <tr>\n",
       "      <th>36089</th>\n",
       "      <td>ipython/ipython</td>\n",
       "      <td>12545</td>\n",
       "      <td>more useful feedback on style checker</td>\n",
       "      <td>follow-up to #12502 \\r\\r\\n\\r\\r\\n- give copy-pa...</td>\n",
       "      <td>I'm unsure about `$TRAVIS_COMMIT_RANGE`, with ...</td>\n",
       "      <td>yes</td>\n",
       "      <td>8.0 what's new,</td>\n",
       "      <td>no</td>\n",
       "    </tr>\n",
       "    <tr>\n",
       "      <th>36090</th>\n",
       "      <td>ipython/ipython</td>\n",
       "      <td>12544</td>\n",
       "      <td>Use pathlib for edit magic command</td>\n",
       "      <td>Change 'with open' to use Pathlib instead.\\r\\r...</td>\n",
       "      <td>Good teamwork !\\r\\r\\n\\r\\r\\nI've push some form...</td>\n",
       "      <td>yes</td>\n",
       "      <td>8.0 what's new,</td>\n",
       "      <td>no</td>\n",
       "    </tr>\n",
       "  </tbody>\n",
       "</table>\n",
       "<p>36091 rows × 8 columns</p>\n",
       "</div>"
      ],
      "text/plain": [
       "              repository  number  \\\n",
       "0      matomo-org/matomo   19865   \n",
       "1      matomo-org/matomo   19864   \n",
       "2      matomo-org/matomo   19862   \n",
       "3      matomo-org/matomo   19861   \n",
       "4      matomo-org/matomo   19860   \n",
       "...                  ...     ...   \n",
       "36086    ipython/ipython   12557   \n",
       "36087    ipython/ipython   12552   \n",
       "36088    ipython/ipython   12551   \n",
       "36089    ipython/ipython   12545   \n",
       "36090    ipython/ipython   12544   \n",
       "\n",
       "                                                   title  \\\n",
       "0      Make the copy the dashboard to user feature co...   \n",
       "1      Allow user to define a custom name for the tra...   \n",
       "2      Callback in sendRequest() / trackPageView() is...   \n",
       "3      Ensure password check can only throw wrong pas...   \n",
       "4                           [automatic composer updates]   \n",
       "...                                                  ...   \n",
       "36086                             Use pathlib in page.py   \n",
       "36087               use pathlib in fixup_whats_new_pr.py   \n",
       "36088            Invalid exec call crashed IPython shell   \n",
       "36089              more useful feedback on style checker   \n",
       "36090                 Use pathlib for edit magic command   \n",
       "\n",
       "                                             description  \\\n",
       "0      Hi all,\\r\\n\\r\\nnot sure where to put this tick...   \n",
       "1      A user suggests:\\r\\n\\r\\n\\r\\n\\r\\n_The stats tra...   \n",
       "2      ## Expected Behavior\\r\\n\\r\\nThe callback in a ...   \n",
       "3      ### Description:\\r\\n\\r\\n\\r\\n\\r\\nrefs #19857\\r\\...   \n",
       "4      composer update log:\\r\\n```\\r\\nLoading compose...   \n",
       "...                                                  ...   \n",
       "36086  #12515 Change the tmpname to tmppath, and find...   \n",
       "36087  Related to https://github.com/ipython/ipython/...   \n",
       "36088  The following code snippet, when typed into an...   \n",
       "36089  follow-up to #12502 \\r\\r\\n\\r\\r\\n- give copy-pa...   \n",
       "36090  Change 'with open' to use Pathlib instead.\\r\\r...   \n",
       "\n",
       "                                                comments is_pr  \\\n",
       "0                                                    NaN    no   \n",
       "1      @atom-box thank you for making useful ticketsH...    no   \n",
       "2      For anyone having the same issue, this is my w...    no   \n",
       "3                                                    NaN   yes   \n",
       "4                                                    NaN   yes   \n",
       "...                                                  ...   ...   \n",
       "36086                                           Thanks !   yes   \n",
       "36087                                 Perfect ! Thanks !   yes   \n",
       "36088  This still happens with IPython 7.19.0.This st...    no   \n",
       "36089  I'm unsure about `$TRAVIS_COMMIT_RANGE`, with ...   yes   \n",
       "36090  Good teamwork !\\r\\r\\n\\r\\r\\nI've push some form...   yes   \n",
       "\n",
       "                  labels is_sec  \n",
       "0           Enhancement,     no  \n",
       "1           Enhancement,     no  \n",
       "2         Potential Bug,     no  \n",
       "3          Needs Review,     no  \n",
       "4      not-in-changelog,     no  \n",
       "...                  ...    ...  \n",
       "36086    8.0 what's new,     no  \n",
       "36087    8.0 what's new,     no  \n",
       "36088               bug,     no  \n",
       "36089    8.0 what's new,     no  \n",
       "36090    8.0 what's new,     no  \n",
       "\n",
       "[36091 rows x 8 columns]"
      ]
     },
     "execution_count": 80,
     "metadata": {},
     "output_type": "execute_result"
    }
   ],
   "source": [
    "non_sec_df"
   ]
  },
  {
   "cell_type": "code",
   "execution_count": 85,
   "metadata": {},
   "outputs": [],
   "source": [
    "# concatenate titles and descriptions of non-security issues\n",
    "title_desc_series = non_sec_df['title'] + ' ' + non_sec_df['description']"
   ]
  },
  {
   "cell_type": "code",
   "execution_count": 86,
   "metadata": {},
   "outputs": [
    {
     "data": {
      "text/plain": [
       "0        Make the copy the dashboard to user feature co...\n",
       "1        Allow user to define a custom name for the tra...\n",
       "2        Callback in sendRequest() / trackPageView() is...\n",
       "3        Ensure password check can only throw wrong pas...\n",
       "4        [automatic composer updates] composer update l...\n",
       "                               ...                        \n",
       "36086    Use pathlib in page.py #12515 Change the tmpna...\n",
       "36087    use pathlib in fixup_whats_new_pr.py Related t...\n",
       "36088    Invalid exec call crashed IPython shell The fo...\n",
       "36089    more useful feedback on style checker follow-u...\n",
       "36090    Use pathlib for edit magic command Change 'wit...\n",
       "Length: 36091, dtype: object"
      ]
     },
     "execution_count": 86,
     "metadata": {},
     "output_type": "execute_result"
    }
   ],
   "source": [
    "title_desc_series"
   ]
  },
  {
   "cell_type": "code",
   "execution_count": 87,
   "metadata": {},
   "outputs": [],
   "source": [
    "# search for the terms in title_desc_series\n",
    "found_terms = title_desc_series.str.lower().str.extract('(' + '|'.join(terms_df) + ')', expand=False)"
   ]
  },
  {
   "cell_type": "code",
   "execution_count": 88,
   "metadata": {},
   "outputs": [
    {
     "data": {
      "text/plain": [
       "0               user\n",
       "1               user\n",
       "2               test\n",
       "3           password\n",
       "4        information\n",
       "            ...     \n",
       "36086            NaN\n",
       "36087            NaN\n",
       "36088           code\n",
       "36089           code\n",
       "36090            NaN\n",
       "Length: 36091, dtype: object"
      ]
     },
     "execution_count": 88,
     "metadata": {},
     "output_type": "execute_result"
    }
   ],
   "source": [
    "found_terms"
   ]
  },
  {
   "cell_type": "code",
   "execution_count": 89,
   "metadata": {},
   "outputs": [
    {
     "data": {
      "text/plain": [
       "30208"
      ]
     },
     "execution_count": 89,
     "metadata": {},
     "output_type": "execute_result"
    }
   ],
   "source": [
    "# count non-null values\n",
    "found_terms.count()"
   ]
  },
  {
   "cell_type": "code",
   "execution_count": 99,
   "metadata": {},
   "outputs": [
    {
     "data": {
      "text/plain": [
       "0               user\n",
       "1               user\n",
       "2               test\n",
       "3           password\n",
       "4        information\n",
       "            ...     \n",
       "36076           user\n",
       "36077           code\n",
       "36082           read\n",
       "36088           code\n",
       "36089           code\n",
       "Length: 30208, dtype: object"
      ]
     },
     "execution_count": 99,
     "metadata": {},
     "output_type": "execute_result"
    }
   ],
   "source": [
    "# show the non-null values\n",
    "found_terms[found_terms.notnull()]"
   ]
  },
  {
   "cell_type": "code",
   "execution_count": 97,
   "metadata": {},
   "outputs": [
    {
     "data": {
      "text/plain": [
       "5883"
      ]
     },
     "execution_count": 97,
     "metadata": {},
     "output_type": "execute_result"
    }
   ],
   "source": [
    "# count null values\n",
    "found_terms.isnull().sum()"
   ]
  },
  {
   "cell_type": "code",
   "execution_count": 100,
   "metadata": {},
   "outputs": [
    {
     "data": {
      "text/plain": [
       "5        NaN\n",
       "73       NaN\n",
       "76       NaN\n",
       "131      NaN\n",
       "181      NaN\n",
       "        ... \n",
       "36084    NaN\n",
       "36085    NaN\n",
       "36086    NaN\n",
       "36087    NaN\n",
       "36090    NaN\n",
       "Length: 5883, dtype: object"
      ]
     },
     "execution_count": 100,
     "metadata": {},
     "output_type": "execute_result"
    }
   ],
   "source": [
    "# show the null values\n",
    "found_terms[found_terms.isnull()]"
   ]
  },
  {
   "cell_type": "code",
   "execution_count": 103,
   "metadata": {},
   "outputs": [
    {
     "name": "stdout",
     "output_type": "stream",
     "text": [
      "DOC: Define ipy directive as such in docs. By utilizing the directive `rst:directive::`, one can now link to the\n",
      "documentation on the sphinx directive using an inline reference as well\n",
      "as now being able to link to any of the options.\n",
      "\n",
      "Put this early in the documentation as it's useful to quickly summarize\n",
      "the options and decorators available to the user immediately.\n",
      "\n",
      "The currently provided examples are phenomenal but having a thorough\n",
      "reference and all of the options in one place and having them be easy to\n",
      "create a hyperlink to is also very important.\n"
     ]
    }
   ],
   "source": [
    "print(title_desc_series[36076])"
   ]
  },
  {
   "cell_type": "code",
   "execution_count": 104,
   "metadata": {},
   "outputs": [
    {
     "data": {
      "text/html": [
       "<div>\n",
       "<style scoped>\n",
       "    .dataframe tbody tr th:only-of-type {\n",
       "        vertical-align: middle;\n",
       "    }\n",
       "\n",
       "    .dataframe tbody tr th {\n",
       "        vertical-align: top;\n",
       "    }\n",
       "\n",
       "    .dataframe thead th {\n",
       "        text-align: right;\n",
       "    }\n",
       "</style>\n",
       "<table border=\"1\" class=\"dataframe\">\n",
       "  <thead>\n",
       "    <tr style=\"text-align: right;\">\n",
       "      <th></th>\n",
       "      <th>repository</th>\n",
       "      <th>number</th>\n",
       "      <th>title</th>\n",
       "      <th>description</th>\n",
       "      <th>comments</th>\n",
       "      <th>is_pr</th>\n",
       "      <th>labels</th>\n",
       "      <th>is_sec</th>\n",
       "    </tr>\n",
       "  </thead>\n",
       "  <tbody>\n",
       "    <tr>\n",
       "      <th>36076</th>\n",
       "      <td>ipython/ipython</td>\n",
       "      <td>12580</td>\n",
       "      <td>DOC: Define ipy directive as such in docs.</td>\n",
       "      <td>By utilizing the directive `rst:directive::`, ...</td>\n",
       "      <td>Thanks ! Looks great !</td>\n",
       "      <td>yes</td>\n",
       "      <td>8.0 what's new,</td>\n",
       "      <td>no</td>\n",
       "    </tr>\n",
       "  </tbody>\n",
       "</table>\n",
       "</div>"
      ],
      "text/plain": [
       "            repository  number                                       title  \\\n",
       "36076  ipython/ipython   12580  DOC: Define ipy directive as such in docs.   \n",
       "\n",
       "                                             description  \\\n",
       "36076  By utilizing the directive `rst:directive::`, ...   \n",
       "\n",
       "                     comments is_pr           labels is_sec  \n",
       "36076  Thanks ! Looks great !   yes  8.0 what's new,     no  "
      ]
     },
     "execution_count": 104,
     "metadata": {},
     "output_type": "execute_result"
    }
   ],
   "source": [
    "non_sec_df[36076:36077]"
   ]
  },
  {
   "cell_type": "code",
   "execution_count": 102,
   "metadata": {},
   "outputs": [
    {
     "name": "stdout",
     "output_type": "stream",
     "text": [
      "[automatic submodule updates] Updated submodules:\n",
      "\n",
      "- plugins/DeviceDetectorCache\n",
      "\n",
      "- plugins/LoginLdap\n",
      "\n",
      "- ~plugins/TagManager~\n",
      "\n",
      "\n"
     ]
    }
   ],
   "source": [
    "print(title_desc_series[5])"
   ]
  },
  {
   "cell_type": "markdown",
   "metadata": {},
   "source": [
    "## Simple classifiers"
   ]
  },
  {
   "cell_type": "markdown",
   "metadata": {},
   "source": [
    "### Naive Bayes"
   ]
  },
  {
   "cell_type": "code",
   "execution_count": 106,
   "metadata": {},
   "outputs": [],
   "source": [
    "df = pd.concat([sec_df, non_sec_df]).reset_index(drop=True)\n",
    "df['title_desc'] = df['title'] + ' ' + df['description'].fillna('')"
   ]
  },
  {
   "cell_type": "code",
   "execution_count": 111,
   "metadata": {},
   "outputs": [],
   "source": [
    "# # split the dataset into training and testing sets\n",
    "# from sklearn.model_selection import train_test_split\n",
    "\n",
    "# X_train, X_test, y_train, y_test = train_test_split(\n",
    "#     df['title_desc'],\n",
    "#     df['is_sec'], \n",
    "#     test_size=0.5,\n",
    "#     random_state=42,\n",
    "# )"
   ]
  },
  {
   "cell_type": "code",
   "execution_count": 119,
   "metadata": {},
   "outputs": [],
   "source": [
    "# vectorize df['title_desc'] using count vectorizer\n",
    "from sklearn.feature_extraction.text import CountVectorizer\n",
    "\n",
    "count_vect = CountVectorizer()\n",
    "X = count_vect.fit_transform(df['title_desc'])"
   ]
  },
  {
   "cell_type": "code",
   "execution_count": 120,
   "metadata": {},
   "outputs": [
    {
     "data": {
      "text/plain": [
       "(45783, 221206)"
      ]
     },
     "execution_count": 120,
     "metadata": {},
     "output_type": "execute_result"
    }
   ],
   "source": [
    "X.shape"
   ]
  },
  {
   "cell_type": "code",
   "execution_count": 121,
   "metadata": {},
   "outputs": [],
   "source": [
    "# encode df['is_sec'] using label encoder\n",
    "from sklearn.preprocessing import LabelEncoder\n",
    "\n",
    "le = LabelEncoder()\n",
    "y = le.fit_transform(df['is_sec'])"
   ]
  },
  {
   "cell_type": "code",
   "execution_count": 122,
   "metadata": {},
   "outputs": [
    {
     "data": {
      "text/plain": [
       "array([1, 1, 1, ..., 0, 0, 0])"
      ]
     },
     "execution_count": 122,
     "metadata": {},
     "output_type": "execute_result"
    }
   ],
   "source": [
    "y"
   ]
  },
  {
   "cell_type": "code",
   "execution_count": 123,
   "metadata": {},
   "outputs": [],
   "source": [
    "# train multinomial naive bayes classifier\n",
    "from sklearn.naive_bayes import MultinomialNB\n",
    "\n",
    "clf = MultinomialNB().fit(X, y)"
   ]
  },
  {
   "cell_type": "code",
   "execution_count": 124,
   "metadata": {},
   "outputs": [
    {
     "data": {
      "text/html": [
       "<style>#sk-container-id-1 {color: black;background-color: white;}#sk-container-id-1 pre{padding: 0;}#sk-container-id-1 div.sk-toggleable {background-color: white;}#sk-container-id-1 label.sk-toggleable__label {cursor: pointer;display: block;width: 100%;margin-bottom: 0;padding: 0.3em;box-sizing: border-box;text-align: center;}#sk-container-id-1 label.sk-toggleable__label-arrow:before {content: \"▸\";float: left;margin-right: 0.25em;color: #696969;}#sk-container-id-1 label.sk-toggleable__label-arrow:hover:before {color: black;}#sk-container-id-1 div.sk-estimator:hover label.sk-toggleable__label-arrow:before {color: black;}#sk-container-id-1 div.sk-toggleable__content {max-height: 0;max-width: 0;overflow: hidden;text-align: left;background-color: #f0f8ff;}#sk-container-id-1 div.sk-toggleable__content pre {margin: 0.2em;color: black;border-radius: 0.25em;background-color: #f0f8ff;}#sk-container-id-1 input.sk-toggleable__control:checked~div.sk-toggleable__content {max-height: 200px;max-width: 100%;overflow: auto;}#sk-container-id-1 input.sk-toggleable__control:checked~label.sk-toggleable__label-arrow:before {content: \"▾\";}#sk-container-id-1 div.sk-estimator input.sk-toggleable__control:checked~label.sk-toggleable__label {background-color: #d4ebff;}#sk-container-id-1 div.sk-label input.sk-toggleable__control:checked~label.sk-toggleable__label {background-color: #d4ebff;}#sk-container-id-1 input.sk-hidden--visually {border: 0;clip: rect(1px 1px 1px 1px);clip: rect(1px, 1px, 1px, 1px);height: 1px;margin: -1px;overflow: hidden;padding: 0;position: absolute;width: 1px;}#sk-container-id-1 div.sk-estimator {font-family: monospace;background-color: #f0f8ff;border: 1px dotted black;border-radius: 0.25em;box-sizing: border-box;margin-bottom: 0.5em;}#sk-container-id-1 div.sk-estimator:hover {background-color: #d4ebff;}#sk-container-id-1 div.sk-parallel-item::after {content: \"\";width: 100%;border-bottom: 1px solid gray;flex-grow: 1;}#sk-container-id-1 div.sk-label:hover label.sk-toggleable__label {background-color: #d4ebff;}#sk-container-id-1 div.sk-serial::before {content: \"\";position: absolute;border-left: 1px solid gray;box-sizing: border-box;top: 0;bottom: 0;left: 50%;z-index: 0;}#sk-container-id-1 div.sk-serial {display: flex;flex-direction: column;align-items: center;background-color: white;padding-right: 0.2em;padding-left: 0.2em;position: relative;}#sk-container-id-1 div.sk-item {position: relative;z-index: 1;}#sk-container-id-1 div.sk-parallel {display: flex;align-items: stretch;justify-content: center;background-color: white;position: relative;}#sk-container-id-1 div.sk-item::before, #sk-container-id-1 div.sk-parallel-item::before {content: \"\";position: absolute;border-left: 1px solid gray;box-sizing: border-box;top: 0;bottom: 0;left: 50%;z-index: -1;}#sk-container-id-1 div.sk-parallel-item {display: flex;flex-direction: column;z-index: 1;position: relative;background-color: white;}#sk-container-id-1 div.sk-parallel-item:first-child::after {align-self: flex-end;width: 50%;}#sk-container-id-1 div.sk-parallel-item:last-child::after {align-self: flex-start;width: 50%;}#sk-container-id-1 div.sk-parallel-item:only-child::after {width: 0;}#sk-container-id-1 div.sk-dashed-wrapped {border: 1px dashed gray;margin: 0 0.4em 0.5em 0.4em;box-sizing: border-box;padding-bottom: 0.4em;background-color: white;}#sk-container-id-1 div.sk-label label {font-family: monospace;font-weight: bold;display: inline-block;line-height: 1.2em;}#sk-container-id-1 div.sk-label-container {text-align: center;}#sk-container-id-1 div.sk-container {/* jupyter's `normalize.less` sets `[hidden] { display: none; }` but bootstrap.min.css set `[hidden] { display: none !important; }` so we also need the `!important` here to be able to override the default hidden behavior on the sphinx rendered scikit-learn.org. See: https://github.com/scikit-learn/scikit-learn/issues/21755 */display: inline-block !important;position: relative;}#sk-container-id-1 div.sk-text-repr-fallback {display: none;}</style><div id=\"sk-container-id-1\" class=\"sk-top-container\"><div class=\"sk-text-repr-fallback\"><pre>MultinomialNB()</pre><b>In a Jupyter environment, please rerun this cell to show the HTML representation or trust the notebook. <br />On GitHub, the HTML representation is unable to render, please try loading this page with nbviewer.org.</b></div><div class=\"sk-container\" hidden><div class=\"sk-item\"><div class=\"sk-estimator sk-toggleable\"><input class=\"sk-toggleable__control sk-hidden--visually\" id=\"sk-estimator-id-1\" type=\"checkbox\" checked><label for=\"sk-estimator-id-1\" class=\"sk-toggleable__label sk-toggleable__label-arrow\">MultinomialNB</label><div class=\"sk-toggleable__content\"><pre>MultinomialNB()</pre></div></div></div></div></div>"
      ],
      "text/plain": [
       "MultinomialNB()"
      ]
     },
     "execution_count": 124,
     "metadata": {},
     "output_type": "execute_result"
    }
   ],
   "source": [
    "clf"
   ]
  },
  {
   "cell_type": "code",
   "execution_count": 125,
   "metadata": {},
   "outputs": [],
   "source": [
    "y_pred = clf.predict(X)"
   ]
  },
  {
   "cell_type": "code",
   "execution_count": 126,
   "metadata": {},
   "outputs": [
    {
     "name": "stdout",
     "output_type": "stream",
     "text": [
      "              precision    recall  f1-score   support\n",
      "\n",
      "           0       0.98      0.91      0.94     36091\n",
      "           1       0.74      0.92      0.82      9692\n",
      "\n",
      "    accuracy                           0.92     45783\n",
      "   macro avg       0.86      0.92      0.88     45783\n",
      "weighted avg       0.93      0.92      0.92     45783\n",
      "\n"
     ]
    }
   ],
   "source": [
    "# show classification report\n",
    "from sklearn.metrics import classification_report\n",
    "\n",
    "print(classification_report(y, y_pred))"
   ]
  },
  {
   "cell_type": "code",
   "execution_count": 130,
   "metadata": {},
   "outputs": [
    {
     "data": {
      "text/plain": [
       "9693     Allow user to define a custom name for the tra...\n",
       "9745     Is there a way to filter a specific user ID on...\n",
       "9769     Bring back an option for Add Users / New user ...\n",
       "9770     When a User without permission to any Measurab...\n",
       "9786     2FA should require password confirmation Not a...\n",
       "                               ...                        \n",
       "45483    Enable `check_make_token_by_line_never_ends_em...\n",
       "45484    Rewrite bunch of `raise AssertionError` and `a...\n",
       "45496    Fix `history_manager.search(?, unique=True)` r...\n",
       "45588    Backport PR #13044 on branch 7.x (Update refer...\n",
       "45593    Don't access current_frame f_locals This shoul...\n",
       "Name: title_desc, Length: 3101, dtype: object"
      ]
     },
     "execution_count": 130,
     "metadata": {},
     "output_type": "execute_result"
    }
   ],
   "source": [
    "# show false positives\n",
    "nb_false_positives = df[y_pred > y]['title_desc']\n",
    "nb_false_positives"
   ]
  },
  {
   "cell_type": "code",
   "execution_count": 131,
   "metadata": {},
   "outputs": [],
   "source": [
    "nb_false_positives_list = nb_false_positives.tolist()"
   ]
  },
  {
   "cell_type": "code",
   "execution_count": 138,
   "metadata": {},
   "outputs": [
    {
     "name": "stdout",
     "output_type": "stream",
     "text": [
      "2FA should require password confirmation Not an issue actually.\n"
     ]
    }
   ],
   "source": [
    "print(nb_false_positives_list[4])"
   ]
  },
  {
   "cell_type": "markdown",
   "metadata": {},
   "source": [
    "### Naive Bayes with Cybersec Terms"
   ]
  },
  {
   "cell_type": "code",
   "execution_count": null,
   "metadata": {},
   "outputs": [],
   "source": [
    "df = pd.concat([sec_df, non_sec_df]).reset_index(drop=True)\n",
    "df['title_desc'] = df['title'] + ' ' + df['description'].fillna('')"
   ]
  },
  {
   "cell_type": "code",
   "execution_count": 139,
   "metadata": {},
   "outputs": [],
   "source": [
    "# vectorize df['title_desc'] using count vectorizer\n",
    "from sklearn.feature_extraction.text import CountVectorizer\n",
    "\n",
    "count_vect = CountVectorizer(vocabulary=terms_df)\n",
    "X = count_vect.fit_transform(df['title_desc'])"
   ]
  },
  {
   "cell_type": "code",
   "execution_count": 140,
   "metadata": {},
   "outputs": [
    {
     "data": {
      "text/plain": [
       "(45783, 1138)"
      ]
     },
     "execution_count": 140,
     "metadata": {},
     "output_type": "execute_result"
    }
   ],
   "source": [
    "X.shape"
   ]
  },
  {
   "cell_type": "code",
   "execution_count": 141,
   "metadata": {},
   "outputs": [],
   "source": [
    "# encode df['is_sec'] using label encoder\n",
    "from sklearn.preprocessing import LabelEncoder\n",
    "\n",
    "le = LabelEncoder()\n",
    "y = le.fit_transform(df['is_sec'])"
   ]
  },
  {
   "cell_type": "code",
   "execution_count": 142,
   "metadata": {},
   "outputs": [],
   "source": [
    "# train multinomial naive bayes classifier\n",
    "from sklearn.naive_bayes import MultinomialNB\n",
    "\n",
    "clf = MultinomialNB().fit(X, y)"
   ]
  },
  {
   "cell_type": "code",
   "execution_count": 143,
   "metadata": {},
   "outputs": [],
   "source": [
    "y_pred = clf.predict(X)"
   ]
  },
  {
   "cell_type": "code",
   "execution_count": 144,
   "metadata": {},
   "outputs": [
    {
     "name": "stdout",
     "output_type": "stream",
     "text": [
      "              precision    recall  f1-score   support\n",
      "\n",
      "           0       0.87      0.93      0.90     36091\n",
      "           1       0.66      0.50      0.57      9692\n",
      "\n",
      "    accuracy                           0.84     45783\n",
      "   macro avg       0.77      0.71      0.73     45783\n",
      "weighted avg       0.83      0.84      0.83     45783\n",
      "\n"
     ]
    }
   ],
   "source": [
    "# show classification report\n",
    "from sklearn.metrics import classification_report\n",
    "\n",
    "print(classification_report(y, y_pred))"
   ]
  },
  {
   "cell_type": "code",
   "execution_count": 145,
   "metadata": {},
   "outputs": [
    {
     "data": {
      "text/plain": [
       "9692     Make the copy the dashboard to user feature co...\n",
       "9693     Allow user to define a custom name for the tra...\n",
       "9696     [automatic composer updates] composer update l...\n",
       "9711     Referrer Spam Blacklist scheduled task does no...\n",
       "9733     Password Error Our current password error take...\n",
       "                               ...                        \n",
       "45591    Backport PR #13021 on branch 7.x (Don't access...\n",
       "45643    Documentation style mismatch between official ...\n",
       "45674    Expanding IPython LaTeX (blackslash) completio...\n",
       "45681    Add completion type (_jupyter_types_experiment...\n",
       "45695    Make better prediction of the virtualenv site-...\n",
       "Name: title_desc, Length: 2470, dtype: object"
      ]
     },
     "execution_count": 145,
     "metadata": {},
     "output_type": "execute_result"
    }
   ],
   "source": [
    "# show false positives\n",
    "nb_false_positives = df[y_pred > y]['title_desc']\n",
    "nb_false_positives"
   ]
  },
  {
   "cell_type": "code",
   "execution_count": 157,
   "metadata": {},
   "outputs": [
    {
     "name": "stdout",
     "output_type": "stream",
     "text": [
      "Add completion type (_jupyter_types_experimental) for dictionary keys, file paths, etc I would very much like the IPython to return completion type for all completions, not just for the completions from Jedi. This would not only make it possible to display the type ot the user in frontends, but also allow users to create custom rules (e.g. show paths first or show paths last).  I am happy to work on a PR and maintain this part of the codebase afterwards. Would you consider a refactor of the current completions to allow for returning type in scope for IPython current plans?\n",
      "\n",
      "Currently completions are being passed around in three forms:\n",
      "- the new (unstable) [Completion](https://github.com/ipython/ipython/blob/167f683f56a900200f5bc13227639c2ebdfb1925/IPython/core/completer.py#L355) class mostly used downstream of Jedi\n",
      "- the Jedi Completion class which is an implementation detail of Jedi\n",
      "- the [match tuples](https://github.com/ipython/ipython/blob/167f683f56a900200f5bc13227639c2ebdfb1925/IPython/core/completer.py#L2149-L2154) as generated from the results of _matchers_\n",
      "\n",
      "Interestingly the match tuple contains `origin` which could _almost_ be used as a type for the completions (except that this is an identifier for debug purposes and not a user-friendly name). I would propose that in a similar fashion to how the [origin is being discovered from the name of the matcher method](https://github.com/ipython/ipython/blob/167f683f56a900200f5bc13227639c2ebdfb1925/IPython/core/completer.py#L2119-L2131), each of the non-jedi [completion matchers](https://github.com/ipython/ipython/blob/167f683f56a900200f5bc13227639c2ebdfb1925/IPython/core/completer.py#L1180-L1198) would get a \"type\" property. This could be set by a decorator, like so:\n",
      "\n",
      "```python\n",
      "def matcher(type):\n",
      "    def decorate(func):\n",
      "        func.completion_type = type\n",
      "        return func\n",
      "\n",
      "\n",
      "class IPCompleter(Completer):\n",
      "\n",
      "    # [...]\n",
      "\n",
      "    @matcher(type=\"magic\")\n",
      "    def magic_matches(self, text:str):\n",
      "        \"\"\"Match magics\"\"\"\n",
      "```\n",
      "\n",
      "Then the match could get formalized as a named tuple (so that the benefits of the current lightweight approach are kept but an additional benefit of readability and ability to annotate types is obtained):\n",
      "\n",
      "```python\n",
      "from typing import NamedTuple\n",
      "\n",
      "# could be also named CompletionMatch or SimpleCompletion\n",
      "class SimpleMatch(NamedTuple):\n",
      "    text: str\n",
      "    origin: str\n",
      "    type: str\n",
      "```\n",
      "\n",
      "I am not sure what should happen next though. The logic appears quite complex to me. I wonder if some of it could be also refactored to simplify `_CompleteResult` and what happens with it. I am sure that more than one good solution exists. I wonder if you have any suggestions or thoughts.\n"
     ]
    }
   ],
   "source": [
    "print(nb_false_positives[45681])"
   ]
  },
  {
   "cell_type": "markdown",
   "metadata": {},
   "source": [
    "## Cleaning"
   ]
  },
  {
   "cell_type": "code",
   "execution_count": 282,
   "metadata": {},
   "outputs": [],
   "source": [
    "import pandas as pd\n",
    "import numpy as np\n",
    "import matplotlib.pyplot as plt"
   ]
  },
  {
   "cell_type": "code",
   "execution_count": 283,
   "metadata": {},
   "outputs": [],
   "source": [
    "sec_df = pd.read_csv(\"data/security_issues.csv\")\n",
    "non_sec_df = pd.read_csv(\"data/non-security_issues.csv\")"
   ]
  },
  {
   "cell_type": "code",
   "execution_count": 289,
   "metadata": {},
   "outputs": [],
   "source": [
    "# drop duplicates\n",
    "sec_df = sec_df.drop_duplicates(subset=['title', 'description'])\n",
    "non_sec_df = non_sec_df.drop_duplicates(subset=['title', 'description'])"
   ]
  },
  {
   "cell_type": "code",
   "execution_count": 290,
   "metadata": {},
   "outputs": [],
   "source": [
    "# undersample non-security issues\n",
    "non_sec_df = non_sec_df.sample(n=len(sec_df))"
   ]
  },
  {
   "cell_type": "code",
   "execution_count": 291,
   "metadata": {},
   "outputs": [],
   "source": [
    "# read the terms from the csv file\n",
    "terms_df = pd.read_csv('cybersec_terms.csv', header=None)[0]"
   ]
  },
  {
   "cell_type": "code",
   "execution_count": 292,
   "metadata": {},
   "outputs": [],
   "source": [
    "df = pd.concat([sec_df, non_sec_df]).reset_index(drop=True)\n",
    "df['title_desc'] = df['title'] + ' ' + df['description'].fillna('')"
   ]
  },
  {
   "cell_type": "code",
   "execution_count": 293,
   "metadata": {},
   "outputs": [],
   "source": [
    "# encode df['is_sec'] using label encoder\n",
    "from sklearn.preprocessing import LabelEncoder\n",
    "\n",
    "le = LabelEncoder()\n",
    "y = le.fit_transform(df['is_sec'])"
   ]
  },
  {
   "cell_type": "markdown",
   "metadata": {},
   "source": [
    "### Naive Bayes with CountVectorizer"
   ]
  },
  {
   "cell_type": "code",
   "execution_count": 294,
   "metadata": {},
   "outputs": [],
   "source": [
    "# vectorize df['title_desc'] using count vectorizer\n",
    "from sklearn.feature_extraction.text import CountVectorizer\n",
    "\n",
    "count_vect = CountVectorizer(vocabulary=terms_df)\n",
    "X_count = count_vect.fit_transform(df['title_desc'])"
   ]
  },
  {
   "cell_type": "code",
   "execution_count": 295,
   "metadata": {},
   "outputs": [],
   "source": [
    "# train multinomial naive bayes classifier\n",
    "from sklearn.naive_bayes import MultinomialNB\n",
    "\n",
    "clf = MultinomialNB().fit(X_count, y)\n",
    "y_pred = clf.predict(X_count)"
   ]
  },
  {
   "cell_type": "code",
   "execution_count": 296,
   "metadata": {},
   "outputs": [
    {
     "name": "stdout",
     "output_type": "stream",
     "text": [
      "              precision    recall  f1-score   support\n",
      "\n",
      "           0       0.68      0.85      0.76      9639\n",
      "           1       0.80      0.60      0.69      9639\n",
      "\n",
      "    accuracy                           0.73     19278\n",
      "   macro avg       0.74      0.73      0.72     19278\n",
      "weighted avg       0.74      0.73      0.72     19278\n",
      "\n"
     ]
    }
   ],
   "source": [
    "# show classification report\n",
    "from sklearn.metrics import classification_report\n",
    "\n",
    "print(classification_report(y, y_pred))"
   ]
  },
  {
   "cell_type": "code",
   "execution_count": 297,
   "metadata": {},
   "outputs": [
    {
     "data": {
      "text/plain": [
       "9646     problem with chronology SMS/MMS in Gmail Hello...\n",
       "9649     Simplify TLS logging for the modern pyOpenSSL....\n",
       "9653     Fix DB2 tests failing on Travis with a \"Connec...\n",
       "9662     Netmiko Jump Server Friends,\\r\\r\\nI need help ...\n",
       "9663     Add tool for building DEB/RPM packages Add `ma...\n",
       "                               ...                        \n",
       "19232    Unable to join cluster ## Environment\\r\\r\\n\\r\\...\n",
       "19233    Export services to be exposed as pages We curr...\n",
       "19234    Bump urllib3 from 1.7.1 to 1.24.2 in /deploy B...\n",
       "19261    Crash after open aplication - After Update 1.7...\n",
       "19266    Race condition(s) around handshake timeout fun...\n",
       "Name: title_desc, Length: 1423, dtype: object"
      ]
     },
     "execution_count": 297,
     "metadata": {},
     "output_type": "execute_result"
    }
   ],
   "source": [
    "# show false positives\n",
    "countvec_false_positives = df[y_pred > y]['title_desc']\n",
    "countvec_false_positives"
   ]
  },
  {
   "cell_type": "markdown",
   "metadata": {},
   "source": [
    "### Naive Bayes with TF-IDF"
   ]
  },
  {
   "cell_type": "code",
   "execution_count": 298,
   "metadata": {},
   "outputs": [],
   "source": [
    "# vectorize df['title_desc'] using tfidf vectorizer\n",
    "from sklearn.feature_extraction.text import TfidfVectorizer\n",
    "\n",
    "tfidf_vect = TfidfVectorizer(vocabulary=terms_df)\n",
    "X_tfidf = tfidf_vect.fit_transform(df['title_desc'])"
   ]
  },
  {
   "cell_type": "code",
   "execution_count": 299,
   "metadata": {},
   "outputs": [],
   "source": [
    "# train multinomial naive bayes classifier\n",
    "from sklearn.naive_bayes import MultinomialNB\n",
    "\n",
    "clf = MultinomialNB().fit(X_tfidf, y)\n",
    "y_pred = clf.predict(X_tfidf)"
   ]
  },
  {
   "cell_type": "code",
   "execution_count": 300,
   "metadata": {},
   "outputs": [
    {
     "name": "stdout",
     "output_type": "stream",
     "text": [
      "              precision    recall  f1-score   support\n",
      "\n",
      "           0       0.68      0.88      0.77      9639\n",
      "           1       0.83      0.58      0.68      9639\n",
      "\n",
      "    accuracy                           0.73     19278\n",
      "   macro avg       0.75      0.73      0.73     19278\n",
      "weighted avg       0.75      0.73      0.73     19278\n",
      "\n"
     ]
    }
   ],
   "source": [
    "# show classification report\n",
    "from sklearn.metrics import classification_report\n",
    "\n",
    "print(classification_report(y, y_pred))"
   ]
  },
  {
   "cell_type": "code",
   "execution_count": 301,
   "metadata": {},
   "outputs": [
    {
     "data": {
      "text/plain": [
       "9646     problem with chronology SMS/MMS in Gmail Hello...\n",
       "9649     Simplify TLS logging for the modern pyOpenSSL....\n",
       "9653     Fix DB2 tests failing on Travis with a \"Connec...\n",
       "9662     Netmiko Jump Server Friends,\\r\\r\\nI need help ...\n",
       "9674     Large form is slow in Form Builder in part due...\n",
       "                               ...                        \n",
       "19218    GitWrapper\\GitException in App\\Jobs\\Publish ##...\n",
       "19232    Unable to join cluster ## Environment\\r\\r\\n\\r\\...\n",
       "19234    Bump urllib3 from 1.7.1 to 1.24.2 in /deploy B...\n",
       "19261    Crash after open aplication - After Update 1.7...\n",
       "19266    Race condition(s) around handshake timeout fun...\n",
       "Name: title_desc, Length: 1154, dtype: object"
      ]
     },
     "execution_count": 301,
     "metadata": {},
     "output_type": "execute_result"
    }
   ],
   "source": [
    "# show false positives\n",
    "tfidf_false_positives = df[y_pred > y]['title_desc']\n",
    "tfidf_false_positives"
   ]
  },
  {
   "cell_type": "markdown",
   "metadata": {},
   "source": [
    "### Remove suspicious non-security issues"
   ]
  },
  {
   "cell_type": "markdown",
   "metadata": {},
   "source": [
    "and replace them with issues that don't contain cybersec terms"
   ]
  },
  {
   "cell_type": "code",
   "execution_count": 302,
   "metadata": {},
   "outputs": [
    {
     "data": {
      "text/plain": [
       "9646     problem with chronology SMS/MMS in Gmail Hello...\n",
       "9649     Simplify TLS logging for the modern pyOpenSSL....\n",
       "9653     Fix DB2 tests failing on Travis with a \"Connec...\n",
       "9662     Netmiko Jump Server Friends,\\r\\r\\nI need help ...\n",
       "9663     Add tool for building DEB/RPM packages Add `ma...\n",
       "                               ...                        \n",
       "18178    Templates can be used for \"master\" domains as ...\n",
       "18209    [CI] InternalTestClusterIT testOperationsDurin...\n",
       "18871    npm prune not work for extraneous error #### I...\n",
       "18965    ClockMock autoregister on test subdirectories ...\n",
       "19048    HTTP Request TimeOut errors for Elixir tests i...\n",
       "Name: title_desc, Length: 1468, dtype: object"
      ]
     },
     "execution_count": 302,
     "metadata": {},
     "output_type": "execute_result"
    }
   ],
   "source": [
    "# unite the false positives\n",
    "false_positives = pd.concat([countvec_false_positives, tfidf_false_positives]).drop_duplicates()\n",
    "false_positives"
   ]
  },
  {
   "cell_type": "code",
   "execution_count": 366,
   "metadata": {},
   "outputs": [],
   "source": [
    "# remove issues from df with indices in false_positives.index\n",
    "new_df = df.drop(false_positives.index)"
   ]
  },
  {
   "cell_type": "code",
   "execution_count": 367,
   "metadata": {},
   "outputs": [
    {
     "data": {
      "text/plain": [
       "yes    9639\n",
       "no     8171\n",
       "Name: is_sec, dtype: int64"
      ]
     },
     "execution_count": 367,
     "metadata": {},
     "output_type": "execute_result"
    }
   ],
   "source": [
    "# show the new distribution of security and non-security issues\n",
    "new_df_counts = new_df['is_sec'].value_counts()\n",
    "new_df_counts"
   ]
  },
  {
   "cell_type": "code",
   "execution_count": 368,
   "metadata": {},
   "outputs": [],
   "source": [
    "# read the terms from the csv file\n",
    "terms_df = pd.read_csv('cybersec_terms.csv', header=None)[0]"
   ]
  },
  {
   "cell_type": "code",
   "execution_count": 369,
   "metadata": {},
   "outputs": [],
   "source": [
    "non_sec_df = pd.read_csv(\"data/non-security_issues.csv\")"
   ]
  },
  {
   "cell_type": "code",
   "execution_count": 370,
   "metadata": {},
   "outputs": [],
   "source": [
    "# concatenate titles and descriptions of non-security issues\n",
    "non_sec_df['title_desc'] = non_sec_df['title'] + ' ' + non_sec_df['description']"
   ]
  },
  {
   "cell_type": "code",
   "execution_count": 371,
   "metadata": {},
   "outputs": [],
   "source": [
    "# find non-security issues that are not in new_df\n",
    "new_non_sec = non_sec_df[~non_sec_df['title_desc'].isin(new_df['title_desc'])]"
   ]
  },
  {
   "cell_type": "code",
   "execution_count": 372,
   "metadata": {},
   "outputs": [],
   "source": [
    "# find issues in new_non_sec that don't have any of the terms in terms_df\n",
    "new_non_sec = new_non_sec[new_non_sec['title_desc'].str.contains('|'.join(terms_df)) == False]"
   ]
  },
  {
   "cell_type": "code",
   "execution_count": 373,
   "metadata": {},
   "outputs": [],
   "source": [
    "# delete title_desc duplicates from new_non_sec\n",
    "new_non_sec = new_non_sec.drop_duplicates(subset=['title_desc'])"
   ]
  },
  {
   "cell_type": "code",
   "execution_count": 374,
   "metadata": {},
   "outputs": [],
   "source": [
    "# sample new_df_counts['yes']-new_df_counts['no'] issues from new_non_sec\n",
    "new_non_sec = new_non_sec.sample(\n",
    "    n=new_df_counts['yes']-new_df_counts['no'],\n",
    "    random_state=0,\n",
    ")"
   ]
  },
  {
   "cell_type": "code",
   "execution_count": 375,
   "metadata": {},
   "outputs": [
    {
     "data": {
      "text/html": [
       "<div>\n",
       "<style scoped>\n",
       "    .dataframe tbody tr th:only-of-type {\n",
       "        vertical-align: middle;\n",
       "    }\n",
       "\n",
       "    .dataframe tbody tr th {\n",
       "        vertical-align: top;\n",
       "    }\n",
       "\n",
       "    .dataframe thead th {\n",
       "        text-align: right;\n",
       "    }\n",
       "</style>\n",
       "<table border=\"1\" class=\"dataframe\">\n",
       "  <thead>\n",
       "    <tr style=\"text-align: right;\">\n",
       "      <th></th>\n",
       "      <th>repository</th>\n",
       "      <th>number</th>\n",
       "      <th>title</th>\n",
       "      <th>description</th>\n",
       "      <th>comments</th>\n",
       "      <th>is_pr</th>\n",
       "      <th>labels</th>\n",
       "      <th>is_sec</th>\n",
       "      <th>title_desc</th>\n",
       "    </tr>\n",
       "  </thead>\n",
       "  <tbody>\n",
       "    <tr>\n",
       "      <th>0</th>\n",
       "      <td>matomo-org/matomo</td>\n",
       "      <td>10939</td>\n",
       "      <td>In Personal settings page and API page, only s...</td>\n",
       "      <td>To prevent API token authentication data leaka...</td>\n",
       "      <td>NaN</td>\n",
       "      <td>no</td>\n",
       "      <td>c: Security,</td>\n",
       "      <td>yes</td>\n",
       "      <td>In Personal settings page and API page, only s...</td>\n",
       "    </tr>\n",
       "    <tr>\n",
       "      <th>1</th>\n",
       "      <td>matomo-org/matomo</td>\n",
       "      <td>6678</td>\n",
       "      <td>Task to automatically delete the scheduled rep...</td>\n",
       "      <td>The goal of this issue is to create a task to ...</td>\n",
       "      <td>Likely this is not needed now that reports are...</td>\n",
       "      <td>no</td>\n",
       "      <td>Task,wontfix,c: Security,c: Usability,</td>\n",
       "      <td>yes</td>\n",
       "      <td>Task to automatically delete the scheduled rep...</td>\n",
       "    </tr>\n",
       "    <tr>\n",
       "      <th>2</th>\n",
       "      <td>matomo-org/matomo</td>\n",
       "      <td>11826</td>\n",
       "      <td>Check if prefixurl for api listing starts with...</td>\n",
       "      <td>NaN</td>\n",
       "      <td>NaN</td>\n",
       "      <td>yes</td>\n",
       "      <td>c: Security,not-in-changelog,Needs Review,</td>\n",
       "      <td>yes</td>\n",
       "      <td>Check if prefixurl for api listing starts with...</td>\n",
       "    </tr>\n",
       "    <tr>\n",
       "      <th>3</th>\n",
       "      <td>matomo-org/matomo</td>\n",
       "      <td>17665</td>\n",
       "      <td>Disable logme functionality by default</td>\n",
       "      <td>### Description:\\r\\n\\r\\n\\r\\n\\r\\nLogme function...</td>\n",
       "      <td>@sgiehl should the developer changelog be upda...</td>\n",
       "      <td>yes</td>\n",
       "      <td>c: Security,Needs Review,</td>\n",
       "      <td>yes</td>\n",
       "      <td>Disable logme functionality by default ### Des...</td>\n",
       "    </tr>\n",
       "    <tr>\n",
       "      <th>4</th>\n",
       "      <td>matomo-org/matomo</td>\n",
       "      <td>17545</td>\n",
       "      <td>Ensure login is set for brute force log when 2...</td>\n",
       "      <td>### Description:\\r\\n\\r\\n\\r\\n\\r\\nFollow up to #...</td>\n",
       "      <td>Tested locally, works</td>\n",
       "      <td>yes</td>\n",
       "      <td>c: Security,not-in-changelog,Needs Review,</td>\n",
       "      <td>yes</td>\n",
       "      <td>Ensure login is set for brute force log when 2...</td>\n",
       "    </tr>\n",
       "    <tr>\n",
       "      <th>...</th>\n",
       "      <td>...</td>\n",
       "      <td>...</td>\n",
       "      <td>...</td>\n",
       "      <td>...</td>\n",
       "      <td>...</td>\n",
       "      <td>...</td>\n",
       "      <td>...</td>\n",
       "      <td>...</td>\n",
       "      <td>...</td>\n",
       "    </tr>\n",
       "    <tr>\n",
       "      <th>19273</th>\n",
       "      <td>factor/factor</td>\n",
       "      <td>1339</td>\n",
       "      <td>nth is faster than nth-unsafe in some cases</td>\n",
       "      <td>I noticed that `nth` is faster than `nth-unsaf...</td>\n",
       "      <td>@bjourne or @ajvondrak might be interested in ...</td>\n",
       "      <td>no</td>\n",
       "      <td>compiler,performance,sequences,bits,unsafe,</td>\n",
       "      <td>no</td>\n",
       "      <td>nth is faster than nth-unsafe in some cases I ...</td>\n",
       "    </tr>\n",
       "    <tr>\n",
       "      <th>19274</th>\n",
       "      <td>rails/rails</td>\n",
       "      <td>44292</td>\n",
       "      <td>Not depending on unmaintained dependencies</td>\n",
       "      <td>Hello,\\r\\n\\r\\n\\r\\n\\r\\naccording to https://git...</td>\n",
       "      <td>Rails 7 doesn't have any hard dependency on sp...</td>\n",
       "      <td>no</td>\n",
       "      <td>asset pipeline,</td>\n",
       "      <td>no</td>\n",
       "      <td>Not depending on unmaintained dependencies Hel...</td>\n",
       "    </tr>\n",
       "    <tr>\n",
       "      <th>19275</th>\n",
       "      <td>ohmyzsh/ohmyzsh</td>\n",
       "      <td>10979</td>\n",
       "      <td>I'm unable to run existing NPM packages even t...</td>\n",
       "      <td>### Describe the bug\\r\\n\\r\\nI've installed few...</td>\n",
       "      <td>Are you using `nvm` plugin? I don't use nvm ac...</td>\n",
       "      <td>no</td>\n",
       "      <td>Resolution: not our issue,</td>\n",
       "      <td>no</td>\n",
       "      <td>I'm unable to run existing NPM packages even t...</td>\n",
       "    </tr>\n",
       "    <tr>\n",
       "      <th>19276</th>\n",
       "      <td>showdownjs/showdown</td>\n",
       "      <td>64</td>\n",
       "      <td>a bug about options！</td>\n",
       "      <td>call:\\r\\nvar converter = new Showdown.converte...</td>\n",
       "      <td>Should be fixed with the new extension loading...</td>\n",
       "      <td>yes</td>\n",
       "      <td>bug,</td>\n",
       "      <td>no</td>\n",
       "      <td>a bug about options！ call:\\r\\nvar converter = ...</td>\n",
       "    </tr>\n",
       "    <tr>\n",
       "      <th>19277</th>\n",
       "      <td>matomo-org/matomo</td>\n",
       "      <td>18597</td>\n",
       "      <td>fix notice when generating documentation</td>\n",
       "      <td>fix a notice when generating the documentation...</td>\n",
       "      <td>Hm... this is weird. Logically the change make...</td>\n",
       "      <td>yes</td>\n",
       "      <td>not-in-changelog,Needs Review,</td>\n",
       "      <td>no</td>\n",
       "      <td>fix notice when generating documentation fix a...</td>\n",
       "    </tr>\n",
       "  </tbody>\n",
       "</table>\n",
       "<p>19278 rows × 9 columns</p>\n",
       "</div>"
      ],
      "text/plain": [
       "                repository  number  \\\n",
       "0        matomo-org/matomo   10939   \n",
       "1        matomo-org/matomo    6678   \n",
       "2        matomo-org/matomo   11826   \n",
       "3        matomo-org/matomo   17665   \n",
       "4        matomo-org/matomo   17545   \n",
       "...                    ...     ...   \n",
       "19273        factor/factor    1339   \n",
       "19274          rails/rails   44292   \n",
       "19275      ohmyzsh/ohmyzsh   10979   \n",
       "19276  showdownjs/showdown      64   \n",
       "19277    matomo-org/matomo   18597   \n",
       "\n",
       "                                                   title  \\\n",
       "0      In Personal settings page and API page, only s...   \n",
       "1      Task to automatically delete the scheduled rep...   \n",
       "2      Check if prefixurl for api listing starts with...   \n",
       "3                 Disable logme functionality by default   \n",
       "4      Ensure login is set for brute force log when 2...   \n",
       "...                                                  ...   \n",
       "19273        nth is faster than nth-unsafe in some cases   \n",
       "19274         Not depending on unmaintained dependencies   \n",
       "19275  I'm unable to run existing NPM packages even t...   \n",
       "19276                               a bug about options！   \n",
       "19277           fix notice when generating documentation   \n",
       "\n",
       "                                             description  \\\n",
       "0      To prevent API token authentication data leaka...   \n",
       "1      The goal of this issue is to create a task to ...   \n",
       "2                                                    NaN   \n",
       "3      ### Description:\\r\\n\\r\\n\\r\\n\\r\\nLogme function...   \n",
       "4      ### Description:\\r\\n\\r\\n\\r\\n\\r\\nFollow up to #...   \n",
       "...                                                  ...   \n",
       "19273  I noticed that `nth` is faster than `nth-unsaf...   \n",
       "19274  Hello,\\r\\n\\r\\n\\r\\n\\r\\naccording to https://git...   \n",
       "19275  ### Describe the bug\\r\\n\\r\\nI've installed few...   \n",
       "19276  call:\\r\\nvar converter = new Showdown.converte...   \n",
       "19277  fix a notice when generating the documentation...   \n",
       "\n",
       "                                                comments is_pr  \\\n",
       "0                                                    NaN    no   \n",
       "1      Likely this is not needed now that reports are...    no   \n",
       "2                                                    NaN   yes   \n",
       "3      @sgiehl should the developer changelog be upda...   yes   \n",
       "4                                  Tested locally, works   yes   \n",
       "...                                                  ...   ...   \n",
       "19273  @bjourne or @ajvondrak might be interested in ...    no   \n",
       "19274  Rails 7 doesn't have any hard dependency on sp...    no   \n",
       "19275  Are you using `nvm` plugin? I don't use nvm ac...    no   \n",
       "19276  Should be fixed with the new extension loading...   yes   \n",
       "19277  Hm... this is weird. Logically the change make...   yes   \n",
       "\n",
       "                                            labels is_sec  \\\n",
       "0                                     c: Security,    yes   \n",
       "1           Task,wontfix,c: Security,c: Usability,    yes   \n",
       "2       c: Security,not-in-changelog,Needs Review,    yes   \n",
       "3                        c: Security,Needs Review,    yes   \n",
       "4       c: Security,not-in-changelog,Needs Review,    yes   \n",
       "...                                            ...    ...   \n",
       "19273  compiler,performance,sequences,bits,unsafe,     no   \n",
       "19274                              asset pipeline,     no   \n",
       "19275                   Resolution: not our issue,     no   \n",
       "19276                                         bug,     no   \n",
       "19277               not-in-changelog,Needs Review,     no   \n",
       "\n",
       "                                              title_desc  \n",
       "0      In Personal settings page and API page, only s...  \n",
       "1      Task to automatically delete the scheduled rep...  \n",
       "2      Check if prefixurl for api listing starts with...  \n",
       "3      Disable logme functionality by default ### Des...  \n",
       "4      Ensure login is set for brute force log when 2...  \n",
       "...                                                  ...  \n",
       "19273  nth is faster than nth-unsafe in some cases I ...  \n",
       "19274  Not depending on unmaintained dependencies Hel...  \n",
       "19275  I'm unable to run existing NPM packages even t...  \n",
       "19276  a bug about options！ call:\\r\\nvar converter = ...  \n",
       "19277  fix notice when generating documentation fix a...  \n",
       "\n",
       "[19278 rows x 9 columns]"
      ]
     },
     "execution_count": 375,
     "metadata": {},
     "output_type": "execute_result"
    }
   ],
   "source": [
    "# add new_non_sec to new_df\n",
    "new_df = pd.concat([new_df, new_non_sec]).reset_index(drop=True)\n",
    "new_df"
   ]
  },
  {
   "cell_type": "code",
   "execution_count": 376,
   "metadata": {},
   "outputs": [
    {
     "data": {
      "text/plain": [
       "yes    9639\n",
       "no     9639\n",
       "Name: is_sec, dtype: int64"
      ]
     },
     "execution_count": 376,
     "metadata": {},
     "output_type": "execute_result"
    }
   ],
   "source": [
    "# show the new distribution of security and non-security issues\n",
    "new_df['is_sec'].value_counts()"
   ]
  },
  {
   "cell_type": "code",
   "execution_count": 379,
   "metadata": {},
   "outputs": [],
   "source": [
    "# delete title_desc duplicates from new_df\n",
    "new_df = new_df.drop_duplicates(subset=['title_desc'], keep=False)"
   ]
  },
  {
   "cell_type": "code",
   "execution_count": 380,
   "metadata": {},
   "outputs": [
    {
     "data": {
      "text/plain": [
       "yes    9638\n",
       "no     9638\n",
       "Name: is_sec, dtype: int64"
      ]
     },
     "execution_count": 380,
     "metadata": {},
     "output_type": "execute_result"
    }
   ],
   "source": [
    "# show the new distribution of security and non-security issues\n",
    "new_df['is_sec'].value_counts()"
   ]
  },
  {
   "cell_type": "code",
   "execution_count": 381,
   "metadata": {},
   "outputs": [],
   "source": [
    "# savce new_df to csv\n",
    "new_df.to_csv('data/new_issues.csv', index=False)"
   ]
  },
  {
   "cell_type": "code",
   "execution_count": null,
   "metadata": {},
   "outputs": [],
   "source": []
  }
 ],
 "metadata": {
  "kernelspec": {
   "display_name": "Python 3.9.12 ('base')",
   "language": "python",
   "name": "python3"
  },
  "language_info": {
   "codemirror_mode": {
    "name": "ipython",
    "version": 3
   },
   "file_extension": ".py",
   "mimetype": "text/x-python",
   "name": "python",
   "nbconvert_exporter": "python",
   "pygments_lexer": "ipython3",
   "version": "3.9.12"
  },
  "orig_nbformat": 4,
  "vscode": {
   "interpreter": {
    "hash": "454c98ae2731e865a69a0b883f25a1cfa6b0f63785a62bbc0572ffd435d4c747"
   }
  }
 },
 "nbformat": 4,
 "nbformat_minor": 2
}
